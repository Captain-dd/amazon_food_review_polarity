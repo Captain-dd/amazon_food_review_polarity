{
 "cells": [
  {
   "cell_type": "markdown",
   "metadata": {
    "id": "X-cp_kAxCAY2"
   },
   "source": [
    "# Amazon Fine Food Reviews Analysis\n",
    "\n",
    "\n",
    "Data Source: https://www.kaggle.com/snap/amazon-fine-food-reviews <br>\n",
    "\n",
    "EDA: https://nycdatascience.com/blog/student-works/amazon-fine-foods-visualization/\n",
    "\n",
    "\n",
    "The Amazon Fine Food Reviews dataset consists of reviews of fine foods from Amazon.<br>\n",
    "\n",
    "Number of reviews: 568,454<br>\n",
    "Number of users: 256,059<br>\n",
    "Number of products: 74,258<br>\n",
    "Timespan: Oct 1999 - Oct 2012<br>\n",
    "Number of Attributes/Columns in data: 10 \n",
    "\n",
    "Attribute Information:\n",
    "\n",
    "1. Id\n",
    "2. ProductId - unique identifier for the product\n",
    "3. UserId - unqiue identifier for the user\n",
    "4. ProfileName\n",
    "5. HelpfulnessNumerator - number of users who found the review helpful\n",
    "6. HelpfulnessDenominator - number of users who indicated whether they found the review helpful or not\n",
    "7. Score - rating between 1 and 5\n",
    "8. Time - timestamp for the review\n",
    "9. Summary - brief summary of the review\n",
    "10. Text - text of the review\n",
    "\n",
    "\n",
    "#### Objective:\n",
    "Given a review, determine whether the review is positive (Rating of 4 or 5) or negative (rating of 1 or 2).\n",
    "\n",
    "<br>\n",
    "[Q] How to determine if a review is positive or negative?<br>\n",
    "<br> \n",
    "[Ans] We could use the Score/Rating. A rating of 4 or 5 could be cosnidered a positive review. A review of 1 or 2 could be considered negative. A review of 3 is nuetral and ignored. This is an approximate and proxy way of determining the polarity (positivity/negativity) of a review.\n",
    "\n",
    "\n"
   ]
  },
  {
   "cell_type": "markdown",
   "metadata": {
    "id": "WHC_UQTuCAY4"
   },
   "source": [
    "## Loading the data\n",
    "\n",
    "The dataset is available in two forms\n",
    "1. .csv file\n",
    "2. SQLite Database\n",
    "\n",
    "In order to load the data, We have used the SQLITE dataset as it easier to query the data and visualise the data efficiently.\n",
    "<br> \n",
    "\n",
    "Here as we only want to get the global sentiment of the recommendations (positive or negative), we will purposefully ignore all Scores equal to 3. If the score id above 3, then the recommendation wil be set to \"positive\". Otherwise, it will be set to \"negative\"."
   ]
  },
  {
   "cell_type": "code",
   "execution_count": 1,
   "metadata": {
    "id": "PvDdRsHgCAY5",
    "outputId": "65b237f2-2ead-4721-f95a-15ed0bb06d04"
   },
   "outputs": [],
   "source": [
    "%matplotlib inline\n",
    "import warnings\n",
    "warnings.filterwarnings(\"ignore\")\n",
    "\n",
    "\n",
    "\n",
    "import sqlite3\n",
    "import pandas as pd\n",
    "import numpy as np\n",
    "import nltk\n",
    "import string\n",
    "import matplotlib.pyplot as plt\n",
    "import seaborn as sns\n",
    "from sklearn.feature_extraction.text import TfidfTransformer\n",
    "from sklearn.feature_extraction.text import TfidfVectorizer\n",
    "\n",
    "from sklearn.feature_extraction.text import CountVectorizer\n",
    "from sklearn.metrics import confusion_matrix\n",
    "from sklearn import metrics\n",
    "from sklearn.metrics import roc_curve, auc\n",
    "from nltk.stem.porter import PorterStemmer\n",
    "\n",
    "import re\n",
    "# Tutorial about Python regular expressions: https://pymotw.com/2/re/\n",
    "import string\n",
    "from nltk.corpus import stopwords\n",
    "from nltk.stem import PorterStemmer\n",
    "from nltk.stem.wordnet import WordNetLemmatizer\n",
    "\n",
    "from gensim.models import Word2Vec\n",
    "from gensim.models import KeyedVectors\n",
    "import pickle\n",
    "\n",
    "from tqdm import tqdm\n",
    "import os"
   ]
  },
  {
   "cell_type": "markdown",
   "metadata": {
    "id": "QOI7X2YgCAY_"
   },
   "source": [
    "# [1]. Reading Data"
   ]
  },
  {
   "cell_type": "code",
   "execution_count": 2,
   "metadata": {
    "code_folding": [],
    "id": "3iYH2p1ECAZA",
    "outputId": "3feca330-8e21-4173-ad7c-88eb4d81668e"
   },
   "outputs": [
    {
     "name": "stdout",
     "output_type": "stream",
     "text": [
      "Number of data points in our data (5000, 10)\n"
     ]
    },
    {
     "data": {
      "text/html": [
       "<div>\n",
       "<style scoped>\n",
       "    .dataframe tbody tr th:only-of-type {\n",
       "        vertical-align: middle;\n",
       "    }\n",
       "\n",
       "    .dataframe tbody tr th {\n",
       "        vertical-align: top;\n",
       "    }\n",
       "\n",
       "    .dataframe thead th {\n",
       "        text-align: right;\n",
       "    }\n",
       "</style>\n",
       "<table border=\"1\" class=\"dataframe\">\n",
       "  <thead>\n",
       "    <tr style=\"text-align: right;\">\n",
       "      <th></th>\n",
       "      <th>Id</th>\n",
       "      <th>ProductId</th>\n",
       "      <th>UserId</th>\n",
       "      <th>ProfileName</th>\n",
       "      <th>HelpfulnessNumerator</th>\n",
       "      <th>HelpfulnessDenominator</th>\n",
       "      <th>Score</th>\n",
       "      <th>Time</th>\n",
       "      <th>Summary</th>\n",
       "      <th>Text</th>\n",
       "    </tr>\n",
       "  </thead>\n",
       "  <tbody>\n",
       "    <tr>\n",
       "      <th>0</th>\n",
       "      <td>1</td>\n",
       "      <td>B001E4KFG0</td>\n",
       "      <td>A3SGXH7AUHU8GW</td>\n",
       "      <td>delmartian</td>\n",
       "      <td>1</td>\n",
       "      <td>1</td>\n",
       "      <td>1</td>\n",
       "      <td>1303862400</td>\n",
       "      <td>Good Quality Dog Food</td>\n",
       "      <td>I have bought several of the Vitality canned d...</td>\n",
       "    </tr>\n",
       "    <tr>\n",
       "      <th>1</th>\n",
       "      <td>2</td>\n",
       "      <td>B00813GRG4</td>\n",
       "      <td>A1D87F6ZCVE5NK</td>\n",
       "      <td>dll pa</td>\n",
       "      <td>0</td>\n",
       "      <td>0</td>\n",
       "      <td>0</td>\n",
       "      <td>1346976000</td>\n",
       "      <td>Not as Advertised</td>\n",
       "      <td>Product arrived labeled as Jumbo Salted Peanut...</td>\n",
       "    </tr>\n",
       "    <tr>\n",
       "      <th>2</th>\n",
       "      <td>3</td>\n",
       "      <td>B000LQOCH0</td>\n",
       "      <td>ABXLMWJIXXAIN</td>\n",
       "      <td>Natalia Corres \"Natalia Corres\"</td>\n",
       "      <td>1</td>\n",
       "      <td>1</td>\n",
       "      <td>1</td>\n",
       "      <td>1219017600</td>\n",
       "      <td>\"Delight\" says it all</td>\n",
       "      <td>This is a confection that has been around a fe...</td>\n",
       "    </tr>\n",
       "  </tbody>\n",
       "</table>\n",
       "</div>"
      ],
      "text/plain": [
       "   Id   ProductId          UserId                      ProfileName  \\\n",
       "0   1  B001E4KFG0  A3SGXH7AUHU8GW                       delmartian   \n",
       "1   2  B00813GRG4  A1D87F6ZCVE5NK                           dll pa   \n",
       "2   3  B000LQOCH0   ABXLMWJIXXAIN  Natalia Corres \"Natalia Corres\"   \n",
       "\n",
       "   HelpfulnessNumerator  HelpfulnessDenominator  Score        Time  \\\n",
       "0                     1                       1      1  1303862400   \n",
       "1                     0                       0      0  1346976000   \n",
       "2                     1                       1      1  1219017600   \n",
       "\n",
       "                 Summary                                               Text  \n",
       "0  Good Quality Dog Food  I have bought several of the Vitality canned d...  \n",
       "1      Not as Advertised  Product arrived labeled as Jumbo Salted Peanut...  \n",
       "2  \"Delight\" says it all  This is a confection that has been around a fe...  "
      ]
     },
     "execution_count": 2,
     "metadata": {},
     "output_type": "execute_result"
    }
   ],
   "source": [
    "\n",
    "# using the SQLite Table to read data.\n",
    "con = sqlite3.connect('database.sqlite') \n",
    "#filtering only positive and negative reviews i.e. \n",
    "# not taking into consideration those reviews with Score=3\n",
    "# SELECT * FROM Reviews WHERE Score != 3 LIMIT 500000, will give top 500000 data points\n",
    "# you can change the number to any other number based on your computing power\n",
    "\n",
    "# filtered_data = pd.read_sql_query(\"\"\" SELECT * FROM Reviews WHERE Score != 3 LIMIT 500000\"\"\", con) \n",
    "# for tsne assignment you can take 5k data points\n",
    "\n",
    "filtered_data = pd.read_sql_query(\"\"\" SELECT * FROM Reviews WHERE Score != 3 LIMIT 5000\"\"\", con) \n",
    "\n",
    "# Give reviews with Score>3 a positive rating, and reviews with a score<3 a negative rating.\n",
    "def partition(x):\n",
    "    if x < 3:\n",
    "        return 0\n",
    "    return 1\n",
    "\n",
    "#changing reviews with score less than 3 to be positive and vice-versa\n",
    "actualScore = filtered_data['Score']\n",
    "positiveNegative = actualScore.map(partition) \n",
    "filtered_data['Score'] = positiveNegative\n",
    "print(\"Number of data points in our data\", filtered_data.shape)\n",
    "filtered_data.head(3)"
   ]
  },
  {
   "cell_type": "code",
   "execution_count": 3,
   "metadata": {
    "id": "I1jf03kECAZF"
   },
   "outputs": [],
   "source": [
    "display = pd.read_sql_query(\"\"\"\n",
    "SELECT UserId, ProductId, ProfileName, Time, Score, Text, COUNT(*)\n",
    "FROM Reviews\n",
    "GROUP BY UserId\n",
    "HAVING COUNT(*)>1\n",
    "\"\"\", con)"
   ]
  },
  {
   "cell_type": "code",
   "execution_count": 4,
   "metadata": {
    "id": "Ja8xSefOCAZH",
    "outputId": "2cbd0705-618b-47cf-ce18-f3d0d4063cbf"
   },
   "outputs": [
    {
     "name": "stdout",
     "output_type": "stream",
     "text": [
      "(80668, 7)\n"
     ]
    },
    {
     "data": {
      "text/html": [
       "<div>\n",
       "<style scoped>\n",
       "    .dataframe tbody tr th:only-of-type {\n",
       "        vertical-align: middle;\n",
       "    }\n",
       "\n",
       "    .dataframe tbody tr th {\n",
       "        vertical-align: top;\n",
       "    }\n",
       "\n",
       "    .dataframe thead th {\n",
       "        text-align: right;\n",
       "    }\n",
       "</style>\n",
       "<table border=\"1\" class=\"dataframe\">\n",
       "  <thead>\n",
       "    <tr style=\"text-align: right;\">\n",
       "      <th></th>\n",
       "      <th>UserId</th>\n",
       "      <th>ProductId</th>\n",
       "      <th>ProfileName</th>\n",
       "      <th>Time</th>\n",
       "      <th>Score</th>\n",
       "      <th>Text</th>\n",
       "      <th>COUNT(*)</th>\n",
       "    </tr>\n",
       "  </thead>\n",
       "  <tbody>\n",
       "    <tr>\n",
       "      <th>0</th>\n",
       "      <td>#oc-R115TNMSPFT9I7</td>\n",
       "      <td>B005ZBZLT4</td>\n",
       "      <td>Breyton</td>\n",
       "      <td>1331510400</td>\n",
       "      <td>2</td>\n",
       "      <td>Overall its just OK when considering the price...</td>\n",
       "      <td>2</td>\n",
       "    </tr>\n",
       "    <tr>\n",
       "      <th>1</th>\n",
       "      <td>#oc-R11D9D7SHXIJB9</td>\n",
       "      <td>B005HG9ESG</td>\n",
       "      <td>Louis E. Emory \"hoppy\"</td>\n",
       "      <td>1342396800</td>\n",
       "      <td>5</td>\n",
       "      <td>My wife has recurring extreme muscle spasms, u...</td>\n",
       "      <td>3</td>\n",
       "    </tr>\n",
       "    <tr>\n",
       "      <th>2</th>\n",
       "      <td>#oc-R11DNU2NBKQ23Z</td>\n",
       "      <td>B005ZBZLT4</td>\n",
       "      <td>Kim Cieszykowski</td>\n",
       "      <td>1348531200</td>\n",
       "      <td>1</td>\n",
       "      <td>This coffee is horrible and unfortunately not ...</td>\n",
       "      <td>2</td>\n",
       "    </tr>\n",
       "    <tr>\n",
       "      <th>3</th>\n",
       "      <td>#oc-R11O5J5ZVQE25C</td>\n",
       "      <td>B005HG9ESG</td>\n",
       "      <td>Penguin Chick</td>\n",
       "      <td>1346889600</td>\n",
       "      <td>5</td>\n",
       "      <td>This will be the bottle that you grab from the...</td>\n",
       "      <td>3</td>\n",
       "    </tr>\n",
       "    <tr>\n",
       "      <th>4</th>\n",
       "      <td>#oc-R12KPBODL2B5ZD</td>\n",
       "      <td>B007OSBEV0</td>\n",
       "      <td>Christopher P. Presta</td>\n",
       "      <td>1348617600</td>\n",
       "      <td>1</td>\n",
       "      <td>I didnt like this coffee. Instead of telling y...</td>\n",
       "      <td>2</td>\n",
       "    </tr>\n",
       "  </tbody>\n",
       "</table>\n",
       "</div>"
      ],
      "text/plain": [
       "               UserId   ProductId             ProfileName        Time  Score  \\\n",
       "0  #oc-R115TNMSPFT9I7  B005ZBZLT4                 Breyton  1331510400      2   \n",
       "1  #oc-R11D9D7SHXIJB9  B005HG9ESG  Louis E. Emory \"hoppy\"  1342396800      5   \n",
       "2  #oc-R11DNU2NBKQ23Z  B005ZBZLT4        Kim Cieszykowski  1348531200      1   \n",
       "3  #oc-R11O5J5ZVQE25C  B005HG9ESG           Penguin Chick  1346889600      5   \n",
       "4  #oc-R12KPBODL2B5ZD  B007OSBEV0   Christopher P. Presta  1348617600      1   \n",
       "\n",
       "                                                Text  COUNT(*)  \n",
       "0  Overall its just OK when considering the price...         2  \n",
       "1  My wife has recurring extreme muscle spasms, u...         3  \n",
       "2  This coffee is horrible and unfortunately not ...         2  \n",
       "3  This will be the bottle that you grab from the...         3  \n",
       "4  I didnt like this coffee. Instead of telling y...         2  "
      ]
     },
     "execution_count": 4,
     "metadata": {},
     "output_type": "execute_result"
    }
   ],
   "source": [
    "print(display.shape)\n",
    "display.head()"
   ]
  },
  {
   "cell_type": "code",
   "execution_count": 5,
   "metadata": {
    "id": "u5ctUTW-CAZK",
    "outputId": "41439570-0ff9-44bb-9c05-e87bcb3dd6b7"
   },
   "outputs": [
    {
     "data": {
      "text/html": [
       "<div>\n",
       "<style scoped>\n",
       "    .dataframe tbody tr th:only-of-type {\n",
       "        vertical-align: middle;\n",
       "    }\n",
       "\n",
       "    .dataframe tbody tr th {\n",
       "        vertical-align: top;\n",
       "    }\n",
       "\n",
       "    .dataframe thead th {\n",
       "        text-align: right;\n",
       "    }\n",
       "</style>\n",
       "<table border=\"1\" class=\"dataframe\">\n",
       "  <thead>\n",
       "    <tr style=\"text-align: right;\">\n",
       "      <th></th>\n",
       "      <th>UserId</th>\n",
       "      <th>ProductId</th>\n",
       "      <th>ProfileName</th>\n",
       "      <th>Time</th>\n",
       "      <th>Score</th>\n",
       "      <th>Text</th>\n",
       "      <th>COUNT(*)</th>\n",
       "    </tr>\n",
       "  </thead>\n",
       "  <tbody>\n",
       "    <tr>\n",
       "      <th>80638</th>\n",
       "      <td>AZY10LLTJ71NX</td>\n",
       "      <td>B001ATMQK2</td>\n",
       "      <td>undertheshrine \"undertheshrine\"</td>\n",
       "      <td>1296691200</td>\n",
       "      <td>5</td>\n",
       "      <td>I bought this 6 pack because for the price tha...</td>\n",
       "      <td>5</td>\n",
       "    </tr>\n",
       "  </tbody>\n",
       "</table>\n",
       "</div>"
      ],
      "text/plain": [
       "              UserId   ProductId                      ProfileName        Time  \\\n",
       "80638  AZY10LLTJ71NX  B001ATMQK2  undertheshrine \"undertheshrine\"  1296691200   \n",
       "\n",
       "       Score                                               Text  COUNT(*)  \n",
       "80638      5  I bought this 6 pack because for the price tha...         5  "
      ]
     },
     "execution_count": 5,
     "metadata": {},
     "output_type": "execute_result"
    }
   ],
   "source": [
    "display[display['UserId']=='AZY10LLTJ71NX']"
   ]
  },
  {
   "cell_type": "code",
   "execution_count": 6,
   "metadata": {
    "id": "tiaXnkZxCAZO",
    "outputId": "0bbd60e6-e66b-4f20-9060-bf0cfe143b1f"
   },
   "outputs": [
    {
     "data": {
      "text/plain": [
       "393063"
      ]
     },
     "execution_count": 6,
     "metadata": {},
     "output_type": "execute_result"
    }
   ],
   "source": [
    "display['COUNT(*)'].sum()"
   ]
  },
  {
   "cell_type": "markdown",
   "metadata": {
    "id": "TX5b3dc5CAZS"
   },
   "source": [
    "#  Exploratory Data Analysis\n",
    "\n",
    "## [2] Data Cleaning: Deduplication\n",
    "\n",
    "It is observed (as shown in the table below) that the reviews data had many duplicate entries. Hence it was necessary to remove duplicates in order to get unbiased results for the analysis of the data.  Following is an example:"
   ]
  },
  {
   "cell_type": "code",
   "execution_count": 7,
   "metadata": {
    "id": "4jW_0WxCCAZT",
    "outputId": "4e526ab2-98f3-46ae-93dc-3e061cb06d59",
    "scrolled": false
   },
   "outputs": [
    {
     "data": {
      "text/html": [
       "<div>\n",
       "<style scoped>\n",
       "    .dataframe tbody tr th:only-of-type {\n",
       "        vertical-align: middle;\n",
       "    }\n",
       "\n",
       "    .dataframe tbody tr th {\n",
       "        vertical-align: top;\n",
       "    }\n",
       "\n",
       "    .dataframe thead th {\n",
       "        text-align: right;\n",
       "    }\n",
       "</style>\n",
       "<table border=\"1\" class=\"dataframe\">\n",
       "  <thead>\n",
       "    <tr style=\"text-align: right;\">\n",
       "      <th></th>\n",
       "      <th>Id</th>\n",
       "      <th>ProductId</th>\n",
       "      <th>UserId</th>\n",
       "      <th>ProfileName</th>\n",
       "      <th>HelpfulnessNumerator</th>\n",
       "      <th>HelpfulnessDenominator</th>\n",
       "      <th>Score</th>\n",
       "      <th>Time</th>\n",
       "      <th>Summary</th>\n",
       "      <th>Text</th>\n",
       "    </tr>\n",
       "  </thead>\n",
       "  <tbody>\n",
       "    <tr>\n",
       "      <th>0</th>\n",
       "      <td>78445</td>\n",
       "      <td>B000HDL1RQ</td>\n",
       "      <td>AR5J8UI46CURR</td>\n",
       "      <td>Geetha Krishnan</td>\n",
       "      <td>2</td>\n",
       "      <td>2</td>\n",
       "      <td>5</td>\n",
       "      <td>1199577600</td>\n",
       "      <td>LOACKER QUADRATINI VANILLA WAFERS</td>\n",
       "      <td>DELICIOUS WAFERS. I FIND THAT EUROPEAN WAFERS ...</td>\n",
       "    </tr>\n",
       "    <tr>\n",
       "      <th>1</th>\n",
       "      <td>138317</td>\n",
       "      <td>B000HDOPYC</td>\n",
       "      <td>AR5J8UI46CURR</td>\n",
       "      <td>Geetha Krishnan</td>\n",
       "      <td>2</td>\n",
       "      <td>2</td>\n",
       "      <td>5</td>\n",
       "      <td>1199577600</td>\n",
       "      <td>LOACKER QUADRATINI VANILLA WAFERS</td>\n",
       "      <td>DELICIOUS WAFERS. I FIND THAT EUROPEAN WAFERS ...</td>\n",
       "    </tr>\n",
       "    <tr>\n",
       "      <th>2</th>\n",
       "      <td>138277</td>\n",
       "      <td>B000HDOPYM</td>\n",
       "      <td>AR5J8UI46CURR</td>\n",
       "      <td>Geetha Krishnan</td>\n",
       "      <td>2</td>\n",
       "      <td>2</td>\n",
       "      <td>5</td>\n",
       "      <td>1199577600</td>\n",
       "      <td>LOACKER QUADRATINI VANILLA WAFERS</td>\n",
       "      <td>DELICIOUS WAFERS. I FIND THAT EUROPEAN WAFERS ...</td>\n",
       "    </tr>\n",
       "    <tr>\n",
       "      <th>3</th>\n",
       "      <td>73791</td>\n",
       "      <td>B000HDOPZG</td>\n",
       "      <td>AR5J8UI46CURR</td>\n",
       "      <td>Geetha Krishnan</td>\n",
       "      <td>2</td>\n",
       "      <td>2</td>\n",
       "      <td>5</td>\n",
       "      <td>1199577600</td>\n",
       "      <td>LOACKER QUADRATINI VANILLA WAFERS</td>\n",
       "      <td>DELICIOUS WAFERS. I FIND THAT EUROPEAN WAFERS ...</td>\n",
       "    </tr>\n",
       "    <tr>\n",
       "      <th>4</th>\n",
       "      <td>155049</td>\n",
       "      <td>B000PAQ75C</td>\n",
       "      <td>AR5J8UI46CURR</td>\n",
       "      <td>Geetha Krishnan</td>\n",
       "      <td>2</td>\n",
       "      <td>2</td>\n",
       "      <td>5</td>\n",
       "      <td>1199577600</td>\n",
       "      <td>LOACKER QUADRATINI VANILLA WAFERS</td>\n",
       "      <td>DELICIOUS WAFERS. I FIND THAT EUROPEAN WAFERS ...</td>\n",
       "    </tr>\n",
       "  </tbody>\n",
       "</table>\n",
       "</div>"
      ],
      "text/plain": [
       "       Id   ProductId         UserId      ProfileName  HelpfulnessNumerator  \\\n",
       "0   78445  B000HDL1RQ  AR5J8UI46CURR  Geetha Krishnan                     2   \n",
       "1  138317  B000HDOPYC  AR5J8UI46CURR  Geetha Krishnan                     2   \n",
       "2  138277  B000HDOPYM  AR5J8UI46CURR  Geetha Krishnan                     2   \n",
       "3   73791  B000HDOPZG  AR5J8UI46CURR  Geetha Krishnan                     2   \n",
       "4  155049  B000PAQ75C  AR5J8UI46CURR  Geetha Krishnan                     2   \n",
       "\n",
       "   HelpfulnessDenominator  Score        Time  \\\n",
       "0                       2      5  1199577600   \n",
       "1                       2      5  1199577600   \n",
       "2                       2      5  1199577600   \n",
       "3                       2      5  1199577600   \n",
       "4                       2      5  1199577600   \n",
       "\n",
       "                             Summary  \\\n",
       "0  LOACKER QUADRATINI VANILLA WAFERS   \n",
       "1  LOACKER QUADRATINI VANILLA WAFERS   \n",
       "2  LOACKER QUADRATINI VANILLA WAFERS   \n",
       "3  LOACKER QUADRATINI VANILLA WAFERS   \n",
       "4  LOACKER QUADRATINI VANILLA WAFERS   \n",
       "\n",
       "                                                Text  \n",
       "0  DELICIOUS WAFERS. I FIND THAT EUROPEAN WAFERS ...  \n",
       "1  DELICIOUS WAFERS. I FIND THAT EUROPEAN WAFERS ...  \n",
       "2  DELICIOUS WAFERS. I FIND THAT EUROPEAN WAFERS ...  \n",
       "3  DELICIOUS WAFERS. I FIND THAT EUROPEAN WAFERS ...  \n",
       "4  DELICIOUS WAFERS. I FIND THAT EUROPEAN WAFERS ...  "
      ]
     },
     "execution_count": 7,
     "metadata": {},
     "output_type": "execute_result"
    }
   ],
   "source": [
    "display= pd.read_sql_query(\"\"\"\n",
    "SELECT *\n",
    "FROM Reviews\n",
    "WHERE Score != 3 AND UserId=\"AR5J8UI46CURR\"\n",
    "ORDER BY ProductID\n",
    "\"\"\", con)\n",
    "display.head()"
   ]
  },
  {
   "cell_type": "markdown",
   "metadata": {
    "id": "BzVTlHiMCAZV"
   },
   "source": [
    "As can be seen above the same user has multiple reviews of the with the same values for HelpfulnessNumerator, HelpfulnessDenominator, Score, Time, Summary and Text  and on doing analysis it was found that <br>\n",
    "<br> \n",
    "ProductId=B000HDOPZG was Loacker Quadratini Vanilla Wafer Cookies, 8.82-Ounce Packages (Pack of 8)<br>\n",
    "<br> \n",
    "ProductId=B000HDL1RQ was Loacker Quadratini Lemon Wafer Cookies, 8.82-Ounce Packages (Pack of 8) and so on<br>\n",
    "\n",
    "It was inferred after analysis that reviews with same parameters other than ProductId belonged to the same product just having different flavour or quantity. Hence in order to reduce redundancy it was decided to eliminate the rows having same parameters.<br>\n",
    "\n",
    "The method used for the same was that we first sort the data according to ProductId and then just keep the first similar product review and delelte the others. for eg. in the above just the review for ProductId=B000HDL1RQ remains. This method ensures that there is only one representative for each product and deduplication without sorting would lead to possibility of different representatives still existing for the same product."
   ]
  },
  {
   "cell_type": "code",
   "execution_count": 8,
   "metadata": {
    "id": "DGy2NM7BCAZX"
   },
   "outputs": [],
   "source": [
    "#Sorting data according to ProductId in ascending order\n",
    "sorted_data=filtered_data.sort_values('ProductId', axis=0, ascending=True, inplace=False, kind='quicksort', na_position='last')"
   ]
  },
  {
   "cell_type": "code",
   "execution_count": 9,
   "metadata": {
    "id": "8b-O13XVCAZZ",
    "outputId": "12b254d4-826d-4cfc-bb6d-455f4d5b2a4f"
   },
   "outputs": [
    {
     "data": {
      "text/plain": [
       "(4986, 10)"
      ]
     },
     "execution_count": 9,
     "metadata": {},
     "output_type": "execute_result"
    }
   ],
   "source": [
    "#Deduplication of entries\n",
    "final=sorted_data.drop_duplicates(subset={\"UserId\",\"ProfileName\",\"Time\",\"Text\"}, keep='first', inplace=False)\n",
    "final.shape"
   ]
  },
  {
   "cell_type": "code",
   "execution_count": 10,
   "metadata": {
    "id": "S72Yh-rHCAZc",
    "outputId": "146c067f-081c-4e26-f527-71442ff83b8d"
   },
   "outputs": [
    {
     "data": {
      "text/plain": [
       "99.72"
      ]
     },
     "execution_count": 10,
     "metadata": {},
     "output_type": "execute_result"
    }
   ],
   "source": [
    "#Checking to see how much % of data still remains\n",
    "(final['Id'].size*1.0)/(filtered_data['Id'].size*1.0)*100"
   ]
  },
  {
   "cell_type": "markdown",
   "metadata": {
    "id": "LO5nLKeFCAZf"
   },
   "source": [
    "<b>Observation:-</b> It was also seen that in two rows given below the value of HelpfulnessNumerator is greater than HelpfulnessDenominator which is not practically possible hence these two rows too are removed from calcualtions"
   ]
  },
  {
   "cell_type": "code",
   "execution_count": 11,
   "metadata": {
    "id": "L9z5lrsiCAZh",
    "outputId": "1a0dfa7c-62f4-4469-a97b-38f77fa3b2ab"
   },
   "outputs": [
    {
     "data": {
      "text/html": [
       "<div>\n",
       "<style scoped>\n",
       "    .dataframe tbody tr th:only-of-type {\n",
       "        vertical-align: middle;\n",
       "    }\n",
       "\n",
       "    .dataframe tbody tr th {\n",
       "        vertical-align: top;\n",
       "    }\n",
       "\n",
       "    .dataframe thead th {\n",
       "        text-align: right;\n",
       "    }\n",
       "</style>\n",
       "<table border=\"1\" class=\"dataframe\">\n",
       "  <thead>\n",
       "    <tr style=\"text-align: right;\">\n",
       "      <th></th>\n",
       "      <th>Id</th>\n",
       "      <th>ProductId</th>\n",
       "      <th>UserId</th>\n",
       "      <th>ProfileName</th>\n",
       "      <th>HelpfulnessNumerator</th>\n",
       "      <th>HelpfulnessDenominator</th>\n",
       "      <th>Score</th>\n",
       "      <th>Time</th>\n",
       "      <th>Summary</th>\n",
       "      <th>Text</th>\n",
       "    </tr>\n",
       "  </thead>\n",
       "  <tbody>\n",
       "    <tr>\n",
       "      <th>0</th>\n",
       "      <td>64422</td>\n",
       "      <td>B000MIDROQ</td>\n",
       "      <td>A161DK06JJMCYF</td>\n",
       "      <td>J. E. Stephens \"Jeanne\"</td>\n",
       "      <td>3</td>\n",
       "      <td>1</td>\n",
       "      <td>5</td>\n",
       "      <td>1224892800</td>\n",
       "      <td>Bought This for My Son at College</td>\n",
       "      <td>My son loves spaghetti so I didn't hesitate or...</td>\n",
       "    </tr>\n",
       "    <tr>\n",
       "      <th>1</th>\n",
       "      <td>44737</td>\n",
       "      <td>B001EQ55RW</td>\n",
       "      <td>A2V0I904FH7ABY</td>\n",
       "      <td>Ram</td>\n",
       "      <td>3</td>\n",
       "      <td>2</td>\n",
       "      <td>4</td>\n",
       "      <td>1212883200</td>\n",
       "      <td>Pure cocoa taste with crunchy almonds inside</td>\n",
       "      <td>It was almost a 'love at first bite' - the per...</td>\n",
       "    </tr>\n",
       "  </tbody>\n",
       "</table>\n",
       "</div>"
      ],
      "text/plain": [
       "      Id   ProductId          UserId              ProfileName  \\\n",
       "0  64422  B000MIDROQ  A161DK06JJMCYF  J. E. Stephens \"Jeanne\"   \n",
       "1  44737  B001EQ55RW  A2V0I904FH7ABY                      Ram   \n",
       "\n",
       "   HelpfulnessNumerator  HelpfulnessDenominator  Score        Time  \\\n",
       "0                     3                       1      5  1224892800   \n",
       "1                     3                       2      4  1212883200   \n",
       "\n",
       "                                        Summary  \\\n",
       "0             Bought This for My Son at College   \n",
       "1  Pure cocoa taste with crunchy almonds inside   \n",
       "\n",
       "                                                Text  \n",
       "0  My son loves spaghetti so I didn't hesitate or...  \n",
       "1  It was almost a 'love at first bite' - the per...  "
      ]
     },
     "execution_count": 11,
     "metadata": {},
     "output_type": "execute_result"
    }
   ],
   "source": [
    "display= pd.read_sql_query(\"\"\"\n",
    "SELECT *\n",
    "FROM Reviews\n",
    "WHERE Score != 3 AND Id=44737 OR Id=64422\n",
    "ORDER BY ProductID\n",
    "\"\"\", con)\n",
    "\n",
    "display.head()"
   ]
  },
  {
   "cell_type": "code",
   "execution_count": 12,
   "metadata": {
    "id": "8Tphk1piCAZk"
   },
   "outputs": [],
   "source": [
    "final=final[final.HelpfulnessNumerator<=final.HelpfulnessDenominator]"
   ]
  },
  {
   "cell_type": "code",
   "execution_count": 13,
   "metadata": {
    "id": "8TpsGDdJCAZm",
    "outputId": "287c6c08-d222-4848-b677-c9a5e769d0b1"
   },
   "outputs": [
    {
     "name": "stdout",
     "output_type": "stream",
     "text": [
      "(4986, 10)\n"
     ]
    },
    {
     "data": {
      "text/plain": [
       "1    4178\n",
       "0     808\n",
       "Name: Score, dtype: int64"
      ]
     },
     "execution_count": 13,
     "metadata": {},
     "output_type": "execute_result"
    }
   ],
   "source": [
    "#Before starting the next phase of preprocessing lets see the number of entries left\n",
    "print(final.shape)\n",
    "\n",
    "#How many positive and negative reviews are present in our dataset?\n",
    "final['Score'].value_counts()"
   ]
  },
  {
   "cell_type": "markdown",
   "metadata": {
    "id": "RxBsuBylCAZr"
   },
   "source": [
    "# [3].  Text Preprocessing.\n",
    "\n",
    "Now that we have finished deduplication our data requires some preprocessing before we go on further with analysis and making the prediction model.\n",
    "\n",
    "Hence in the Preprocessing phase we do the following in the order below:-\n",
    "\n",
    "1. Begin by removing the html tags\n",
    "2. Remove any punctuations or limited set of special characters like , or . or # etc.\n",
    "3. Check if the word is made up of english letters and is not alpha-numeric\n",
    "4. Check to see if the length of the word is greater than 2 (as it was researched that there is no adjective in 2-letters)\n",
    "5. Convert the word to lowercase\n",
    "6. Remove Stopwords\n",
    "7. Finally Snowball Stemming the word (it was obsereved to be better than Porter Stemming)<br>\n",
    "\n",
    "After which we collect the words used to describe positive and negative reviews"
   ]
  },
  {
   "cell_type": "code",
   "execution_count": 14,
   "metadata": {
    "id": "laOGMFB7CAZt",
    "outputId": "49d82795-cea4-4695-9834-45978266f6f4"
   },
   "outputs": [
    {
     "name": "stdout",
     "output_type": "stream",
     "text": [
      "Why is this $[...] when the same product is available for $[...] here?<br />http://www.amazon.com/VICTOR-FLY-MAGNET-BAIT-REFILL/dp/B00004RBDY<br /><br />The Victor M380 and M502 traps are unreal, of course -- total fly genocide. Pretty stinky, but only right nearby.\n",
      "==================================================\n",
      "I recently tried this flavor/brand and was surprised at how delicious these chips are.  The best thing was that there were a lot of \"brown\" chips in the bsg (my favorite), so I bought some more through amazon and shared with family and friends.  I am a little disappointed that there are not, so far, very many brown chips in these bags, but the flavor is still very good.  I like them better than the yogurt and green onion flavor because they do not seem to be as salty, and the onion flavor is better.  If you haven't eaten Kettle chips before, I recommend that you try a bag before buying bulk.  They are thicker and crunchier than Lays but just as fresh out of the bag.\n",
      "==================================================\n",
      "Wow.  So far, two two-star reviews.  One obviously had no idea what they were ordering; the other wants crispy cookies.  Hey, I'm sorry; but these reviews do nobody any good beyond reminding us to look  before ordering.<br /><br />These are chocolate-oatmeal cookies.  If you don't like that combination, don't order this type of cookie.  I find the combo quite nice, really.  The oatmeal sort of \"calms\" the rich chocolate flavor and gives the cookie sort of a coconut-type consistency.  Now let's also remember that tastes differ; so, I've given my opinion.<br /><br />Then, these are soft, chewy cookies -- as advertised.  They are not \"crispy\" cookies, or the blurb would say \"crispy,\" rather than \"chewy.\"  I happen to like raw cookie dough; however, I don't see where these taste like raw cookie dough.  Both are soft, however, so is this the confusion?  And, yes, they stick together.  Soft cookies tend to do that.  They aren't individually wrapped, which would add to the cost.  Oh yeah, chocolate chip cookies tend to be somewhat sweet.<br /><br />So, if you want something hard and crisp, I suggest Nabiso's Ginger Snaps.  If you want a cookie that's soft, chewy and tastes like a combination of chocolate and oatmeal, give these a try.  I'm here to place my second order.\n",
      "==================================================\n",
      "love to order my coffee on amazon.  easy and shows up quickly.<br />This k cup is great coffee.  dcaf is very good as well\n",
      "==================================================\n"
     ]
    }
   ],
   "source": [
    "# printing some random reviews\n",
    "sent_0 = final['Text'].values[0]\n",
    "print(sent_0)\n",
    "print(\"=\"*50)\n",
    "\n",
    "sent_1000 = final['Text'].values[1000]\n",
    "print(sent_1000)\n",
    "print(\"=\"*50)\n",
    "\n",
    "sent_1500 = final['Text'].values[1500]\n",
    "print(sent_1500)\n",
    "print(\"=\"*50)\n",
    "\n",
    "sent_4900 = final['Text'].values[4900]\n",
    "print(sent_4900)\n",
    "print(\"=\"*50)"
   ]
  },
  {
   "cell_type": "code",
   "execution_count": 15,
   "metadata": {
    "id": "MvD0JaQ9CAZx",
    "outputId": "dcc683d4-6014-4430-fb91-f9526bca4475"
   },
   "outputs": [
    {
     "name": "stdout",
     "output_type": "stream",
     "text": [
      "Why is this $[...] when the same product is available for $[...] here?<br /> /><br />The Victor M380 and M502 traps are unreal, of course -- total fly genocide. Pretty stinky, but only right nearby.\n"
     ]
    }
   ],
   "source": [
    "# remove urls from text python: https://stackoverflow.com/a/40823105/4084039\n",
    "sent_0 = re.sub(r\"http\\S+\", \"\", sent_0)\n",
    "sent_1000 = re.sub(r\"http\\S+\", \"\", sent_1000)\n",
    "sent_150 = re.sub(r\"http\\S+\", \"\", sent_1500)\n",
    "sent_4900 = re.sub(r\"http\\S+\", \"\", sent_4900)\n",
    "\n",
    "print(sent_0)"
   ]
  },
  {
   "cell_type": "code",
   "execution_count": 16,
   "metadata": {
    "id": "Liu2zNFLCAZ0",
    "outputId": "f66770ef-17d3-4a99-df7f-75242858701d"
   },
   "outputs": [
    {
     "name": "stdout",
     "output_type": "stream",
     "text": [
      "Why is this $[...] when the same product is available for $[...] here? />The Victor M380 and M502 traps are unreal, of course -- total fly genocide. Pretty stinky, but only right nearby.\n",
      "==================================================\n",
      "I recently tried this flavor/brand and was surprised at how delicious these chips are.  The best thing was that there were a lot of \"brown\" chips in the bsg (my favorite), so I bought some more through amazon and shared with family and friends.  I am a little disappointed that there are not, so far, very many brown chips in these bags, but the flavor is still very good.  I like them better than the yogurt and green onion flavor because they do not seem to be as salty, and the onion flavor is better.  If you haven't eaten Kettle chips before, I recommend that you try a bag before buying bulk.  They are thicker and crunchier than Lays but just as fresh out of the bag.\n",
      "==================================================\n",
      "Wow.  So far, two two-star reviews.  One obviously had no idea what they were ordering; the other wants crispy cookies.  Hey, I'm sorry; but these reviews do nobody any good beyond reminding us to look  before ordering.These are chocolate-oatmeal cookies.  If you don't like that combination, don't order this type of cookie.  I find the combo quite nice, really.  The oatmeal sort of \"calms\" the rich chocolate flavor and gives the cookie sort of a coconut-type consistency.  Now let's also remember that tastes differ; so, I've given my opinion.Then, these are soft, chewy cookies -- as advertised.  They are not \"crispy\" cookies, or the blurb would say \"crispy,\" rather than \"chewy.\"  I happen to like raw cookie dough; however, I don't see where these taste like raw cookie dough.  Both are soft, however, so is this the confusion?  And, yes, they stick together.  Soft cookies tend to do that.  They aren't individually wrapped, which would add to the cost.  Oh yeah, chocolate chip cookies tend to be somewhat sweet.So, if you want something hard and crisp, I suggest Nabiso's Ginger Snaps.  If you want a cookie that's soft, chewy and tastes like a combination of chocolate and oatmeal, give these a try.  I'm here to place my second order.\n",
      "==================================================\n",
      "love to order my coffee on amazon.  easy and shows up quickly.This k cup is great coffee.  dcaf is very good as well\n"
     ]
    }
   ],
   "source": [
    "# https://stackoverflow.com/questions/16206380/python-beautifulsoup-how-to-remove-all-tags-from-an-element\n",
    "from bs4 import BeautifulSoup\n",
    "\n",
    "soup = BeautifulSoup(sent_0, 'lxml')\n",
    "text = soup.get_text()\n",
    "print(text)\n",
    "print(\"=\"*50)\n",
    "\n",
    "soup = BeautifulSoup(sent_1000, 'lxml')\n",
    "text = soup.get_text()\n",
    "print(text)\n",
    "print(\"=\"*50)\n",
    "\n",
    "soup = BeautifulSoup(sent_1500, 'lxml')\n",
    "text = soup.get_text()\n",
    "print(text)\n",
    "print(\"=\"*50)\n",
    "\n",
    "soup = BeautifulSoup(sent_4900, 'lxml')\n",
    "text = soup.get_text()\n",
    "print(text)"
   ]
  },
  {
   "cell_type": "code",
   "execution_count": 17,
   "metadata": {
    "id": "lNHWbzBaCAZ3"
   },
   "outputs": [],
   "source": [
    "# https://stackoverflow.com/a/47091490/4084039\n",
    "import re\n",
    "\n",
    "def decontracted(phrase):\n",
    "    # specific\n",
    "    phrase = re.sub(r\"won't\", \"will not\", phrase)\n",
    "    phrase = re.sub(r\"can\\'t\", \"can not\", phrase)\n",
    "\n",
    "    # general\n",
    "    phrase = re.sub(r\"n\\'t\", \" not\", phrase)\n",
    "    phrase = re.sub(r\"\\'re\", \" are\", phrase)\n",
    "    phrase = re.sub(r\"\\'s\", \" is\", phrase)\n",
    "    phrase = re.sub(r\"\\'d\", \" would\", phrase)\n",
    "    phrase = re.sub(r\"\\'ll\", \" will\", phrase)\n",
    "    phrase = re.sub(r\"\\'t\", \" not\", phrase)\n",
    "    phrase = re.sub(r\"\\'ve\", \" have\", phrase)\n",
    "    phrase = re.sub(r\"\\'m\", \" am\", phrase)\n",
    "    return phrase"
   ]
  },
  {
   "cell_type": "code",
   "execution_count": 18,
   "metadata": {
    "id": "y7v1fmngCAZ5",
    "outputId": "22e3fcb6-c2e6-4c92-be48-f65543b1140f"
   },
   "outputs": [
    {
     "name": "stdout",
     "output_type": "stream",
     "text": [
      "Wow.  So far, two two-star reviews.  One obviously had no idea what they were ordering; the other wants crispy cookies.  Hey, I am sorry; but these reviews do nobody any good beyond reminding us to look  before ordering.<br /><br />These are chocolate-oatmeal cookies.  If you do not like that combination, do not order this type of cookie.  I find the combo quite nice, really.  The oatmeal sort of \"calms\" the rich chocolate flavor and gives the cookie sort of a coconut-type consistency.  Now let is also remember that tastes differ; so, I have given my opinion.<br /><br />Then, these are soft, chewy cookies -- as advertised.  They are not \"crispy\" cookies, or the blurb would say \"crispy,\" rather than \"chewy.\"  I happen to like raw cookie dough; however, I do not see where these taste like raw cookie dough.  Both are soft, however, so is this the confusion?  And, yes, they stick together.  Soft cookies tend to do that.  They are not individually wrapped, which would add to the cost.  Oh yeah, chocolate chip cookies tend to be somewhat sweet.<br /><br />So, if you want something hard and crisp, I suggest Nabiso is Ginger Snaps.  If you want a cookie that is soft, chewy and tastes like a combination of chocolate and oatmeal, give these a try.  I am here to place my second order.\n",
      "==================================================\n"
     ]
    }
   ],
   "source": [
    "sent_1500 = decontracted(sent_1500)\n",
    "print(sent_1500)\n",
    "print(\"=\"*50)"
   ]
  },
  {
   "cell_type": "code",
   "execution_count": 19,
   "metadata": {
    "id": "jKIBLrAjCAZ7",
    "outputId": "376f1e55-511a-4352-c345-a39f1d2a2224"
   },
   "outputs": [
    {
     "name": "stdout",
     "output_type": "stream",
     "text": [
      "Why is this $[...] when the same product is available for $[...] here?<br /> /><br />The Victor  and  traps are unreal, of course -- total fly genocide. Pretty stinky, but only right nearby.\n"
     ]
    }
   ],
   "source": [
    "#remove words with numbers python: https://stackoverflow.com/a/18082370/4084039\n",
    "sent_0 = re.sub(\"\\S*\\d\\S*\", \"\", sent_0).strip()\n",
    "print(sent_0)"
   ]
  },
  {
   "cell_type": "code",
   "execution_count": 20,
   "metadata": {
    "id": "sU3eY6geCAZ9",
    "outputId": "90d91c93-0d77-47c0-e496-77d1611a86fb"
   },
   "outputs": [
    {
     "name": "stdout",
     "output_type": "stream",
     "text": [
      "Wow So far two two star reviews One obviously had no idea what they were ordering the other wants crispy cookies Hey I am sorry but these reviews do nobody any good beyond reminding us to look before ordering br br These are chocolate oatmeal cookies If you do not like that combination do not order this type of cookie I find the combo quite nice really The oatmeal sort of calms the rich chocolate flavor and gives the cookie sort of a coconut type consistency Now let is also remember that tastes differ so I have given my opinion br br Then these are soft chewy cookies as advertised They are not crispy cookies or the blurb would say crispy rather than chewy I happen to like raw cookie dough however I do not see where these taste like raw cookie dough Both are soft however so is this the confusion And yes they stick together Soft cookies tend to do that They are not individually wrapped which would add to the cost Oh yeah chocolate chip cookies tend to be somewhat sweet br br So if you want something hard and crisp I suggest Nabiso is Ginger Snaps If you want a cookie that is soft chewy and tastes like a combination of chocolate and oatmeal give these a try I am here to place my second order \n"
     ]
    }
   ],
   "source": [
    "#remove spacial character: https://stackoverflow.com/a/5843547/4084039\n",
    "sent_1500 = re.sub('[^A-Za-z0-9]+', ' ', sent_1500)\n",
    "print(sent_1500)"
   ]
  },
  {
   "cell_type": "code",
   "execution_count": 21,
   "metadata": {
    "id": "Xsr4xHkJCAaA"
   },
   "outputs": [],
   "source": [
    "# https://gist.github.com/sebleier/554280\n",
    "# we are removing the words from the stop words list: 'no', 'nor', 'not'\n",
    "# <br /><br /> ==> after the above steps, we are getting \"br br\"\n",
    "# we are including them into stop words list\n",
    "# instead of <br /> if we have <br/> these tags would have revmoved in the 1st step\n",
    "\n",
    "stopwords= set(['br', 'the', 'i', 'me', 'my', 'myself', 'we', 'our', 'ours', 'ourselves', 'you', \"you're\", \"you've\",\\\n",
    "            \"you'll\", \"you'd\", 'your', 'yours', 'yourself', 'yourselves', 'he', 'him', 'his', 'himself', \\\n",
    "            'she', \"she's\", 'her', 'hers', 'herself', 'it', \"it's\", 'its', 'itself', 'they', 'them', 'their',\\\n",
    "            'theirs', 'themselves', 'what', 'which', 'who', 'whom', 'this', 'that', \"that'll\", 'these', 'those', \\\n",
    "            'am', 'is', 'are', 'was', 'were', 'be', 'been', 'being', 'have', 'has', 'had', 'having', 'do', 'does', \\\n",
    "            'did', 'doing', 'a', 'an', 'the', 'and', 'but', 'if', 'or', 'because', 'as', 'until', 'while', 'of', \\\n",
    "            'at', 'by', 'for', 'with', 'about', 'against', 'between', 'into', 'through', 'during', 'before', 'after',\\\n",
    "            'above', 'below', 'to', 'from', 'up', 'down', 'in', 'out', 'on', 'off', 'over', 'under', 'again', 'further',\\\n",
    "            'then', 'once', 'here', 'there', 'when', 'where', 'why', 'how', 'all', 'any', 'both', 'each', 'few', 'more',\\\n",
    "            'most', 'other', 'some', 'such', 'only', 'own', 'same', 'so', 'than', 'too', 'very', \\\n",
    "            's', 't', 'can', 'will', 'just', 'don', \"don't\", 'should', \"should've\", 'now', 'd', 'll', 'm', 'o', 're', \\\n",
    "            've', 'y', 'ain', 'aren', \"aren't\", 'couldn', \"couldn't\", 'didn', \"didn't\", 'doesn', \"doesn't\", 'hadn',\\\n",
    "            \"hadn't\", 'hasn', \"hasn't\", 'haven', \"haven't\", 'isn', \"isn't\", 'ma', 'mightn', \"mightn't\", 'mustn',\\\n",
    "            \"mustn't\", 'needn', \"needn't\", 'shan', \"shan't\", 'shouldn', \"shouldn't\", 'wasn', \"wasn't\", 'weren', \"weren't\", \\\n",
    "            'won', \"won't\", 'wouldn', \"wouldn't\"])"
   ]
  },
  {
   "cell_type": "code",
   "execution_count": 22,
   "metadata": {
    "id": "MgsJ09NpCAaB",
    "outputId": "1d7ef7e7-d03e-4bff-850a-a2aef70af7d9"
   },
   "outputs": [
    {
     "name": "stderr",
     "output_type": "stream",
     "text": [
      "100%|████████████████████████████████████████████████████████████████████████████| 4986/4986 [00:01<00:00, 3866.49it/s]\n"
     ]
    }
   ],
   "source": [
    "# Combining all the above stundents \n",
    "from tqdm import tqdm\n",
    "preprocessed_reviews = []\n",
    "# tqdm is for printing the status bar\n",
    "for sentance in tqdm(final['Text'].values):\n",
    "    sentance = re.sub(r\"http\\S+\", \"\", sentance)\n",
    "    sentance = BeautifulSoup(sentance, 'lxml').get_text()\n",
    "    sentance = decontracted(sentance)\n",
    "    sentance = re.sub(\"\\S*\\d\\S*\", \"\", sentance).strip()\n",
    "    sentance = re.sub('[^A-Za-z]+', ' ', sentance)\n",
    "    # https://gist.github.com/sebleier/554280\n",
    "    sentance = ' '.join(e.lower() for e in sentance.split() if e.lower() not in stopwords)\n",
    "    preprocessed_reviews.append(sentance.strip())"
   ]
  },
  {
   "cell_type": "code",
   "execution_count": 23,
   "metadata": {
    "id": "f_zfwXXWCAaE",
    "outputId": "a8ba4cbf-3a4c-4447-f06a-2b639e1a5f88"
   },
   "outputs": [
    {
     "data": {
      "text/plain": [
       "'wow far two two star reviews one obviously no idea ordering wants crispy cookies hey sorry reviews nobody good beyond reminding us look ordering chocolate oatmeal cookies not like combination not order type cookie find combo quite nice really oatmeal sort calms rich chocolate flavor gives cookie sort coconut type consistency let also remember tastes differ given opinion soft chewy cookies advertised not crispy cookies blurb would say crispy rather chewy happen like raw cookie dough however not see taste like raw cookie dough soft however confusion yes stick together soft cookies tend not individually wrapped would add cost oh yeah chocolate chip cookies tend somewhat sweet want something hard crisp suggest nabiso ginger snaps want cookie soft chewy tastes like combination chocolate oatmeal give try place second order'"
      ]
     },
     "execution_count": 23,
     "metadata": {},
     "output_type": "execute_result"
    }
   ],
   "source": [
    "preprocessed_reviews[1500]"
   ]
  },
  {
   "cell_type": "markdown",
   "metadata": {
    "id": "tmeU-LoVCAaI"
   },
   "source": [
    "<h2><font color='red'>[3.2] Preprocess Summary</font></h2>"
   ]
  },
  {
   "cell_type": "code",
   "execution_count": 24,
   "metadata": {
    "id": "wtJ2hcy9CAaI"
   },
   "outputs": [],
   "source": [
    "## Similartly you can do preprocessing for review summary also."
   ]
  },
  {
   "cell_type": "markdown",
   "metadata": {
    "id": "ytBZVEs2CAaL"
   },
   "source": [
    "# [4] Featurization"
   ]
  },
  {
   "cell_type": "markdown",
   "metadata": {
    "id": "9amw6tMZCAaL"
   },
   "source": [
    "## [4.1] BAG OF WORDS"
   ]
  },
  {
   "cell_type": "code",
   "execution_count": 25,
   "metadata": {
    "id": "3hasoJ-_CAaN",
    "outputId": "12aa3f3f-083c-4de4-a6e7-3dbde6b5a905"
   },
   "outputs": [
    {
     "name": "stdout",
     "output_type": "stream",
     "text": [
      "some feature names  ['aa', 'aahhhs', 'aback', 'abandon', 'abates', 'abbott', 'abby', 'abdominal', 'abiding', 'ability', 'able', 'abor', 'aboulutely', 'absence', 'absent', 'absoloutely', 'absolute', 'absolutely', 'absolutley', 'absolutly', 'absorb', 'absorbed', 'absorbs', 'abt', 'abundant', 'abuse', 'acacia', 'academy', 'acai', 'accelerated', 'acceleration', 'accept', 'acceptable', 'accepted', 'access', 'accessable', 'accessible', 'accessory', 'accident', 'accidentally', 'accidently', 'accidents', 'acclimatization', 'accolades', 'accommodate', 'accompanies', 'accompaniment', 'accompany', 'accompanying', 'accomplish', 'accomplished', 'according', 'accordingly', 'account', 'accounting', 'accounts', 'accumulated', 'accumulation', 'accuracy', 'accurate', 'accustomed', 'ace', 'acerola', 'acesulfame', 'acetaminophen', 'ache', 'aches', 'achieve', 'achieving', 'acid', 'acidcayenne', 'acidic', 'acidify', 'acidity', 'acids', 'acknowledge', 'acknowledged', 'acknowledgement', 'acne', 'acoustically', 'acquaintance', 'acquainted', 'acquire', 'acquired', 'acre', 'acrid', 'across', 'act', 'acted', 'acting', 'activate', 'activates', 'active', 'actively', 'activities', 'activity', 'actors', 'acts', 'actual', 'actually', 'acustom', 'ad', 'adapt', 'adapter', 'adaptor', 'add', 'added', 'addendum', 'addict', 'addicted', 'addicting', 'addiction', 'addictive', 'addictively', 'addicts', 'adding', 'addition', 'additional', 'additionally', 'additions', 'additive', 'additives', 'additivesas', 'addled', 'address', 'addressed', 'adds', 'addsthat', 'adequate', 'adequately', 'adhd', 'adirondack', 'adjectives', 'adjunct', 'adjust', 'adjustable', 'adjusted', 'adjusting', 'adjustment', 'adjustments', 'administered', 'administration', 'admired', 'admit', 'admits', 'admittedly', 'adopted', 'adoption', 'adorable', 'adore', 'adores', 'ados', 'ads', 'adult', 'adulterated', 'adults', 'advance', 'advanced', 'advantage', 'advantages', 'adverse', 'advertise', 'advertised', 'advertisement', 'advertisements', 'advertises', 'advertising', 'advertized', 'advertizes', 'advice', 'advil', 'advise', 'advised', 'advocate', 'advocates', 'adzuki', 'aerobic', 'aeromatic', 'aeropress', 'aesthetically', 'affair', 'affairs', 'affect', 'affected', 'affecting', 'affection', 'affectionate', 'affects', 'affiliation', 'affinity', 'afford', 'affordable', 'afghanistan', 'afghans', 'aflatoxin', 'afore', 'aforementioned', 'afraid', 'africa', 'africafe', 'african', 'africana', 'afront', 'afternoon', 'afternoons', 'aftertase', 'aftertaste', 'afterwards', 'afull', 'agata', 'agava', 'agave', 'age', 'aged', 'agency', 'agent', 'agents', 'ager', 'ages', 'aggravate', 'aggravation', 'aggressive', 'aggrieved', 'agile', 'aging', 'ago', 'agood', 'agree', 'agreed', 'agreeing', 'agrees', 'agriculture', 'ah', 'ahead', 'ahhh', 'ahmad', 'ahold', 'aholic', 'ahoy', 'ahs', 'ahve', 'ai', 'aid', 'aided', 'aids', 'aim', 'aimed', 'aint', 'air', 'airbrushed', 'aires', 'airfare', 'airing', 'airplane', 'airplanes', 'airpocket', 'airpopper', 'airport', 'airtight', 'airway', 'airy', 'aisle', 'aka', 'akg', 'akin', 'al', 'alabama', 'alas', 'alaska', 'alaskan', 'albanese', 'albeit', 'albertsons', 'alcohol', 'alcoholic', 'alcohols', 'ale', 'alec', 'alergic', 'alergies', 'alert', 'alertness', 'alfredo', 'alginate', 'algo', 'ali', 'alice', 'alike', 'alimentum', 'alittle', 'alive', 'alkali', 'alkaline', 'alkalized', 'alkalizing', 'allays', 'alleged', 'allergen', 'allergenic', 'allergens', 'allergic', 'allergies', 'allergy', 'alles', 'alleviated', 'alley', 'alli', 'alliance', 'allot', 'allow', 'allowance', 'allowed', 'allowing', 'allows', 'allspice', 'alludes', 'ally', 'almond', 'almonds', 'almondy', 'almost', 'almostall', 'aloha', 'alone', 'along', 'alongside', 'aloof', 'alot', 'alpaca', 'alpacas', 'alpine', 'alpo', 'already', 'alright', 'also', 'alter', 'altered', 'altering', 'alternate', 'alternately', 'alternating', 'alternative', 'alternatives', 'alternitives', 'alters', 'although', 'altogether', 'altogther', 'altoid', 'altoids', 'alton', 'altria', 'altura', 'alum', 'aluminum', 'alway', 'always', 'alzheimer', 'amagic', 'amaranth', 'amaretto', 'amatch', 'amazed', 'amazement', 'amazes', 'amazing', 'amazingly', 'amazon', 'amazondid', 'amazonia', 'amazonn', 'amazzon', 'amber', 'ambient', 'ambrosia', 'ambulance', 'amedium', 'ameliorate', 'ameliorated', 'america', 'american', 'americanized', 'americano', 'americans', 'americas', 'americolor', 'amilk', 'amino', 'aminopterin', 'amisfires', 'amish', 'amiss', 'among', 'amongst', 'amos', 'amoung', 'amount', 'amounts', 'amout', 'amovements', 'amoxicillin', 'amp', 'ample', 'amplifier', 'amplify', 'amps', 'amsterdam', 'amt', 'amulti', 'amusing', 'amy', 'amyps', 'anad', 'anaheim', 'analize', 'analog', 'analogy', 'analysis', 'analyzer', 'anchovy', 'ancient', 'andacid', 'andcheese', 'andconcerns', 'andmicrobiological', 'andour', 'andthey', 'andyou', 'anecdote', 'anemic', 'ange', 'angelina', 'angle', 'angry', 'anguish', 'anguished', 'animal', 'animals', 'animation', 'anime', 'anise', 'aniseed', 'ann', 'annerversery', 'annette', 'annie', 'annihilated', 'announcement', 'announces', 'annoyed', 'annoying', 'annually', 'anodyne', 'anonymous', 'another', 'anotherdecision', 'anothert', 'answer', 'answerdear', 'answered', 'answering', 'answers', 'antes', 'anthony', 'anti', 'antibiotic', 'antibiotics', 'antibodies', 'anticipate', 'anticipated', 'anticipating', 'anticipation', 'antidotal', 'antidote', 'antioxidant', 'antioxidants', 'antler', 'ants', 'anxieties', 'anxiety', 'anxious', 'anyattention', 'anybody', 'anyhow', 'anymore', 'anyone', 'anyonr', 'anyother', 'anything', 'anytime', 'anyway', 'anyways', 'anywhear', 'anywhere', 'anywho', 'aoli', 'apart', 'apartment', 'apo', 'apollo', 'apologies', 'apologize', 'apologized', 'apologizing', 'apology', 'appalled', 'appalling', 'apparent', 'apparently', 'appeal', 'appealing', 'appealingly', 'appeals', 'appear', 'appearance', 'appeared', 'appears', 'appease', 'appetit', 'appetite', 'appetizer', 'appetizers', 'appetizing', 'applaud', 'apple', 'apples', 'applesauce', 'applesause', 'appliance', 'application', 'applications', 'applied', 'applies', 'apply', 'appointment', 'appreciable', 'appreciate', 'appreciated', 'appreciates', 'appreciating', 'appreciative', 'apprehensive', 'apprentice', 'approach', 'approached', 'approaching', 'appropriate', 'appropriately', 'approval', 'approve', 'approved', 'approves', 'approx', 'approximate', 'approximately', 'apricot', 'apricots', 'april', 'apso', 'ara', 'arabia', 'arabica', 'archer', 'archway', 'area', 'areas', 'aregular', 'arent', 'argentina', 'argentine', 'argh', 'argo', 'argue', 'argument', 'arise', 'arises', 'aritficial', 'arived', 'arizona', 'ark', 'arm', 'arms', 'army', 'arnt', 'aroma', 'aromas', 'aromatic', 'around', 'arranged', 'arrangement', 'array', 'arrhythmia', 'arrival', 'arrive', 'arrived', 'arrives', 'arriving', 'arrow', 'arrowhead', 'arsenic', 'art', 'artful', 'arthritic', 'arthritis', 'arthur', 'artichoke', 'article', 'artifial', 'artifical', 'artifically', 'artificial', 'artificially', 'artisan', 'artisana', 'artisanal', 'artist', 'artwork', 'aruba', 'asap', 'ascertain', 'ascertained', 'ash', 'ashby', 'ashbys', 'ashes', 'ashy', 'asia', 'asian', 'asians', 'aside', 'asin', 'asio', 'ask', 'asked', 'asking', 'asks', 'asparagus', 'aspargus', 'aspartame', 'aspect', 'aspects', 'aspen', 'asperger', 'aspiring', 'ass', 'assam', 'assemble', 'assembled', 'assert', 'asset', 'assiciated', 'assigned', 'assimilate', 'assistance', 'assisted', 'associate', 'associated', 'associates', 'associating', 'assorted', 'assortment', 'assortments', 'assume', 'assumed', 'assuming', 'assumption', 'assurance', 'assure', 'assured', 'assures', 'asterisk', 'astore', 'astounded', 'astounding', 'astringent', 'astronaut', 'ate', 'atherogenesis', 'athlete', 'athletes', 'atkins', 'atleast', 'atomizer', 'atop', 'atrocities', 'attach', 'attached', 'attaches', 'attack', 'attacks', 'attacted', 'attempt', 'attempted', 'attempting', 'attempts', 'attended', 'attention', 'attest', 'attitude', 'attracted', 'attractive', 'attributable', 'attribute', 'attuned', 'au', 'auction', 'audacity', 'audible', 'audio', 'aug', 'august', 'aunt', 'auspices', 'aussie', 'austin', 'australia', 'australian', 'austria', 'authentic', 'authorization', 'autism', 'autistic', 'auto', 'autoimmune', 'autolyzed', 'automated', 'automatic', 'automatically', 'autopsy', 'autoship', 'autumn', 'avail', 'availability', 'available', 'availalbe', 'availing', 'avenue', 'avenues', 'average', 'averaged', 'averse', 'aversion', 'avid', 'avocado', 'avoid', 'avoided', 'avoiding', 'avoids', 'awaited', 'awaiting', 'awake', 'awakening', 'award', 'awarding', 'awards', 'aware', 'awareness', 'away', 'awe', 'aweek', 'aweful', 'awesome', 'awesomely', 'awesomeness', 'awful', 'awfully', 'awhile', 'awkward', 'awsome', 'awwfuul', 'ay', 'ayear', 'az', 'azuki', 'baba', 'babe', 'babies', 'babka', 'babkas', 'baby', 'babyfood', 'babysit', 'bacause', 'baci', 'back', 'backed', 'background', 'backing', 'backpack', 'backpacking', 'backside', 'backsweetening', 'backyard', 'bacon', 'bacteria', 'bad', 'badly', 'baffled', 'bag', 'bagel', 'bagels', 'bagged', 'baggie', 'baggies', 'bagi', 'baglets', 'bags', 'bahamas', 'bahn', 'bai', 'bait', 'bake', 'baked', 'baker', 'bakers', 'bakery', 'bakes', 'baking', 'balance', 'balanced', 'balances', 'balancing', 'balding', 'baldwin', 'balk', 'ball', 'balloon', 'balls', 'balsamic', 'balsamico', 'bam', 'bamy', 'ban', 'banana', 'bananas', 'band', 'bandwagon', 'bang', 'banged', 'banh', 'banished', 'bank', 'banks', 'bannas', 'banned', 'banquet', 'banquets', 'bar', 'barbara', 'barbecue', 'barbecued', 'barbecues', 'barbecuing', 'barbell', 'barbeque', 'barbque', 'barbra', 'barecue', 'barely', 'barest', 'barfed', 'barfing', 'bargain', 'bariatric', 'bariloche', 'bark', 'barleans', 'barley', 'barolo', 'baronet', 'barrel', 'barrels', 'barrier', 'barry', 'bars', 'bartender', 'base', 'baseball', 'based', 'basenji', 'bases', 'bashas', 'bashed', 'bashing', 'basic', 'basically', 'basics', 'basil', 'basis', 'basket', 'basketeers', 'baskets', 'basmati', 'baste', 'bat', 'batch', 'batches', 'bated', 'bates', 'bath', 'bathe', 'bathroom', 'baton', 'bats', 'batter', 'batteries', 'batters', 'battery', 'battle', 'battles', 'baubles', 'baught', 'bavarian', 'baxter', 'baxters', 'bay', 'bayer', 'bazi', 'bbq', 'bbqoriginal', 'bc', 'bday', 'beach', 'bead', 'beagle', 'beaker', 'beaks', 'bean', 'beancoffee', 'beans', 'bear', 'bearable', 'bearing', 'bears', 'beartoothjoe', 'beast', 'beasts', 'beat', 'beaten', 'beating', 'beats', 'beauregard', 'beauties', 'beautiful', 'beautifully', 'beauty', 'beaver', 'became', 'becareful', 'becausefood', 'beckham', 'beckoned', 'become', 'becomes', 'becoming', 'becuase', 'bed', 'bedbath', 'bedpost', 'bedtime', 'bee', 'beech', 'beef', 'beefeaters', 'beefers', 'beefsticks', 'beefy', 'beenmore', 'beenusing', 'beer', 'beers', 'bees', 'beeswax', 'beet', 'beetle', 'beg', 'began', 'begging', 'begin', 'begining', 'beginning', 'begrudgingly', 'begs', 'begun', 'behave', 'behaved', 'behavior', 'behavioral', 'behind', 'behold', 'behringer', 'beleive', 'belgian', 'belgium', 'belief', 'believe', 'believer', 'believers', 'believes', 'believing', 'belive', 'belize', 'bell', 'bella', 'bells', 'belly', 'belongs', 'beloved', 'bemoaning', 'bend', 'bends', 'beneficial', 'benefit', 'benefited', 'benefits', 'benefts', 'beneful', 'benifits', 'bennies', 'benson', 'bent', 'bergamot', 'berlin', 'berries', 'berry', 'beside', 'besides', 'best', 'bestest', 'besty', 'bet', 'bethlehem', 'better', 'betterbatter', 'bettermilk', 'bettertasting', 'betty', 'bettycrocker', 'beverage', 'beverages', 'beware', 'bewer', 'beyond', 'bf', 'bg', 'bht', 'bi', 'bialetti', 'biased', 'bib', 'bible', 'bichon', 'bicycle', 'bid', 'big', 'bigelow', 'bigger', 'biggest', 'bih', 'bike', 'biking', 'bikram', 'bile', 'bill', 'billed', 'billing', 'billion', 'bills', 'bin', 'binder', 'bing', 'binge', 'bins', 'bio', 'bioavailable', 'biodegradable', 'biodiesel', 'bionaturae', 'bird', 'birds', 'birth', 'birthday', 'biryani', 'biscoti', 'biscotti', 'biscottis', 'biscuit', 'biscuits', 'biscuity', 'biscuts', 'bishop', 'bisque', 'bisquick', 'bisquik', 'bisquit', 'bisquits', 'bit', 'bitayavon', 'bite', 'bites', 'biting', 'bits', 'bitso', 'bitten', 'bitter', 'bitterness', 'bitternesscons', 'bizarre', 'bj', 'black', 'blackberry', 'blackbird', 'bladder', 'blade', 'blades', 'blagk', 'blah', 'blair', 'blame', 'blames', 'blaming', 'blanched', 'bland', 'blanket', 'blanks', 'bleached', 'bleaching', 'blech', 'bleeds', 'bleh', 'blend', 'blended', 'blender', 'blending', 'blends', 'blendsaltpotassium', 'blessing', 'blessings', 'bleu', 'blew', 'blind', 'blinded', 'blink', 'bliss', 'bloat', 'bloating', 'blob', 'block', 'blocked', 'blocker', 'blockhouse', 'blog', 'blogs', 'blonde', 'blood', 'bloody', 'blooming', 'blossom', 'blossoms', 'blot', 'blow', 'blowing', 'blown', 'blows', 'blu', 'bluberry', 'blue', 'blueberries', 'blueberry', 'bluebird', 'bluegrass', 'blues', 'blurb', 'blyth', 'bnecause', 'board', 'boat', 'bob', 'bodied', 'bodies', 'bodum', 'body', 'bodybuilder', 'bodyscrub', 'boggling', 'boil', 'boiled', 'boiling', 'bois', 'boise', 'bold', 'bolder', 'boldness', 'bolds', 'boloni', 'bolthouse', 'bomb', 'bombarded', 'bomber', 'bombilla', 'bombs', 'bon', 'bona', 'bonafide', 'bond', 'bone', 'boneless', 'bonemeal', 'bones', 'bonus', 'boo', 'book', 'booklet', 'books', 'boom', 'booming', 'boost', 'booster', 'boosters', 'boosts', 'boot', 'booty', 'border', 'borderline', 'bored', 'borers', 'boring', 'borlotti', 'born', 'borrachos', 'boscoli', 'boss', 'boston', 'botanical', 'botanicals', 'bother', 'bothers', 'bothersome', 'botique', 'botten', 'bottle', 'bottled', 'bottles', 'bottling', 'bottom', 'bottoms', 'bough', 'bought', 'boughtit', 'boulder', 'bounce', 'bounced', 'bouncier', 'bouncy', 'bound', 'bounds', 'bouquet', 'bourbon', 'bout', 'bouts', 'bowel', 'bowels', 'bowl', 'bowls', 'box', 'boxed', 'boxer', 'boxers', 'boxes', 'boxone', 'boy', 'boyardee', 'boyfriend', 'boys', 'bpa', 'bqq', 'braces', 'bracing', 'bracket', 'brackets', 'brag', 'bragg', 'braggs', 'brain', 'brained', 'brainer', 'bran', 'branch', 'branching', 'brand', 'brandhere', 'branding', 'brands', 'brandswith', 'brandther', 'brandy', 'brat', 'brats', 'bratwurst', 'brave', 'bravely', 'bravo', 'braziers', 'brazil', 'brazilian', 'brazilians', 'brc', 'bread', 'breadbaker', 'breadboard', 'breading', 'breadmachine', 'breadmaker', 'breads', 'break', 'breakage', 'breakdown', 'breakfast', 'breakfasts', 'breakfasttype', 'breakfasty', 'breaking', 'breaks', 'breaksdown', 'breakup', 'breast', 'breastfed', 'breastmilk', 'breastmillk', 'breasts', 'breath', 'breathe', 'breathed', 'breathing', 'breed', 'breeder', 'breeds', 'breeze', 'breezy', 'brett', 'breville', 'brew', 'brewed', 'brewer', 'brewers', 'brewing', 'brewingi', 'brews', 'breyer', 'brian', 'brians', 'bribing', 'brick', 'bricks', 'brief', 'briefcase', 'briefly', 'bries', 'bright', 'brighter', 'brightly', 'brightness', 'brights', 'brilliant', 'brine', 'brined', 'bring', 'bringback', 'bringing', 'brings', 'brisk', 'brisling', 'bristol', 'brit', 'brita', 'british', 'brits', 'britt', 'brittany', 'brittle', 'brm', 'broadway', 'broccoli', 'broil', 'broke', 'broken', 'brood', 'brooklyn', 'bros', 'broth', 'brother', 'brothers', 'brothy', 'brought', 'brown', 'browned', 'browner', 'brownie', 'brownies', 'brownish', 'browns', 'browsed', 'browsing', 'brulee', 'brunch', 'brush', 'brushed', 'brushes', 'brushing', 'brutal', 'bsg', 'btaste', 'btw', 'bubble', 'bubblegum', 'bubbles', 'buck', 'bucket', 'bucks', 'buckwheat', 'budda', 'buddies', 'buddy', 'budget', 'buds', 'buen', 'buenos', 'buffalo', 'buffer', 'buffet', 'buffets', 'buffett', 'buffoon', 'bug', 'buggers', 'buggy', 'bugs', 'build', 'building', 'builds', 'buildup', 'built', 'builtin', 'buisiness', 'buisness', 'bulge', 'bulghour', 'bulk', 'bulky', 'bull', 'bulldog', 'bulldogs', 'bullet', 'bullies', 'bulls', 'bully', 'bumble', 'bumblebee', 'bummed', 'bummer', 'bump', 'bumped', 'bumps', 'bun', 'bunch', 'bunches', 'bundt', 'bunnies', 'buns', 'burden', 'burger', 'burgers', 'buried', 'burn', 'burned', 'burner', 'burning', 'burningto', 'burns', 'burnt', 'burr', 'burrito', 'burritos', 'burst', 'bursting', 'bus', 'buses', 'bushel', 'bushy', 'business', 'bust', 'busted', 'buster', 'busters', 'busy', 'butas', 'butcher', 'butchering', 'butnow', 'butter', 'buttered', 'butterfat', 'buttermilk', 'butternut', 'butters', 'butterscotch', 'buttery', 'button', 'buy', 'buyer', 'buyers', 'buying', 'buyingat', 'buys', 'buzz', 'buzzing', 'bye', 'byfar', 'bypass', 'byproduct', 'bzzagent', 'ca', 'cabbage', 'cabernet', 'cabinet', 'cabinets', 'cable', 'cables', 'cacao', 'cacoa', 'cactus', 'cadbury', 'caddy', 'caesar', 'caesers', 'caf', 'cafe', 'cafes', 'cafeteria', 'caffe', 'caffein', 'caffeinated', 'caffeine', 'caffene', 'caffinated', 'caffine', 'cajun', 'cake', 'cakes', 'cakester', 'cakesters', 'caking', 'cal', 'calamares', 'calcium', 'calculate', 'calculated', 'calculating', 'calculations', 'calendar', 'calf', 'calidad', 'california', 'californiacashews', 'californiaserving', 'californiasesame', 'californiawalnuts', 'call', 'called', 'calling', 'callories', 'calls', 'calm', 'calming', 'calms', 'caloreis', 'caloric', 'calorie', 'caloriecount', 'calories', 'caloriesbottom', 'caloriesthe', 'cals', 'calves', 'cambells', 'cambodia', 'cambria', 'camcorder', 'came', 'camelbak', 'camelbaks', 'camp', 'campbell', 'camper', 'camping', 'canaan', 'canada', 'canadablueberries', 'canadanatural', 'canadapomegranate', 'canadian', 'canand', 'cancel', 'canceled', 'cancelled', 'cancer', 'candied', 'candies', 'candle', 'candles', 'candy', 'candyland', 'cane', 'caned', 'canes', 'canidae', 'canin', 'canine', 'canister', 'canisters', 'canned', 'cannes', 'canning', 'cannisters', 'cannot', 'canola', 'cans', 'cant', 'cantaloupe', 'cap', 'capability', 'capacity', 'cape', 'capers', 'capful', 'cappuccino', 'capsule', 'captivating', 'capture', 'captured', 'capturing', 'caputo', 'car', 'carabou', 'caramel', 'caramelish', 'caramelize', 'caramelized', 'caramelizes', 'caramello', 'caramels', 'carb', 'carbohydrate', 'carbohydrates', 'carbon', 'carbonated', 'carbonation', 'carbos', 'carbou', 'carboy', 'carbs', 'carby', 'card', 'cardamom', 'cardboard', 'cardboardy', 'cardigan', 'cardiod', 'cards', 'care', 'cared', 'careful', 'carefulif', 'carefully', 'caregiver', 'cares', 'caribou', 'caring', 'carl', 'carlton', 'carmel', 'carmely', 'carnation', 'carnitine', 'carnivores', 'carob', 'carolina', 'carot', 'carpet', 'carrageenan', 'carried', 'carrier', 'carries', 'carring', 'carrot', 'carrots', 'carry', 'carrying', 'cars', 'cart', 'carte', 'carton', 'cartons', 'cary', 'carys', 'cascading', 'case', 'casein', 'caseinate', 'cases', 'cash', 'cashew', 'cashews', 'casings', 'cassaroles', 'casseroles', 'cassify', 'cast', 'castellana', 'caster', 'castor', 'casual', 'casually', 'cat', 'catarized', 'catch', 'catching', 'catechins', 'categorize', 'category', 'caterer', 'catering', 'catfish', 'catholic', 'catnip', 'cats', 'catsup', 'catties', 'caught', 'cauliflower', 'cause', 'caused', 'causes', 'causing', 'caution', 'cautionary', 'cautioning', 'cavalier', 'cavashon', 'cave', 'caveat', 'caveman', 'cavenders', 'caviar', 'cavier', 'cayenne', 'cccs', 'cd', 'cds', 'ceasar', 'ceased', 'celebrate', 'celebrated', 'celebrity', 'celeiac', 'celery', 'celestial', 'celiac', 'celiacs', 'cell', 'cellar', 'cellophane', 'cells', 'cellulose', 'celophane', 'celsius', 'celtic', 'cement', 'census', 'centennial', 'center', 'centerpiece', 'centerpieces', 'centers', 'cento', 'centos', 'central', 'cents', 'centuries', 'ceral', 'ceramic', 'cereal', 'cereals', 'ceremonial', 'certain', 'certainly', 'certainty', 'certificate', 'certification', 'certified', 'ceylon', 'cfh', 'cfound', 'cha', 'chablis', 'chai', 'chain', 'chains', 'chair', 'chalet', 'chalk', 'chalky', 'challah', 'challenge', 'challenged', 'challenging', 'chamomile', 'champions', 'chan', 'chance', 'chances', 'chanel', 'chang', 'change', 'changed', 'changes', 'changing', 'channel', 'channell', 'chao', 'chaos', 'character', 'characteristic', 'characteristics', 'characterize', 'characterized', 'characters', 'charcoal', 'chardonnay', 'charge', 'charged', 'charger', 'charges', 'charging', 'charitable', 'charities', 'charity', 'charlee', 'charles', 'charlie', 'charm', 'charming', 'charms', 'charred', 'charts', 'chase', 'chaser', 'chasing', 'chats', 'cheap', 'cheapand', 'cheaper', 'cheapest', 'cheaply', 'cheapo', 'chebe', 'check', 'checked', 'checken', 'checking', 'checkout', 'checkup', 'cheddar', 'chedder', 'cheddery', 'cheeks', 'cheeper', 'cheerios', 'cheers', 'chees', 'cheese', 'cheeseburger', 'cheesecake', 'cheesecakes', 'cheesen', 'cheeses', 'cheesy', 'cheetos', 'chef', 'chefman', 'chefs', 'chemical', 'chemicall', 'chemically', 'chemicals', 'chemist', 'chemistry', 'chems', 'cherries', 'cherry', 'cherrybrook', 'chest', 'chestnuts', 'chew', 'chewable', 'chewed', 'chewer', 'chewers', 'chewier', 'chewiness', 'chewing', 'chews', 'chewy', 'chewyness', 'chex', 'chia', 'chicken', 'chickens', 'chiclets', 'chicory', 'chihuahua', 'chihuahuas', 'chihuhua', 'child', 'childhood', 'children', 'childrens', 'chili', 'chilihead', 'chilis', 'chill', 'chilled', 'chilli', 'chilling', 'chilly', 'chimbote', 'chimichurri', 'china', 'chinacane', 'chinaplease', 'chinatown', 'chinchillas', 'chinese', 'chins', 'chinsy', 'chip', 'chipaholic', 'chipotle', 'chipped', 'chips', 'chipsoctober', 'chirstmas', 'chis', 'chive', 'chiweenie', 'chloe', 'chloresterol', 'chloride', 'chlorine', 'chlorophyll', 'chlothianidin', 'choc', 'chock', 'choclatique', 'choco', 'chocoholic', 'chocolat', 'chocolate', 'chocolateis', 'chocolately', 'chocolates', 'chocolatey', 'chocolaty', 'choice', 'choices', 'choke', 'choking', 'cholesterol', 'cholestoral', 'choline', 'cholocate', 'cholocates', 'choo', 'choose', 'chooses', 'choosing', 'chop', 'chopped', 'chopper', 'chopping', 'chops', 'chore', 'chose', 'chosen', 'chouquettes', 'choux', 'chow', 'chowder', 'chowders', 'chowed', 'chowing', 'chows', 'christmas', 'chromium', 'chronic', 'chubby', 'chuck', 'chucked', 'chug', 'chunk', 'chunks', 'chunky', 'church', 'chutney', 'cider', 'ciders', 'cigar', 'cigars', 'cigs', 'cilantro', 'cinamin', 'cinammon', 'cinamon', 'cincinnati', 'cindy', 'cinn', 'cinnamon', 'cinnamony', 'ciprofloxacin', 'cips', 'circle', 'circles', 'circuit', 'circular', 'circulates', 'circulation', 'circulatory', 'circumstance', 'circumvent', 'circus', 'cite', 'cities', 'citizens', 'citric', 'citrict', 'citrimax', 'citron', 'citrus', 'citrusy', 'city', 'ck', 'claim', 'claimed', 'claiming', 'claims', 'clam', 'clamato', 'clammy', 'clams', 'clan', 'clarify', 'clash', 'class', 'classes', 'classic', 'classical', 'classically', 'classics', 'classless', 'classrooms', 'clean', 'cleaned', 'cleaner', 'cleaning', 'cleanly', 'cleanup', 'clear', 'clearancing', 'cleared', 'clearer', 'clearing', 'clearly', 'clears', 'cleo', 'clerk', 'clever', 'cleverly', 'click', 'clicking', 'clicks', 'clientele', 'clients', 'cliff', 'climate', 'climb', 'climbing', 'clip', 'clipper', 'clipping', 'clippings', 'clips', 'clock', 'clocks', 'clog', 'close', 'closed', 'closely', 'closer', 'closes', 'closest', 'closet', 'closing', 'closure', 'closures', 'cloth', 'clothes', 'clothianidin', 'clots', 'cloudy', 'clove', 'cloves', 'cloyingly', 'club', 'clubs', 'clue', 'clueless', 'clump', 'clumped', 'clumping', 'clumps', 'clumsy', 'clusters', 'cluttering', 'cnn', 'co', 'coach', 'coaching', 'coarse', 'coast', 'coastarican', 'coat', 'coated', 'coating', 'coats', 'coatsand', 'cobbler', 'coc', 'coca', 'cocaine', 'cocao', 'cocapoo', 'coccidia', 'cocker', 'cockers', 'cocktail', 'coco', 'cocoa', 'cocoas', 'coconut', 'coconuts', 'coconutty', 'cocunut', 'cod', 'code', 'codes', 'coffe', 'coffee', 'coffeecake', 'coffeefortunately', 'coffeehouse', 'coffeemaker', 'coffeemate', 'coffees', 'coffeeshop', 'coffeesound', 'coffiee', 'cognitive', 'coin', 'coincidence', 'coined', 'coins', 'coit', 'coke', 'cola', 'colada', 'coladas', 'cold', 'colder', 'colds', 'coleman', 'coleslaw', 'colic', 'colitis', 'collapse', 'collar', 'colleague', 'collection', 'collections', 'collectors', 'college', 'collie', 'colo', 'colombia', 'colombian', 'colony', 'color', 'colorado', 'coloration', 'colored', 'colorful', 'coloring', 'colorings', 'colors', 'colossal', 'colour', 'colours', 'columbia', 'columbian', 'coluratura', 'com', 'comanddered', 'combefore', 'combination', 'combinations', 'combine', 'combined', 'combining', 'combo', 'combos', 'come', 'comes', 'comfort', 'comfortable', 'comfortably', 'comforting', 'comical', 'comics', 'coming', 'comm', 'command', 'commands', 'commending', 'comment', 'commented', 'comments', 'commercial', 'commercially', 'commercials', 'commissary', 'commit', 'committed', 'committee', 'committing', 'commodity', 'common', 'commonly', 'commonplace', 'communicate', 'communication', 'communicative', 'communion', 'communism', 'community', 'commuter', 'compact', 'compactor', 'compairing', 'companies', 'companion', 'company', 'companys', 'comparable', 'comparably', 'comparative', 'comparatively', 'compare', 'compared', 'compares', 'comparing', 'comparison', 'comparisons', 'compartment', 'compartments', 'compassion', 'compatibility', 'compatible', 'compatibly', 'compelled', 'compensate', 'compete', 'competes', 'competition', 'competitive', 'competitively', 'competitor', 'competitors', 'complain', 'complained', 'complaining', 'complains', 'complaint', 'complaints', 'compleats', 'complely', 'complement', 'complements', 'complete', 'completed', 'completely', 'completing', 'complex', 'complexion', 'complexity', 'complicated', 'complications', 'compliment', 'complimented', 'complimenting', 'compliments', 'complying', 'component', 'components', 'composition', 'compost', 'compostable', 'compote', 'compressor', 'comprise', 'compromise', 'compromised', 'compromising', 'compulsive', 'computer', 'computers', 'comreally', 'con', 'concede', 'conceive', 'concensus', 'concentrate', 'concentrated', 'concentratedwith', 'concentrates', 'concentration', 'concept', 'concern', 'concerned', 'concerning', 'concerns', 'concluded', 'conclusion', 'conclusionbuy', 'concoction', 'concoctions', 'concord', 'concourse', 'concur', 'condensed', 'condenser', 'condensor', 'condiment', 'condiments', 'condition', 'conditioned', 'conditioners', 'conditions', 'condor', 'conducive', 'conduct', 'conductive', 'cone', 'cones', 'confection', 'confectionery', 'conference', 'confess', 'confidant', 'confidence', 'confident', 'confidently', 'configurations', 'confirm', 'confirmation', 'confirmed', 'conflict', 'conformation', 'confronted', 'confuse', 'confused', 'confusing', 'confusion', 'congestion', 'conglomerate', 'congo', 'congou', 'connect', 'connected', 'connecting', 'connection', 'connections', 'connector', 'connisseur', 'connivence', 'connoisseur', 'connoisseurs', 'connor', 'cons', 'conscience', 'conscious', 'consecutively', 'consensus', 'consentrate', 'consequence', 'consequently', 'consider', 'considerably', 'considered', 'considering', 'consious', 'consistancy', 'consistant', 'consistantly', 'consistency', 'consistent', 'consistently', 'consisting', 'consistly', 'consists', 'consitancy', 'consolation', 'constancy', 'constant', 'constantly', 'constapation', 'constipated', 'constipation', 'constraints', 'constricted', 'construction', 'consult', 'consume', 'consumed', 'consumer', 'consumerlab', 'consumers', 'consumes', 'consuming', 'consumption', 'contact', 'contacted', 'contacting', 'contain', 'contained', 'container', 'containergreat', 'containers', 'containerthis', 'containing', 'contains', 'containted', 'contaminants', 'contaminate', 'contaminated', 'contamination', 'contemplating', 'content', 'contents', 'contest', 'continually', 'continue', 'continued', 'continues', 'continuing', 'continuous', 'contracting', 'contraptions', 'contrast', 'contribute', 'contributing', 'contributive', 'contributor', 'control', 'controlled', 'controlling', 'controls', 'convection', 'convenience', 'convenient', 'conveniently', 'convention', 'conventional', 'conventionally', 'conversation', 'conversely', 'conversion', 'convert', 'converted', 'converter', 'converters', 'converts', 'convienence', 'convienient', 'convince', 'convinced', 'convinence', 'convinient', 'convulsing', 'cook', 'cookbook', 'cookbooks', 'cooke', 'cooked', 'cooker', 'cookie', 'cookies', 'cookiie', 'cookin', 'cooking', 'cooks', 'cool', 'coolby', 'cooled', 'cooler', 'coolest', 'cooling', 'cools', 'coon', 'coop', 'coordinated', 'cop', 'copious', 'copper', 'coppery', 'copy', 'copycat', 'copyrighted', 'cord', 'cordial', 'cordura', 'core', 'corgi', 'cork', 'corks', 'cormick', 'cormicks', 'corn', 'cornbread', 'corned', 'corner', 'cornered', 'corners', 'cornflakes', 'cornflour', 'cornmeal', 'cornstarch', 'cornucopia', 'corporate', 'corporations', 'corral', 'corrals', 'correct', 'corrected', 'correctly', 'corroded', 'corsage', 'corsorzio', 'cos', 'cosmetic', 'cost', 'costa', 'costco', 'costing', 'costly', 'costo', 'costplus', 'costs', 'costume', 'costumer', 'coton', 'cotta', 'cottage', 'cotton', 'cottonelle', 'cottonseed', 'coudl', 'cough', 'coughing', 'could', 'couldnt', 'coulod', 'count', 'counter', 'counterpart', 'counters', 'counting', 'countless', 'countries', 'country', 'countryside', 'counts', 'county', 'couple', 'coupon', 'coupons', 'course', 'courses', 'court', 'courteous', 'courtesy', 'cous', 'couscous', 'cousin', 'cover', 'covered', 'covering', 'cow', 'coward', 'coworkers', 'cows', 'coyly', 'cozy', 'crab', 'crabmeat', 'crabtree', 'crack', 'cracked', 'cracker', 'crackerjack', 'crackers', 'cracks', 'cradle', 'craft', 'craftsmanship', 'craig', 'craisin', 'cramp', 'cramping', 'cramps', 'cranberries', 'cranberry', 'crane', 'crank', 'crap', 'crapload', 'crappy', 'craps', 'crash', 'crashes', 'crate', 'crave', 'craves', 'craving', 'cravings', 'crayola', 'crayons', 'craze', 'crazy', 'cream', 'creamer', 'creamers', 'creamier', 'creaminess', 'creams', 'creamy', 'create', 'created', 'creater', 'creates', 'creating', 'creation', 'creative', 'creators', 'credit', 'credits', 'creek', 'creeping', 'creme', 'cremes', 'crepes', 'cresent', 'cretan', 'cria', 'crickets', 'cried', 'cries', 'cringe', 'cringed', 'crinkle', 'criollo', 'crip', 'cripple', 'crisco', 'crisis', 'crisp', 'crispbread', 'crispbreads', 'crisper', 'crispier', 'crispiness', 'crispness', 'crisps', 'crispy', 'criteria', 'critic', 'critical', 'criticism', 'criticizing', 'critics', 'crocker', 'crockets', 'crohn', 'crops', 'cross', 'crossbred', 'crossed', 'crossover', 'crouton', 'crowd', 'crown', 'cruchiness', 'crud', 'crude', 'crudites', 'cruel', 'cruelty', 'cruise', 'crumb', 'crumbiness', 'crumble', 'crumbled', 'crumbles', 'crumbly', 'crumbs', 'crumby', 'crunch', 'crunchaholic', 'crunched', 'crunches', 'crunchie', 'crunchier', 'crunchies', 'crunchiest', 'crunchiness', 'crunching', 'crunchy', 'cruncy', 'crusade', 'crush', 'crushed', 'crushing', 'crust', 'crusted', 'crusties', 'crusts', 'crusty', 'cruz', 'crying', 'crystal', 'crystalize', 'crystalline', 'crystallization', 'crystallized', 'crystals', 'cs', 'csrs', 'ct', 'cualquier', 'cubase', 'cube', 'cubes', 'cucumber', 'cuisinart', 'cuisine', 'cukes', 'culinary', 'culprit', 'culquier', 'culture', 'culturelle', 'cultures', 'cumbersome', 'cumin', 'cup', 'cupboard', 'cupboards', 'cupcake', 'cupcakes', 'cupof', 'cupor', 'cuppa', 'cups', 'curb', 'curd', 'cure', 'cured', 'cures', 'curios', 'curiosity', 'curious', 'curiously', 'curl', 'curled', 'current', 'currently', 'curries', 'curry', 'curve', 'cushioned', 'cushioning', 'cust', 'custard', 'custom', 'customary', 'customer', 'customers', 'customize', 'customs', 'cut', 'cute', 'cuter', 'cuts', 'cutter', 'cutting', 'cuz', 'cycle', 'cycling', 'czipetke', 'da', 'dab', 'dachshund', 'dachshunds', 'dachuhund', 'dad', 'daddy', 'daikon', 'daily', 'dairy', 'daisy', 'dallas', 'dalmatian', 'damage', 'damaged', 'damaging', 'damn', 'damning', 'damp', 'dan', 'dancer', 'dancing', 'dandelion', 'dandruff', 'dane', 'danes', 'dang', 'danger', 'dangerous', 'dangers', 'danish', 'dare', 'darford', 'darjeeling', 'darjeerling', 'dark', 'darker', 'darkness', 'darn', 'darned', 'das', 'dash', 'data', 'date', 'dated', 'dates', 'dating', 'daughter', 'daughters', 'daunting', 'dave', 'davidson', 'davis', 'dawned', 'day', 'daybreak', 'days', 'daythey', 'daytime', 'dc', 'dcaf', 'dd', 'de', 'dead', 'deadened', 'deal', 'dealing', 'dealings', 'deals', 'dean', 'dear', 'dearly', 'death', 'debacle', 'debate', 'debating', 'debilitating', 'debt', 'debuted', 'dec', 'decade', 'decadence', 'decadent', 'decades', 'decaf', 'decafe', 'decaff', 'decaffeinate', 'decaffeinated', 'decaffeinating', 'decaffeination', 'decaffienated', 'decaffinated', 'decaffs', 'decafs', 'decals', 'decanted', 'deceitful', 'deceive', 'deceived', 'deceiving', 'december', 'decent', 'decente', 'decently', 'deceptive', 'deceptively', 'decide', 'decided', 'decides', 'deciding', 'decision', 'decisions', 'decker', 'declined', 'decongestants', 'decor', 'decorate', 'decorated', 'decorating', 'decoration', 'decorations', 'decorative', 'decorator', 'decrease', 'decreased', 'decreases', 'dedication', 'deduct', 'deduction', 'deeming', 'deems', 'deep', 'deeper', 'deeply', 'deer', 'def', 'defeat', 'defeated', 'defeats', 'defect', 'defective', 'deff', 'defficiencies', 'defiantly', 'deficiency', 'defies', 'definately', 'definite', 'definitelly', 'definitely', 'definitentally', 'definitly', 'definnantly', 'defintely', 'deflated', 'defragging', 'defrost', 'degraded', 'degrades', 'degree', 'degrees', 'degusting', 'dehydrated', 'deiced', 'deirectly', 'del', 'delays', 'delectable', 'delectably', 'deleted', 'deli', 'deliberately', 'delicacy', 'delicate', 'delicately', 'delicious', 'deliciously', 'deliciousness', 'delicous', 'delight', 'delighted', 'delightful', 'delightfully', 'delights', 'deliicous', 'delious', 'deliscious', 'delish', 'deliver', 'delivered', 'deliveries', 'delivering', 'delivers', 'delivery', 'dell', 'demand', 'demeanor', 'dementia', 'demos', 'denied', 'denny', 'dense', 'denser', 'density', 'dent', 'dentabones', 'dental', 'dente', 'dented', 'dentist', 'dents', 'dentures', 'deodorizing', 'department', 'departure', 'depend', 'dependable', 'depending', 'depends', 'deployed', 'deposited', 'depot', 'depressant', 'depressed', 'deprived', 'dept', 'depth', 'derivatives', 'derived', 'deriving', 'dermatologist', 'descaled', 'describe', 'described', 'describes', 'describing', 'description', 'desert', 'deserts', 'deserve', 'deserved', 'deserves', 'deserving', 'design', 'designed', 'designer', 'designs', 'desinged', 'desirable', 'desire', 'desireable', 'desired', 'desires', 'desk', 'desks', 'desktop', 'desperate', 'desperately', 'desperation', 'despite', 'dessert', 'desserts', 'destination', 'destined', 'destroy', 'destroyed', 'destroying', 'destructive', 'detachable', 'detached', 'detail', 'detailed', 'detailing', 'details', 'detailsabout', 'detect', 'detected', 'detectible', 'detective', 'deter', 'deterent', 'detergent', 'determine', 'determined', 'deterred', 'deters', 'detest', 'detox', 'detract', 'detrimental', 'detroit', 'devastated', 'devastating', 'develop', 'developed', 'developers', 'developing', 'development', 'deviate', 'device', 'devices', 'devil', 'devine', 'devnotes', 'devoted', 'devoting', 'devour', 'devoured', 'devouring', 'devours', 'dexterity', 'dextrin', 'dextrose', 'df', 'dh', 'dha', 'dhall', 'dharana', 'di', 'diabetes', 'diabetic', 'diabetics', 'diagnosed', 'diagnosedwith', 'dial', 'diameter', 'diametergummy', 'diamond', 'diamondgreen', 'diaper', 'diapers', 'diappointed', 'diarhea', 'diarrhea', 'dice', 'diced', 'dicing', 'dictated', 'didnt', 'die', 'died', 'diego', 'diet', 'dietary', 'dieter', 'dieters', 'dietetic', 'dieti', 'dieting', 'dietingredientscertified', 'diets', 'diferent', 'diffently', 'differ', 'differed', 'difference', 'differences', 'different', 'differentiates', 'differently', 'differnet', 'differs', 'difficult', 'difficulties', 'difficulty', 'diffrent', 'dig', 'digest', 'digested', 'digestible', 'digesting', 'digestion', 'digestive', 'digests', 'digestyou', 'digging', 'diggity', 'digidesign', 'digital', 'diglycerides', 'digress', 'dijon', 'dijons', 'dilemma', 'dilemmas', 'diligent', 'dill', 'dilly', 'dilute', 'diluted', 'dilutes', 'diluting', 'dilution', 'dim', 'dime', 'dimensional', 'dimensions', 'dimentions', 'diminished', 'dine', 'diner', 'dingo', 'dings', 'dining', 'dinky', 'dinner', 'dinners', 'dinosaur', 'dinty', 'dioxide', 'dip', 'dipotassium', 'dipped', 'dippin', 'dipping', 'dips', 'direct', 'directed', 'directions', 'directly', 'director', 'dirt', 'dirty', 'disabilities', 'disability', 'disabled', 'disagree', 'disagreeable', 'disapointed', 'disapointment', 'disappear', 'disappeared', 'disappears', 'disappionted', 'disappoined', 'disappoint', 'disappointed', 'disappointing', 'disappointment', 'disappointments', 'disapppointed', 'disassembled', 'disasterous', 'disatified', 'disc', 'disceptive', 'discern', 'discernable', 'discernible', 'discerning', 'discharge', 'discipline', 'disciplined', 'disclaimer', 'disclose', 'disclosure', 'disco', 'discoloration', 'discolored', 'discomfort', 'disconnects', 'discontinue', 'discontinued', 'discontinuing', 'discount', 'discounted', 'discounts', 'discourage', 'discouraged', 'discouraging', 'discover', 'discovered', 'discovery', 'discription', 'discs', 'discuss', 'disease', 'diseased', 'diseases', 'disgruntling', 'disguise', 'disgusted', 'disgusting', 'disgustingly', 'disgutingly', 'dish', 'dishearting', 'dishes', 'disintegrate', 'disks', 'dislike', 'disliked', 'dismay', 'dismayed', 'dismissive', 'disney', 'disneyland', 'disodium', 'disolve', 'disorder', 'disorienting', 'dispatched', 'dispelled', 'dispense', 'dispenser', 'dispenses', 'dispensing', 'disphoria', 'display', 'displayed', 'displays', 'displeased', 'disposable', 'disposal', 'dispose', 'disputandem', 'disregarding', 'dissapoint', 'dissapointed', 'dissapointing', 'dissapointment', 'dissapointments', 'dissappointed', 'dissappointing', 'dissatisfied', 'dissipate', 'dissipated', 'dissloves', 'dissoluble', 'dissolve', 'dissolved', 'dissolves', 'dissolving', 'dissovle', 'dissuade', 'distance', 'distant', 'distaste', 'distilled', 'distinct', 'distinctive', 'distinctiveness', 'distinctly', 'distinguish', 'distinguished', 'distinguishes', 'distortion', 'distract', 'distracted', 'distress', 'distribute', 'distributed', 'distribution', 'distributor', 'district', 'disturbing', 'disturbingly', 'dive', 'divided', 'divine', 'division', 'dixie', 'doberman', 'doc', 'docs', 'doctor', 'doctored', 'doctoring', 'doctors', 'doe', 'doesnt', 'dofferent', 'dog', 'dogadvisor', 'dogfood', 'dogfoodadvisor', 'dogfoods', 'doggie', 'doggies', 'doggone', 'doggy', 'dogs', 'dolce', 'dolche', 'dollar', 'dollars', 'domestic', 'domestically', 'dominated', 'dominicks', 'donate', 'donated', 'done', 'doniuts', 'dont', 'donut', 'donuts', 'doodle', 'doodles', 'doogie', 'door', 'doorstep', 'doorstop', 'dop', 'dope', 'doritos', 'dorm', 'dorms', 'dorset', 'dorthy', 'dos', 'dosage', 'dose', 'doses', 'dosome', 'dots', 'double', 'doubled', 'doubt', 'doubting', 'doubts', 'dough', 'doughnuts', 'dousing', 'douwe', 'dove', 'doves', 'downfall', 'downgrade', 'downhill', 'download', 'downright', 'downs', 'downside', 'downsides', 'downsize', 'downsized', 'doxee', 'doxie', 'dozen', 'dozens', 'dr', 'drab', 'drag', 'dragon', 'drain', 'drainage', 'drained', 'draining', 'drains', 'dramatic', 'dramatically', 'drank', 'drastic', 'drastically', 'dravis', 'draw', 'drawback', 'drawbacks', 'drawer', 'drawers', 'drawing', 'drawn', 'dreading', 'dream', 'dreamed', 'drench', 'dresings', 'dress', 'dressing', 'dressingnow', 'dressings', 'dribble', 'dried', 'drier', 'drink', 'drinkable', 'drinker', 'drinkers', 'drinking', 'drinks', 'drip', 'dripping', 'drippings', 'drippy', 'drive', 'driven', 'driver', 'drivers', 'drives', 'driving', 'drizzle', 'droopy', 'drop', 'dropped', 'dropping', 'droppings', 'drops', 'drowns', 'drowsy', 'drug', 'drugs', 'drunk', 'drv', 'dry', 'dryer', 'dryish', 'dryness', 'dual', 'dubble', 'dubious', 'duck', 'dud', 'dude', 'dudes', 'duds', 'due', 'dug', 'duh', 'dulce', 'dull', 'dulled', 'duller', 'dum', 'dumb', 'dump', 'dumped', 'dumping', 'dumpling', 'dumplings', 'dums', 'duncan', 'dunkan', 'dunked', 'dunkin', 'dunking', 'duper', 'duping', 'duplicate', 'durability', 'durable', 'duration', 'duress', 'durkee', 'dust', 'dusted', 'dusting', 'dusty', 'dutch', 'duty', 'dv', 'dvd', 'dwindle', 'dwindling', 'dye', 'dyed', 'dyes', 'dying', 'dynamic', 'dynamics', 'dynamite', 'dynasty', 'ea', 'eads', 'eager', 'eagerly', 'ear', 'earache', 'earl', 'earlier', 'earliest', 'early', 'earlyshield', 'earned', 'earrings', 'ears', 'earth', 'earthier', 'earths', 'earthsbest', 'earthworms', 'earthy', 'ease', 'easier', 'easiest', 'easily', 'easiness', 'east', 'easter', 'eastern', 'easy', 'eat', 'eatable', 'eaten', 'eater', 'eaters', 'eatin', 'eating', 'eats', 'eatting', 'eatvery', 'eb', 'ebay', 'eclectic', 'eclipse', 'eco', 'ecofriendly', 'ecological', 'economic', 'economical', 'economically', 'economy', 'ecstatic', 'ect', 'ecuador', 'ecuadorian', 'ed', 'eden', 'edenfoods', 'edge', 'edges', 'edgy', 'edible', 'edit', 'editing', 'edition', 'edmund', 'educated', 'educating', 'educational', 'edy', 'eerie', 'eerily', 'effect', 'effective', 'effectively', 'effectiveness', 'effects', 'effervescent', 'efficiency', 'efficient', 'effort', 'effortless', 'efforts', 'egberts', 'egg', 'eggesbo', 'eggnog', 'eggos', 'eggplant', 'eggrolls', 'eggs', 'eggy', 'egrolls', 'ehow', 'eight', 'eighty', 'einsteins', 'eith', 'either', 'eitzehs', 'el', 'elaborada', 'elana', 'elastic', 'elasticity', 'elated', 'elderly', 'election', 'electric', 'electrical', 'electrolites', 'electrolyte', 'electrolytes', 'electrolytic', 'electrovoice', 'elegant', 'elegantly', 'elegible', 'element', 'elementary', 'elements', 'elephant', 'elevated', 'elevates', 'eleven', 'elf', 'elicit', 'eligible', 'eliminate', 'eliminated', 'eliminates', 'eliminating', 'elimination', 'elite', 'elixer', 'elixers', 'elixir', 'elkhound', 'ella', 'elmer', 'elmo', 'else', 'elsewhere', 'eludes', 'em', 'email', 'emailed', 'emails', 'embark', 'embarrassed', 'embarrassing', 'embedded', 'emblem', 'embodies', 'emergencies', 'emergency', 'emergi', 'emeril', 'emitted', 'employed', 'employees', 'emptied', 'empties', 'empty', 'en', 'enchaladas', 'enclosed', 'encloses', 'enclosure', 'encoraging', 'encore', 'encounter', 'encountered', 'encourage', 'encouraged', 'encourages', 'encouraging', 'encrusted', 'end', 'endeavored', 'endeavors', 'ended', 'ending', 'endless', 'endorse', 'endorsement', 'ends', 'endurance', 'endure', 'endurolyte', 'enemies', 'enemy', 'ener', 'energ', 'energetic', 'energized', 'energizing', 'energy', 'enfamel', 'enfamil', 'engage', 'engelesia', 'engerg', 'engineer', 'engineered', 'england', 'english', 'enhance', 'enhanced', 'enhancer', 'enhancers', 'enhances', 'enjoy', 'enjoyable', 'enjoyed', 'enjoyedjthe', 'enjoyer', 'enjoying', 'enjoyment', 'enjoys', 'enlarge', 'enlightening', 'enlisted', 'enlivens', 'enormous', 'enough', 'enought', 'enouugh', 'enptied', 'enrich', 'enriched', 'ensue', 'ensure', 'ensured', 'ensuring', 'entails', 'entangled', 'entenmann', 'enter', 'entertaining', 'entertainment', 'enthusiasm', 'enthusiastic', 'enthusiastically', 'enticed', 'enticing', 'entire', 'entirely', 'entirety', 'entitled', 'entr', 'entrada', 'entree', 'entrees', 'envelope', 'enviorment', 'enviro', 'envirokids', 'environment', 'environmental', 'environmentally', 'enzymes', 'epa', 'epcot', 'epic', 'epicurean', 'epileptic', 'episode', 'episodes', 'epoxy', 'eq', 'equal', 'equally', 'equals', 'equate', 'equation', 'equipment', 'equipped', 'equitable', 'equity', 'equivalent', 'equivalents', 'er', 'era', 'erie', 'erin', 'erratically', 'error', 'ers', 'ersatz', 'erythritol', 'es', 'escape', 'escapes', 'escaping', 'escargot', 'eskimo', 'esp', 'especial', 'especially', 'espousing', 'espresso', 'espressos', 'esque', 'ess', 'esselstyn', 'essence', 'essential', 'essentially', 'essentials', 'esspresso', 'est', 'established', 'establishing', 'este', 'estimate', 'estimated', 'estract', 'et', 'etc', 'etcetera', 'etheopian', 'ether', 'ethereal', 'ethical', 'ethics', 'ethiopian', 'ethnic', 'ethos', 'ethoxyquin', 'ethylene', 'eu', 'eucharist', 'eukanauba', 'eukanuba', 'europe', 'european', 'evaluate', 'evaluated', 'evans', 'evaporated', 'eve', 'even', 'evening', 'evenings', 'evenly', 'evenovershadows', 'evens', 'event', 'eventhe', 'eventually', 'ever', 'everlasting', 'every', 'everybody', 'everyday', 'everydayforamonth', 'everyone', 'everyonebbq', 'everything', 'everytime', 'everywhere', 'eveything', 'evian', 'evidence', 'evidently', 'evie', 'evinced', 'evo', 'evokes', 'evolved', 'evoo', 'eww', 'ewwww', 'ex', 'exact', 'exactly', 'exaggeration', 'exam', 'examine', 'example', 'exceed', 'exceeded', 'exceeds', 'excelencia', 'excellence', 'excellent', 'excellentamazon', 'excellently', 'excellentprice', 'except', 'exception', 'exceptional', 'exceptionally', 'excercise', 'excerpt', 'excess', 'excessive', 'excessively', 'exchange', 'exchanging', 'excited', 'excitedly', 'excitement', 'exciting', 'exclusive', 'exclusively', 'excursions', 'excuse', 'execellant', 'executed', 'execution', 'exeption', 'exercise', 'exercises', 'exercising', 'exhausted', 'exhibit', 'exhibited', 'exist', 'existence', 'existent', 'existing', 'exists', 'exit', 'exotic', 'expand', 'expanding', 'expands', 'expect', 'expectation', 'expectations', 'expected', 'expecting', 'expects', 'expedited', 'expel', 'expeller', 'expended', 'expenive', 'expense', 'expensive', 'expensively', 'experience', 'experienced', 'experiences', 'experiencing', 'experiment', 'experimented', 'experimenting', 'experiments', 'expert', 'experts', 'expiration', 'expire', 'expired', 'expires', 'explain', 'explained', 'explaining', 'explanation', 'explode', 'exploded', 'exploited', 'explore', 'explored', 'exploring', 'explosion', 'explosives', 'expo', 'exported', 'expose', 'exposed', 'exposing', 'exposure', 'express', 'expressing', 'expression', 'exquisite', 'exremely', 'extend', 'extended', 'extension', 'extensive', 'extensively', 'extent', 'exterior', 'external', 'extinguishes', 'extolling', 'extra', 'extract', 'extracted', 'extracti', 'extraction', 'extractnatural', 'extracts', 'extraordinarily', 'extraordinary', 'extras', 'extreme', 'extremelly', 'extremely', 'extrememly', 'extruded', 'eye', 'eyeballs', 'eyes', 'ezee', 'fa', 'faar', 'fab', 'fabric', 'fabulous', 'fabulously', 'face', 'facebook', 'faced', 'faces', 'facilitate', 'facility', 'facorite', 'facsimile', 'fact', 'factor', 'factory', 'facts', 'fade', 'fades', 'fads', 'fail', 'failed', 'failing', 'fails', 'failure', 'faint', 'fair', 'fairfield', 'fairly', 'fairness', 'fairway', 'fairy', 'faithful', 'fajita', 'fajitas', 'fake', 'fakeness', 'falksalt', 'fall', 'fallen', 'falling', 'falls', 'false', 'falsely', 'familia', 'familiar', 'families', 'familure', 'family', 'famnily', 'famous', 'fan', 'fanatic', 'fanatics', 'fancier', 'fancy', 'fanfreakintastic', 'fans', 'fantabulous', 'fantasicakes', 'fantastic', 'fantastically', 'far', 'fare', 'farm', 'farmers', 'farmhouse', 'farms', 'farmwiner', 'farrr', 'farting', 'fartless', 'farts', 'fascinated', 'fashion', 'fashioned', 'fast', 'faster', 'fasting', 'fastly', 'fat', 'fate', 'father', 'fathers', 'fatigue', 'fats', 'fatted', 'fattening', 'fatter', 'fatties', 'fattoush', 'fatty', 'fault', 'faults', 'faulty', 'fav', 'fave', 'favor', 'favorable', 'favorably', 'favored', 'favorie', 'favorite', 'favorites', 'favors', 'favourite', 'favourites', 'favs', 'fda', 'fear', 'feared', 'fearful', 'fearing', 'fears', 'feast', 'feather', 'feathers', 'feature', 'featured', 'features', 'feb', 'february', 'fed', 'fedex', 'fedexing', 'fee', 'feed', 'feedback', 'feeder', 'feeding', 'feedings', 'feeds', 'feel', 'feeling', 'feelings', 'feels', 'feet', 'felidae', 'feline', 'felines', 'fell', 'fellow', 'felt', 'female', 'females', 'fence', 'fences', 'fencing', 'fend', 'fennel', 'fer', 'feral', 'fermentation', 'fermented', 'fermenter', 'fermenting', 'ferrero', 'ferreros', 'ferret', 'fertilize', 'fervently', 'fesenjan', 'fesenjen', 'festival', 'festive', 'fettuccine', 'fetus', 'fever', 'fewer', 'fi', 'fiance', 'fiancee', 'fiber', 'fiberplus', 'fibers', 'fibromyalgia', 'fibrous', 'fide', 'fied', 'field', 'fields', 'fiend', 'fiesta', 'fifteen', 'fifth', 'fifty', 'fig', 'fight', 'fighter', 'fighting', 'figure', 'figured', 'figures', 'figuring', 'fiirst', 'filberts', 'file', 'filet', 'filets', 'filigree', 'filipino', 'fill', 'filled', 'filledhard', 'filler', 'fillers', 'fillet', 'fillets', 'filling', 'fillings', 'fills', 'film', 'filter', 'filtered', 'filters', 'fin', 'final', 'finalizing', 'finally', 'financial', 'find', 'finding', 'findings', 'finds', 'findthe', 'fine', 'finely', 'fineness', 'finer', 'finest', 'finger', 'fingernails', 'fingers', 'finick', 'finicky', 'finiky', 'finish', 'finished', 'finishes', 'finishing', 'finland', 'fire', 'firecracker', 'firecrackers', 'fired', 'fireplace', 'firewire', 'firm', 'firmed', 'firmer', 'firmly', 'firms', 'firmware', 'first', 'firstly', 'fish', 'fishy', 'fit', 'fits', 'fitting', 'five', 'fix', 'fixed', 'fixes', 'fizz', 'fl', 'fla', 'flabbergasted', 'flagging', 'flagship', 'flair', 'flake', 'flaked', 'flakes', 'flaking', 'flaky', 'flan', 'flap', 'flare', 'flash', 'flat', 'flatbread', 'flatbreads', 'flats', 'flattened', 'flaver', 'flavia', 'flavor', 'flavorable', 'flavored', 'flavorful', 'flavoring', 'flavorings', 'flavorless', 'flavors', 'flavorspomegranates', 'flavory', 'flavos', 'flavour', 'flavoured', 'flavourful', 'flavournaturally', 'flavours', 'flavred', 'flavvorssalt', 'flaw', 'flawless', 'flawlessly', 'flax', 'flaxseed', 'flaxseeds', 'flea', 'fledged', 'flesh', 'flexibility', 'flexible', 'flies', 'flight', 'flimsy', 'flip', 'flipside', 'float', 'floaters', 'floating', 'floor', 'floored', 'flopping', 'floral', 'florida', 'florist', 'flossing', 'flour', 'floured', 'flouride', 'flourlicorice', 'flours', 'flovor', 'flovorful', 'flow', 'flower', 'flowers', 'flowery', 'flows', 'flu', 'fluctuate', 'fluctuates', 'fluently', 'fluff', 'fluffier', 'fluffiest', 'fluffiness', 'fluffy', 'fluid', 'fluids', 'fluke', 'flung', 'fluoride', 'flush', 'flushable', 'fluted', 'flutters', 'fly', 'foam', 'foams', 'foamy', 'foccaccia', 'focused', 'focusing', 'foelds', 'fog', 'foil', 'foils', 'folate', 'fold', 'folded', 'folger', 'folgers', 'folk', 'folks', 'follow', 'followed', 'following', 'follows', 'fond', 'fondly', 'fono', 'food', 'fooder', 'foodie', 'foodies', 'foods', 'foodstuffs', 'foodsubject', 'fool', 'fooled', 'fooling', 'foolishly', 'foolproof', 'fools', 'foot', 'footage', 'football', 'footprint', 'footstool', 'foray', 'forbid', 'forbidden', 'force', 'forced', 'forcefeed', 'forcefully', 'forcing', 'forefinger', 'foregn', 'foreign', 'foremost', 'foresee', 'foresight', 'forest', 'forevaaaaaaa', 'forever', 'forewarned', 'forged', 'forget', 'forgettable', 'forgetting', 'forgive', 'forgot', 'fork', 'form', 'formed', 'former', 'formerly', 'forming', 'forms', 'formula', 'formulabe', 'formulae', 'formulas', 'formulated', 'formulation', 'forn', 'fort', 'forth', 'forthe', 'forthright', 'fortunately', 'fortune', 'fortunes', 'forty', 'forum', 'forward', 'foryour', 'foster', 'foul', 'found', 'foundation', 'four', 'fourth', 'fowl', 'fox', 'fraction', 'fractionated', 'fragile', 'fragility', 'fragrance', 'fragrant', 'fralinger', 'frame', 'france', 'francisco', 'frank', 'frankenstein', 'frankly', 'frat', 'frazzled', 'freak', 'freakin', 'freaking', 'freakishly', 'freaks', 'fred', 'free', 'freecontains', 'freely', 'freeze', 'freezer', 'freezes', 'freezing', 'freight', 'french', 'frequency', 'frequently', 'fresca', 'fresco', 'fresh', 'freshen', 'freshening', 'fresher', 'freshest', 'freshing', 'freshly', 'freshman', 'freshness', 'friday', 'fridge', 'fried', 'friend', 'friendliness', 'friendly', 'friends', 'frier', 'fries', 'frig', 'friggin', 'frightening', 'frijoles', 'friskies', 'frito', 'fritos', 'frity', 'frm', 'fromm', 'front', 'frontier', 'frost', 'frosted', 'frosting', 'frothing', 'froze', 'frozen', 'fructose', 'fructouse', 'fruit', 'fruitcake', 'fruits', 'fruity', 'frustrated', 'frustrating', 'frustration', 'fry', 'fryer', 'frying', 'ft', 'ftgfop', 'ftw', 'fudge', 'fuel', 'fulfill', 'fulfilled', 'fulfilling', 'fulfillment', 'fulfills', 'full', 'fuller', 'fullest', 'fully', 'fun', 'function', 'functional', 'functionality', 'functions', 'fund', 'fundraiser', 'fungicidal', 'funky', 'funny', 'funyuns', 'fur', 'furminator', 'furniture', 'furry', 'furthermore', 'fused', 'fuss', 'fussinesseasy', 'fussy', 'futher', 'future', 'futuristic', 'fuze', 'fuzzy', 'fyi', 'gabriel', 'gadget', 'gag', 'gagged', 'gagging', 'gail', 'gain', 'gained', 'gaining', 'gaiwan', 'gal', 'gallo', 'gallon', 'gallons', 'gamble', 'game', 'gamed', 'games', 'gaming', 'ganocafe', 'ganoderma', 'gaping', 'gaps', 'garage', 'garageband', 'garbage', 'garbanzo', 'garden', 'gardeners', 'gardening', 'gardner', 'garfield', 'garlic', 'garlicky', 'garnish', 'gary', 'gas', 'gasket', 'gasreduced', 'gassy', 'gastric', 'gastritis', 'gastro', 'gastrointestinal', 'gastronomy', 'gate', 'gates', 'gather', 'gatherer', 'gathering', 'gatherings', 'gatorade', 'gaufres', 'gave', 'gawked', 'gaynor', 'gazillion', 'gb', 'gd', 'gds', 'gear', 'gee', 'geek', 'geesh', 'geisha', 'gelatin', 'gelatinous', 'geliva', 'gem', 'gems', 'genera', 'general', 'generally', 'generating', 'generator', 'generic', 'generically', 'generous', 'generously', 'generouslycoat', 'genetically', 'genisoy', 'genius', 'genmai', 'genocide', 'gensoy', 'gentle', 'gentleman', 'gently', 'gentry', 'genuine', 'genuinely', 'gerber', 'gerbers', 'gerbils', 'gerd', 'germ', 'german', 'germany', 'germinate', 'germination', 'get', 'getaway', 'gets', 'getting', 'gevalia', 'gf', 'gfcf', 'gfree', 'ghastly', 'ghee', 'ghiradeli', 'ghiradelli', 'ghiradhelli', 'ghirardelli', 'ghz', 'gi', 'giant', 'giardia', 'gift', 'gifts', 'gig', 'gigantic', 'giger', 'gild', 'gilding', 'gilligan', 'gimbal', 'gimmicky', 'ginger', 'gingerbread', 'gino', 'ginseng', 'girl', 'girlfriend', 'girls', 'gittery', 'give', 'giveaway', 'given', 'gives', 'giving', 'gizmo', 'glad', 'gladly', 'glanced', 'glands', 'glass', 'glasses', 'glaze', 'glazed', 'glazes', 'glazier', 'glob', 'global', 'globbs', 'globe', 'gloomy', 'glop', 'glossed', 'glossier', 'glossy', 'glove', 'glow', 'glowing', 'glucosamine', 'glucose', 'gludamate', 'glue', 'glueton', 'gluey', 'glutamate', 'glutamic', 'gluten', 'glutenfree', 'glutenous', 'glutin', 'glutten', 'gluttony', 'glycemic', 'glycerin', 'glycerite', 'gm', 'gmo', 'gmos', 'gnawed', 'gnawing', 'gnc', 'gnome', 'gnomes', 'go', 'goal', 'goat', 'gobble', 'gobbled', 'gobbles', 'gocery', 'god', 'godbless', 'goddess', 'godiva', 'gods', 'godsend', 'goes', 'gogreenmart', 'going', 'goji', 'gold', 'golden', 'goldendoodle', 'goldfish', 'goldie', 'golf', 'golfer', 'golfing', 'gone', 'gonna', 'goo', 'good', 'goodbye', 'goodie', 'goodies', 'goodl', 'goodness', 'goods', 'goodwill', 'gooey', 'gooeyness', 'goof', 'google', 'googly', 'goop', 'goopy', 'goos', 'goose', 'goosefoot', 'gooy', 'gordo', 'goreng', 'gorgeous', 'gorilla', 'gormet', 'gorton', 'gosh', 'got', 'gotta', 'gotten', 'gouge', 'gouges', 'gouging', 'goulash', 'gourmet', 'gout', 'government', 'governments', 'goya', 'goyasalad', 'grab', 'grabaci', 'grabbed', 'grabbing', 'grabby', 'gracious', 'grad', 'grade', 'gradually', 'graham', 'grahams', 'grail', 'grain', 'grains', 'grainy', 'gram', 'grammie', 'grammy', 'grams', 'granatus', 'grand', 'grandaughter', 'grandbabies', 'grandchildren', 'granddad', 'granddaughter', 'granddaughters', 'grande', 'grandeur', 'grandfather', 'grandkids', 'grandma', 'grandmother', 'grandpa', 'grandparents', 'grandson', 'grandsons', 'granola', 'granparents', 'granted', 'grants', 'granular', 'granulated', 'granule', 'granules', 'grape', 'grapefruit', 'grapeseed', 'graphics', 'grass', 'grasses', 'grasshoppers', 'grassy', 'grated', 'grateful', 'gratefully', 'gratin', 'gratted', 'gravel', 'gravely', 'gravies', 'gravitate', 'gravitated', 'gravity', 'gravy', 'grayish', 'graze', 'grazer', 'grazing', 'grear', 'grease', 'greasier', 'greasiness', 'greasy', 'great', 'greatas', 'greater', 'greatest', 'greatly', 'gree', 'greece', 'greed', 'greek', 'greeks', 'green', 'greenbeans', 'greenough', 'greens', 'greenwashing', 'greets', 'greg', 'grew', 'grey', 'grid', 'griddle', 'grill', 'grilled', 'grilling', 'grin', 'grind', 'grinder', 'grinding', 'grins', 'grip', 'gripe', 'gristle', 'grit', 'grittiness', 'gritty', 'grittyness', 'grocer', 'groceries', 'grocers', 'grocery', 'groecery', 'groom', 'groomed', 'groomer', 'grooming', 'grooves', 'groovy', 'gross', 'grossly', 'grouchy', 'ground', 'grounding', 'grounds', 'group', 'grouping', 'groups', 'grove', 'groves', 'grow', 'grower', 'growing', 'grown', 'grows', 'growth', 'grr', 'grrrrrrrreat', 'grudgingly', 'grumpy', 'gsd', 'guaifenisen', 'guanylate', 'guar', 'guarana', 'guarantee', 'guaranteed', 'guarantees', 'guarding', 'guatamalan', 'guava', 'guayaki', 'gubment', 'guess', 'guessed', 'guessing', 'guesswork', 'guest', 'guesto', 'guests', 'guided', 'guidelines', 'guilt', 'guiltily', 'guilty', 'guinea', 'guinness', 'guitar', 'gulab', 'gulping', 'gulyas', 'gum', 'gumballs', 'gummi', 'gummies', 'gummy', 'gumnotice', 'gums', 'gun', 'gunk', 'gunking', 'gunner', 'guns', 'gussie', 'gustibus', 'gusto', 'gut', 'gute', 'guy', 'guybusy', 'guys', 'gym', 'ha', 'habanero', 'habenaro', 'habenero', 'habit', 'habits', 'habitual', 'haccp', 'hacer', 'hah', 'haha', 'hair', 'hairlike', 'hairy', 'halal', 'halaleveryday', 'half', 'halfway', 'hall', 'halloween', 'halo', 'halving', 'halvorsen', 'halwa', 'ham', 'hamburger', 'hamburgers', 'hamilton', 'hammer', 'hand', 'handbag', 'handbags', 'handbook', 'handful', 'handfuls', 'handheld', 'handicapped', 'handily', 'handing', 'handle', 'handled', 'handling', 'handly', 'handmade', 'hands', 'handsful', 'handwritten', 'handy', 'hang', 'hanging', 'hangover', 'hannaford', 'hanoud', 'hanout', 'hao', 'happen', 'happened', 'happening', 'happens', 'happier', 'happily', 'happiness', 'happy', 'happybaby', 'happycame', 'happyfamily', 'happymelts', 'happymunchies', 'harbor', 'harbors', 'hard', 'harden', 'hardened', 'hardens', 'harder', 'hardest', 'hardly', 'hardness', 'hardware', 'hardy', 'harm', 'harmful', 'harmless', 'harmonic', 'harmony', 'harney', 'harp', 'harry', 'harsh', 'harshness', 'hartz', 'harvest', 'harvested', 'harvesting', 'hash', 'hasnt', 'hassels', 'hassle', 'hassles', 'hasta', 'hate', 'hated', 'haters', 'hates', 'hating', 'hats', 'hauling', 'hav', 'haveing', 'havent', 'haves', 'havesomething', 'hawaii', 'hawaiian', 'hawt', 'hay', 'hazalnut', 'hazard', 'hazardous', 'hazards', 'haze', 'hazelnut', 'hazelnuts', 'hbp', 'hc', 'hcg', 'hdl', 'head', 'headache', 'headaches', 'headachy', 'headed', 'header', 'heading', 'headlamps', 'headline', 'headphone', 'heads', 'heady', 'heal', 'healing', 'health', 'healthcare', 'healthest', 'healthful', 'healthfully', 'healthfulness', 'healthier', 'healthiest', 'healthily', 'healthiness', 'healthlier', 'healthy', 'healtier', 'healty', 'heap', 'heaped', 'heaping', 'hear', 'heard', 'hearing', 'hears', 'heart', 'heartbreaking', 'heartburn', 'hearted', 'heartedly', 'heartily', 'hearts', 'hearty', 'heat', 'heated', 'heather', 'heating', 'heatproof', 'heats', 'heaven', 'heavenly', 'heavens', 'heavier', 'heavily', 'heaviness', 'heavy', 'heb', 'heck', 'heed', 'heeler', 'heft', 'hefty', 'hehe', 'height', 'heinous', 'heinz', 'heirloom', 'held', 'hell', 'hello', 'help', 'helped', 'helper', 'helpful', 'helping', 'helpings', 'helps', 'hemp', 'hence', 'henry', 'herb', 'herbal', 'herbals', 'herbed', 'herbicide', 'herbs', 'herby', 'herd', 'heritage', 'hero', 'herr', 'herring', 'herrs', 'hershey', 'hersthey', 'hes', 'hesitant', 'hesitate', 'hesitated', 'hesitating', 'hesitation', 'hey', 'hfcs', 'hfcskelloggs', 'hi', 'hibachi', 'hibiscus', 'hickory', 'hid', 'hidden', 'hide', 'hiding', 'hierarchy', 'hierbes', 'high', 'higher', 'highes', 'highest', 'highlanders', 'highlight', 'highlighted', 'highly', 'highs', 'hight', 'hightly', 'highway', 'highy', 'hike', 'hiking', 'hill', 'hillock', 'hills', 'hilton', 'hime', 'hindsight', 'hines', 'hint', 'hinted', 'hints', 'hip', 'hippie', 'hippocrates', 'hippy', 'hips', 'hirts', 'hiss', 'hissing', 'history', 'hit', 'hitch', 'hitchcock', 'hits', 'hitting', 'hives', 'hmmm', 'hmmmm', 'hobbling', 'hobby', 'hockey', 'hocks', 'hocus', 'hodgson', 'hold', 'holder', 'holders', 'holding', 'holdingdown', 'holds', 'hole', 'holes', 'holic', 'holics', 'holiday', 'holidays', 'holistic', 'holland', 'holly', 'hollywood', 'holocaust', 'holy', 'home', 'homeade', 'homedepot', 'homegrown', 'homemade', 'homes', 'homestyle', 'hometown', 'homiedog', 'homogenous', 'honest', 'honestly', 'honesty', 'honey', 'honeybees', 'honeybush', 'honeymooning', 'honeyshe', 'honeyville', 'hoo', 'hoodwinking', 'hook', 'hooked', 'hoopla', 'hooray', 'hoover', 'hop', 'hope', 'hoped', 'hopeful', 'hopefully', 'hopes', 'hoping', 'hops', 'hormel', 'hormonal', 'hormone', 'hormones', 'horn', 'horrendous', 'horrible', 'horribly', 'horrid', 'horrific', 'horrifying', 'horror', 'horse', 'horseradish', 'horses', 'horton', 'hospital', 'hospitalization', 'host', 'hostage', 'hostess', 'hosting', 'hot', 'hotair', 'hotchocolates', 'hotel', 'hotels', 'hotness', 'hots', 'hotspots', 'hotter', 'hottest', 'hound', 'hounds', 'hour', 'hours', 'house', 'houseblend', 'household', 'housemate', 'houseplants', 'houses', 'housewarming', 'housewife', 'houston', 'houtte', 'however', 'howling', 'howls', 'hrs', 'htis', 'hu', 'hubby', 'hubs', 'hue', 'huge', 'huh', 'hull', 'hulless', 'hulls', 'hully', 'hum', 'human', 'humane', 'humans', 'humble', 'humid', 'humidifier', 'humm', 'hummos', 'hummus', 'humor', 'humus', 'hunch', 'hundred', 'hundreds', 'hung', 'hungarian', 'hungarianbookstore', 'hungary', 'hunger', 'hungery', 'hungry', 'hunks', 'hunt', 'hunted', 'hunter', 'hunting', 'hurry', 'hurt', 'hurting', 'hurts', 'husband', 'husbands', 'husbie', 'husks', 'husky', 'hybrid', 'hydrate', 'hydrated', 'hydrating', 'hydration', 'hydrator', 'hydrogenated', 'hydrogenation', 'hydrolysed', 'hydrolyzed', 'hydrox', 'hype', 'hyperbole', 'hypertension', 'hypoallergenic', 'hypoglycemia', 'hypothyroidism', 'hyrator', 'ia', 'iam', 'iams', 'ian', 'ibs', 'ibuprofen', 'ice', 'icebreakers', 'icecream', 'iced', 'iceing', 'icicle', 'icile', 'icing', 'icinghard', 'icky', 'id', 'idaho', 'idea', 'ideal', 'ideas', 'identical', 'identically', 'identifiable', 'identified', 'idiocy', 'idk', 'ido', 'ie', 'iffy', 'ifyou', 'ignore', 'ignored', 'ignores', 'ignoring', 'ihop', 'iican', 'ikea', 'il', 'ill', 'illegal', 'illness', 'illnesses', 'ilness', 'im', 'imac', 'image', 'images', 'imaginable', 'imagination', 'imagine', 'imagined', 'imho', 'imitation', 'imitations', 'imitators', 'immaculate', 'immature', 'immediate', 'immediately', 'immense', 'immensely', 'immersed', 'immortal', 'immune', 'immunity', 'imo', 'impact', 'impacts', 'imparts', 'impasse', 'imperial', 'implementation', 'implied', 'implying', 'import', 'importance', 'important', 'importantly', 'imported', 'impossible', 'impresionante', 'impress', 'impressed', 'impression', 'impressive', 'improperly', 'improve', 'improved', 'improvememnt', 'improvement', 'improvements', 'improves', 'impurities', 'ina', 'inability', 'inadequacy', 'inc', 'incapable', 'incarnation', 'inced', 'incentive', 'inch', 'inches', 'incident', 'incidentally', 'inclan', 'inclined', 'include', 'included', 'includes', 'including', 'inclusion', 'incompatible', 'inconsistent', 'inconsolably', 'inconvenience', 'incorporated', 'incorporating', 'incorrect', 'incorrectly', 'increase', 'increased', 'increases', 'increasing', 'increasingly', 'incredible', 'incredibly', 'incredulously', 'incubate', 'incubator', 'indeed', 'indefinitely', 'independent', 'indescribable', 'index', 'indgredients', 'india', 'indian', 'indicate', 'indicated', 'indicates', 'indicating', 'indication', 'indicationsof', 'indicative', 'indicator', 'indicators', 'indie', 'indigestion', 'indispensible', 'indistinguishable', 'individual', 'individually', 'individuals', 'indonesia', 'indoor', 'indoors', 'indside', 'induce', 'induced', 'indulge', 'indulgence', 'indulges', 'indulging', 'industry', 'inedible', 'ineffable', 'inevitably', 'inexpensive', 'infact', 'infant', 'infantile', 'infants', 'infected', 'infection', 'infections', 'inferior', 'infestation', 'infested', 'infinitely', 'infinity', 'inflamation', 'inflammation', 'inflammatory', 'inflated', 'influence', 'influencing', 'info', 'inform', 'information', 'informed', 'infused', 'infuser', 'infusion', 'infusions', 'ing', 'ingenious', 'ingest', 'ingesting', 'ingestion', 'ingred', 'ingrediant', 'ingrediants', 'ingredient', 'ingredients', 'ingredientspotatoes', 'ingredientsselect', 'ingredientswater', 'ingretents', 'ingridents', 'inhale', 'inhaled', 'inhales', 'inherent', 'inherit', 'inhibit', 'initally', 'initial', 'initially', 'injury', 'ink', 'inner', 'innova', 'innovated', 'innovative', 'inoffensive', 'inoperable', 'inorganic', 'inosinate', 'inosinatefrom', 'input', 'inputs', 'inquiries', 'inquiring', 'inquiry', 'ins', 'insane', 'insanely', 'insanity', 'insect', 'insecticide', 'insert', 'inside', 'insides', 'insipid', 'insist', 'insisted', 'insists', 'inspect', 'inspected', 'inspection', 'inspections', 'inspired', 'inspite', 'install', 'installation', 'installed', 'installing', 'instance', 'instances', 'instant', 'instantaneously', 'instantly', 'instead', 'institute', 'institution', 'instructed', 'instructing', 'instructions', 'instructor', 'insukin', 'insulated', 'insulating', 'insulation', 'insulin', 'insult', 'insulted', 'insurance', 'insure', 'intact', 'intake', 'integrated', 'intelligent', 'intend', 'intended', 'intense', 'intensely', 'intensity', 'intensivo', 'intent', 'intention', 'intentionally', 'inter', 'interchangable', 'interest', 'interested', 'interesting', 'interestingly', 'interests', 'interface', 'interfaces', 'interfere', 'interim', 'interior', 'intermittent', 'internal', 'international', 'internet', 'interns', 'interrupted', 'interval', 'intervals', 'interview', 'intestinal', 'inthe', 'intial', 'intimate', 'intimidate', 'intimidated', 'intolerance', 'intolerant', 'intollerances', 'intoxicating', 'intrigued', 'introduce', 'introduced', 'introducing', 'intrude', 'intuition', 'invaluable', 'invented', 'invention', 'inventory', 'invert', 'invest', 'invested', 'investigate', 'investigating', 'investigation', 'investment', 'investors', 'invigorates', 'invigorating', 'invited', 'inviting', 'invoice', 'involuntary', 'involve', 'involved', 'involves', 'iodide', 'iodine', 'iodized', 'iowa', 'iprozon', 'ir', 'iraq', 'ire', 'ireland', 'irish', 'iron', 'ironically', 'irradiated', 'irregularly', 'irresistible', 'irritability', 'irritable', 'irritate', 'irritated', 'irritating', 'isafe', 'isagged', 'isdelicious', 'ish', 'island', 'islands', 'isle', 'islight', 'isnap', 'isnt', 'isoft', 'isoftness', 'isolate', 'isolo', 'israeli', 'issimply', 'issue', 'issued', 'issues', 'issuing', 'istanbul', 'isticky', 'isubscribe', 'isubscription', 'isubstitution', 'isweet', 'italian', 'italiano', 'italians', 'italy', 'itch', 'itching', 'itchy', 'item', 'itemized', 'items', 'iv', 'ive', 'jack', 'jacket', 'jackie', 'jacks', 'jackson', 'jaded', 'jaime', 'jalape', 'jalapeno', 'jalapenos', 'jalapenoswatervinegarbrown', 'jalapino', 'jalepemo', 'jalepenos', 'jam', 'jamacan', 'jamaica', 'jamaican', 'jamba', 'jamma', 'jammies', 'jams', 'jamun', 'jan', 'janet', 'january', 'japan', 'japanese', 'jar', 'jarred', 'jars', 'jasmine', 'java', 'jaw', 'jay', 'jazz', 'jazzed', 'jbl', 'jealous', 'jean', 'jellies', 'jello', 'jelly', 'jemima', 'jenny', 'jeremiah', 'jerk', 'jerking', 'jerky', 'jerry', 'jersey', 'jesus', 'jet', 'jewel', 'jewels', 'jfk', 'jillian', 'jim', 'jims', 'jin', 'jing', 'jingle', 'jitters', 'jittery', 'jitteryness', 'jn', 'job', 'jobs', 'joe', 'joes', 'john', 'johnson', 'join', 'joined', 'joints', 'joke', 'joking', 'jokingly', 'jolokia', 'jorge', 'josh', 'jostled', 'jostling', 'journal', 'journey', 'joy', 'jsut', 'juan', 'judge', 'judgement', 'judging', 'judgment', 'jug', 'juice', 'juicecombine', 'juiced', 'juicefish', 'juices', 'juicing', 'juicy', 'julia', 'julie', 'juliemrs', 'july', 'jumble', 'jumbo', 'jump', 'jumped', 'jumping', 'june', 'jungle', 'junior', 'junk', 'junkfood', 'junky', 'junto', 'justice', 'justifiably', 'justifies', 'justify', 'justsent', 'jut', 'jw', 'ka', 'kaboodle', 'kaffee', 'kah', 'kalamata', 'kame', 'kamut', 'karachi', 'karavitis', 'kashi', 'kat', 'katjes', 'katzan', 'kavli', 'kcup', 'kcups', 'keebler', 'keemun', 'keen', 'keep', 'keeper', 'keeping', 'keepre', 'keeps', 'keepsake', 'keith', 'kellog', 'kellogg', 'kelloggs', 'kenco', 'kensington', 'kentucky', 'kenya', 'kenyan', 'kenyon', 'kept', 'kernal', 'kernel', 'kernels', 'ketchup', 'ketchupy', 'kettle', 'kettles', 'keurig', 'key', 'kg', 'kibble', 'kibbles', 'kick', 'kicked', 'kicker', 'kickin', 'kicks', 'kid', 'kidding', 'kiddos', 'kidney', 'kidneys', 'kids', 'kiehls', 'kikoman', 'kill', 'killed', 'killin', 'killing', 'kills', 'kilos', 'kim', 'kind', 'kinda', 'kindergarten', 'kindergartens', 'kindneys', 'kindof', 'kinds', 'king', 'kippered', 'kirkland', 'kis', 'kiss', 'kisses', 'kissoh', 'kit', 'kitchen', 'kits', 'kitten', 'kittens', 'kitties', 'kitty', 'kiwi', 'kkups', 'kleenex', 'klefje', 'knee', 'knees', 'knew', 'knife', 'knights', 'knit', 'knob', 'knock', 'knocked', 'knocking', 'knockoffs', 'knockout', 'know', 'knowing', 'knowingit', 'knowledge', 'known', 'knows', 'knox', 'knoxville', 'knuckle', 'kobe', 'koerig', 'koeze', 'kof', 'kofinas', 'kohl', 'kombucha', 'kona', 'kong', 'kongs', 'konriko', 'kool', 'kopi', 'korean', 'kosher', 'kowalski', 'kraft', 'krapola', 'kraut', 'kretschmer', 'krinkle', 'krinos', 'krispie', 'kroger', 'krogers', 'krustead', 'kudos', 'kuerig', 'kuh', 'kups', 'ky', 'kyoto', 'la', 'lab', 'label', 'labeled', 'labeling', 'labelled', 'labelling', 'labels', 'lable', 'laboratories', 'laboratory', 'labrador', 'labs', 'laced', 'laces', 'lack', 'lacked', 'lacking', 'lacks', 'lactating', 'lactic', 'lactose', 'lacy', 'laddoos', 'laden', 'ladies', 'lado', 'lady', 'laffyher', 'lag', 'lagers', 'laid', 'laissez', 'lake', 'lakewood', 'lamb', 'lame', 'laminated', 'lancaster', 'land', 'landed', 'landfill', 'lands', 'lane', 'language', 'lantchips', 'lap', 'laps', 'lapsang', 'lapse', 'laptop', 'lara', 'lard', 'large', 'largely', 'larger', 'largest', 'larry', 'lars', 'las', 'last', 'lasta', 'lasted', 'lasting', 'lastly', 'lastplace', 'lasts', 'latch', 'late', 'lately', 'latency', 'later', 'latest', 'lathers', 'latice', 'latin', 'latte', 'latter', 'lattes', 'laugh', 'laughed', 'laughing', 'laughter', 'laundry', 'laureth', 'lauryl', 'lava', 'lavazza', 'lavender', 'law', 'lawn', 'lawnmower', 'laws', 'lax', 'laxative', 'lay', 'layed', 'layer', 'layered', 'layering', 'layers', 'laying', 'layout', 'layover', 'lays', 'laziness', 'lazy', 'lb', 'lbs', 'lc', 'ldl', 'lead', 'leader', 'leadership', 'leading', 'leads', 'leaf', 'leak', 'leakage', 'leaked', 'leaking', 'leaks', 'leaky', 'lean', 'leaps', 'learn', 'learned', 'learning', 'least', 'leather', 'leave', 'leavening', 'leaves', 'leaving', 'leche', 'leches', 'lecithin', 'led', 'lee', 'leed', 'leery', 'left', 'leftover', 'leftovers', 'leg', 'legal', 'legally', 'legged', 'legitimately', 'legs', 'legumes', 'lemon', 'lemonade', 'lemongrass', 'lemons', 'lemony', 'lemos', 'lend', 'length', 'lengths', 'lengthwise', 'lent', 'lentil', 'lentils', 'leonardi', 'les', 'less', 'lessen', 'lessening', 'lesser', 'lesses', 'lesson', 'let', 'lethargic', 'lethargy', 'lethicin', 'lets', 'letter', 'letterbefore', 'letters', 'letting', 'lettuce', 'levas', 'level', 'levels', 'levening', 'levitated', 'lewis', 'lhasa', 'li', 'liable', 'liar', 'libby', 'liberally', 'liberty', 'license', 'licious', 'lick', 'licked', 'lickin', 'licking', 'licks', 'licorice', 'licorise', 'lid', 'lids', 'lie', 'lied', 'liege', 'liek', 'lies', 'lieu', 'life', 'lifelong', 'lifesaver', 'lifesavers', 'lifestyle', 'lifetime', 'lift', 'lifted', 'lifting', 'light', 'lighten', 'lighter', 'lightest', 'lightly', 'lightness', 'lightning', 'lights', 'lightsnake', 'lightweight', 'lightweights', 'like', 'likebaby', 'liked', 'likehorseradish', 'likely', 'likening', 'likes', 'liketo', 'likewise', 'likey', 'liking', 'lil', 'lily', 'lime', 'limeade', 'limey', 'limit', 'limited', 'limiting', 'limits', 'linda', 'line', 'lined', 'lineon', 'liner', 'liners', 'lines', 'lineup', 'linger', 'lingering', 'lingers', 'linguine', 'lining', 'link', 'linked', 'links', 'linoleic', 'linolenic', 'linux', 'lion', 'lip', 'lipid', 'lipil', 'lipoprotein', 'lips', 'lipton', 'liptonstrangely', 'liquid', 'liquids', 'liquidy', 'liquor', 'liquors', 'liquour', 'list', 'listed', 'listen', 'listened', 'listening', 'listing', 'listings', 'listning', 'lists', 'lite', 'liter', 'literally', 'literature', 'liters', 'litle', 'litte', 'litter', 'littl', 'little', 'littlemore', 'live', 'lived', 'livedin', 'liveglutenfreely', 'lively', 'liven', 'liver', 'lives', 'livestrong', 'livi', 'living', 'llao', 'llasa', 'llevar', 'lo', 'load', 'loaded', 'loading', 'loads', 'loaf', 'loaves', 'lobster', 'loc', 'local', 'locally', 'locate', 'located', 'location', 'locations', 'lock', 'locked', 'loco', 'locust', 'lodge', 'lodges', 'log', 'logged', 'logic', 'logo', 'lol', 'loli', 'lolipops', 'lollies', 'lollipop', 'lollipops', 'lolly', 'london', 'long', 'longan', 'longed', 'longer', 'longest', 'longevity', 'longing', 'longish', 'loofah', 'look', 'looked', 'lookes', 'looking', 'lookout', 'looks', 'looney', 'looooove', 'loooove', 'looove', 'loop', 'loose', 'looseleaf', 'loosely', 'loosing', 'lopsided', 'lorann', 'lord', 'lorenzo', 'lorinature', 'lose', 'loses', 'losing', 'loss', 'lost', 'lot', 'lotion', 'lotions', 'lots', 'lotta', 'loud', 'louder', 'loudly', 'louis', 'louisanna', 'louisiana', 'lourdes', 'lousy', 'love', 'loveable', 'loved', 'lovely', 'lover', 'lovers', 'loves', 'loving', 'low', 'lower', 'lowered', 'lowering', 'lowes', 'lowest', 'lowfat', 'loyal', 'loyalist', 'loyalty', 'lozenges', 'lsfjewldf', 'lskejfewl', 'luck', 'lucked', 'luckily', 'lucks', 'lucky', 'lucy', 'luggage', 'lugging', 'lukewarm', 'lump', 'lumpfish', 'lumps', 'lunch', 'lunches', 'lunchfood', 'lunchtime', 'lundberg', 'lunds', 'lung', 'lunge', 'lungs', 'lured', 'lurk', 'luscious', 'lush', 'luster', 'luv', 'luxury', 'luzerne', 'luzianne', 'ly', 'lychee', 'lying', 'lysozyme', 'mac', 'maca', 'macaroni', 'macbook', 'macchiato', 'macciato', 'machete', 'machine', 'machinery', 'machines', 'macines', 'mackays', 'mackerel', 'macomb', 'macs', 'mad', 'madagascar', 'made', 'madeleine', 'mades', 'madhava', 'madhouse', 'madonna', 'mae', 'maestro', 'magazine', 'magazines', 'maggie', 'magic', 'magical', 'magicother', 'magnesium', 'magnus', 'mahagoney', 'mahogani', 'mahogany', 'mahogony', 'maids', 'mail', 'mailbox', 'mailed', 'mailing', 'mails', 'main', 'maine', 'mainly', 'mainstream', 'maintain', 'maintained', 'maintains', 'maintenance', 'major', 'majority', 'make', 'makeout', 'makeover', 'maker', 'makers', 'makes', 'making', 'malcom', 'male', 'mall', 'malls', 'malt', 'malta', 'malted', 'maltese', 'malti', 'maltitol', 'maltodextrin', 'maltose', 'malty', 'malva', 'mama', 'mamma', 'mammals', 'man', 'manage', 'manageable', 'managed', 'management', 'manager', 'managers', 'manages', 'managing', 'mandarin', 'mandeling', 'manga', 'mangia', 'mangled', 'mango', 'mangoes', 'mangos', 'manhattan', 'manila', 'manner', 'mannered', 'mantle', 'manual', 'manufacture', 'manufactured', 'manufacturer', 'manufacturers', 'manufactures', 'manufacturing', 'many', 'mapel', 'maple', 'marathon', 'march', 'mare', 'margarine', 'margarita', 'margherita', 'margin', 'marginal', 'marginally', 'marinade', 'marinades', 'marinading', 'marinara', 'marinate', 'marines', 'mark', 'marked', 'markedly', 'market', 'marketed', 'markethave', 'marketing', 'markets', 'marks', 'markup', 'marmalade', 'marmite', 'marriage', 'married', 'mars', 'marshall', 'marshmallow', 'marshmallows', 'marshmellows', 'mart', 'marth', 'martha', 'martin', 'martini', 'martinies', 'martinis', 'maruchan', 'marvel', 'marvelous', 'marvelously', 'mary', 'maryland', 'marzano', 'marzanos', 'marzipan', 'masa', 'masaman', 'mash', 'mashed', 'mashing', 'mask', 'masked', 'masking', 'masks', 'mass', 'massachusettes', 'massage', 'massaman', 'masse', 'massive', 'master', 'masterpiece', 'mastiff', 'mat', 'match', 'matcha', 'matched', 'matches', 'matching', 'mate', 'material', 'materials', 'maternity', 'math', 'matte', 'matted', 'matter', 'matterhow', 'matters', 'mature', 'maturing', 'matzah', 'matzo', 'maui', 'max', 'maximizing', 'maximum', 'maxwell', 'may', 'maybe', 'mayo', 'mayonnaise', 'mays', 'mbox', 'mc', 'mcburbia', 'mccann', 'mccanns', 'mccormacks', 'mcdonald', 'mcdonalds', 'mcdougall', 'mcwallymart', 'mead', 'meadow', 'meadows', 'meal', 'mealnot', 'meals', 'mealtimes', 'mealy', 'mean', 'meanacing', 'meaning', 'means', 'meant', 'meanwhile', 'measly', 'measure', 'measured', 'measurements', 'measures', 'measuring', 'meat', 'meatballs', 'meatiertaste', 'meatloaf', 'meats', 'meaty', 'mechanical', 'mechanically', 'mechanism', 'med', 'medical', 'medically', 'medication', 'medications', 'medicinal', 'medicine', 'mediciny', 'mediocre', 'mediterranean', 'medium', 'medleys', 'meds', 'meet', 'meeting', 'meetings', 'meets', 'mega', 'megabyte', 'meh', 'meijers', 'melamine', 'meld', 'melded', 'melitta', 'mellow', 'mellowing', 'mellowness', 'mellows', 'melon', 'melow', 'melt', 'meltaways', 'melted', 'melting', 'melts', 'member', 'members', 'membership', 'memorex', 'memories', 'memorieswhen', 'memory', 'memphis', 'men', 'ment', 'mental', 'mention', 'mentioned', 'mentioning', 'mentos', 'menu', 'menus', 'meow', 'merchandise', 'merchant', 'merchants', 'mercola', 'mercury', 'mercy', 'mereingues', 'merely', 'merest', 'meringue', 'merlot', 'merrick', 'merula', 'mesh', 'meshed', 'meshing', 'mesquite', 'mess', 'message', 'messed', 'messes', 'messiest', 'messing', 'messy', 'met', 'metabolic', 'metabolism', 'metal', 'metallic', 'metals', 'metaphor', 'metaphors', 'method', 'methods', 'metro', 'metropolitan', 'mex', 'mexgrocer', 'mexi', 'mexican', 'mexico', 'meyer', 'mg', 'mi', 'miam', 'mic', 'mice', 'michael', 'michaels', 'michigan', 'mickey', 'micmate', 'micpreamp', 'micr', 'micro', 'microbrew', 'microbrews', 'microphone', 'microphones', 'microscopic', 'microwavable', 'microwave', 'microwaveable', 'microwaved', 'microwaving', 'mics', 'mid', 'midday', 'middle', 'middletown', 'midi', 'midmorning', 'midnight', 'midst', 'midway', 'midwest', 'might', 'mignon', 'migraine', 'migraines', 'mike', 'milans', 'mild', 'milder', 'mildly', 'mile', 'miles', 'milk', 'milka', 'milkbone', 'milkier', 'milkit', 'milks', 'milkshake', 'milky', 'mill', 'millay', 'milled', 'miller', 'millet', 'milligrams', 'million', 'millionaire', 'millk', 'mills', 'mimic', 'mimicked', 'min', 'minature', 'minced', 'mind', 'minded', 'mindedly', 'mindful', 'mindset', 'mindy', 'mine', 'mineral', 'minerals', 'mines', 'mingle', 'mini', 'miniature', 'miniatures', 'miniaturized', 'minichips', 'minimal', 'minimalist', 'minimize', 'minimizes', 'minimum', 'minis', 'miniscule', 'minnesota', 'minor', 'mins', 'minsskip', 'minsthe', 'minsthese', 'mint', 'mintiness', 'mints', 'minty', 'minus', 'minuses', 'minute', 'minutes', 'mir', 'miracle', 'miracles', 'miraculously', 'mischief', 'miserable', 'miserably', 'misery', 'misfortune', 'mish', 'mished', 'mishka', 'misleading', 'misleadingand', 'misled', 'mismanagement', 'misnomer', 'miso', 'misprint', 'miss', 'missed', 'misses', 'missing', 'mission', 'missions', 'missouri', 'mist', 'mistake', 'mistaken', 'mistakes', 'mister', 'mite', 'mites', 'mitigates', 'mix', 'mixed', 'mixer', 'mixers', 'mixes', 'mixing', 'mixture', 'mixtures', 'ml', 'mlamount', 'mlx', 'mmm', 'mmmm', 'mmmmm', 'mmmmmm', 'mmmmmmm', 'mmmmmmmm', 'mo', 'mob', 'mobility', 'mocha', 'mochi', 'model', 'models', 'modem', 'moderate', 'moderately', 'moderation', 'modern', 'modest', 'modesto', 'modifications', 'modified', 'modulate', 'mohogany', 'moist', 'moisten', 'moistened', 'moister', 'moistest', 'moistness', 'moistruizing', 'moisture', 'moisturized', 'moisturizer', 'moisturizing', 'mol', 'molars', 'molasses', 'molasseswheat', 'mold', 'molded', 'molding', 'moldy', 'molecular', 'molecule', 'moles', 'mollie', 'mollusks', 'molly', 'molten', 'mom', 'moment', 'momento', 'moments', 'momma', 'mommy', 'moms', 'momthly', 'monastero', 'money', 'monitor', 'monitored', 'monitoring', 'monitors', 'monkey', 'mono', 'monocalcium', 'monosodium', 'monotony', 'monounsaturated', 'monsanto', 'monster', 'monsters', 'monta', 'monte', 'montebello', 'month', 'monthly', 'months', 'montmorency', 'montreal', 'mood', 'moon', 'moons', 'moore', 'moose', 'mopped', 'mopping', 'moral', 'moreover', 'moreparmesan', 'morgue', 'morning', 'mornings', 'moroccan', 'morris', 'morsel', 'morsels', 'mortar', 'mortified', 'morton', 'mos', 'moss', 'mostly', 'motabolism', 'mother', 'mothers', 'moths', 'motion', 'motions', 'motivated', 'motivation', 'motivator', 'motorola', 'motto', 'mound', 'mounds', 'mountain', 'mountains', 'mounted', 'mouse', 'mousie', 'moutain', 'mouth', 'mouthfeel', 'mouthful', 'mouths', 'mouthwash', 'move', 'moved', 'movement', 'movements', 'movie', 'movies', 'moving', 'mowed', 'mowing', 'mozarella', 'mozzarella', 'mr', 'mrs', 'ms', 'msg', 'msgs', 'mt', 'mtbe', 'much', 'muchos', 'muchshinier', 'muck', 'mucous', 'mudan', 'muddy', 'muesli', 'mueslis', 'mueslix', 'muffin', 'muffins', 'mug', 'muggs', 'mugs', 'mulberries', 'mules', 'multi', 'multimedia', 'multinational', 'multipack', 'multiple', 'multiples', 'multiplication', 'multitude', 'mum', 'munch', 'muncher', 'munches', 'munchie', 'munchies', 'munching', 'muncho', 'munchos', 'municipal', 'murky', 'muscavado', 'muscles', 'museli', 'muselix', 'museum', 'mush', 'mushiness', 'mushroom', 'mushrooms', 'mushy', 'music', 'musical', 'musician', 'musicians', 'muslim', 'muss', 'must', 'mustard', 'mustards', 'muster', 'musty', 'muted', 'mutt', 'muy', 'mx', 'mxl', 'myer', 'myeslf', 'myriad', 'mysterious', 'mystery', 'naan', 'nabisco', 'nabiso', 'nabob', 'nachoes', 'nachos', 'nail', 'nailed', 'namaste', 'name', 'named', 'namely', 'names', 'nancy', 'naniboujou', 'nantucket', 'nap', 'napa', 'napkin', 'naples', 'napoletana', 'naps', 'narrow', 'narrower', 'nasal', 'nastiest', 'nasty', 'nate', 'nation', 'national', 'nations', 'nationwide', 'native', 'natual', 'natural', 'naturale', 'naturally', 'naturals', 'naturapath', 'nature', 'natures', 'naughty', 'nausea', 'nauseating', 'nauseous', 'navigate', 'navigating', 'navitas', 'nc', 'nd', 'ne', 'neanderthal', 'near', 'nearby', 'nearest', 'nearly', 'neat', 'neccessary', 'necessarily', 'necessary', 'neck', 'nectar', 'need', 'needed', 'needing', 'needle', 'needless', 'needlessly', 'needs', 'needsmost', 'negate', 'negates', 'negative', 'negatively', 'negatives', 'negging', 'neglected', 'negligible', 'negotiate', 'neighbor', 'neighborhood', 'neighboring', 'neighbors', 'neither', 'neo', 'neocate', 'nephew', 'nephews', 'nerve', 'nervous', 'nervousness', 'nespresso', 'ness', 'nestle', 'nestles', 'net', 'netherlands', 'neti', 'netty', 'networks', 'neuman', 'neuro', 'neutered', 'neutral', 'never', 'nevermind', 'nevertheless', 'new', 'newbie', 'newborn', 'newer', 'newest', 'newf', 'newfoundlands', 'newly', 'newman', 'newmans', 'newmansbon', 'news', 'newsletter', 'newton', 'newtons', 'next', 'nextstep', 'niacin', 'nibble', 'nibbled', 'nibblers', 'nibbles', 'nibbling', 'nibs', 'nicce', 'nice', 'nicely', 'nicer', 'nicest', 'niche', 'nick', 'nickel', 'niece', 'night', 'nights', 'nighttime', 'nine', 'ning', 'nirvana', 'nitty', 'no', 'nobody', 'nocerino', 'nod', 'nog', 'noir', 'noise', 'noises', 'noisette', 'noisy', 'noitce', 'nominal', 'non', 'none', 'nonetheless', 'nonfat', 'nonsense', 'noodle', 'noodles', 'noon', 'nope', 'nor', 'nori', 'normal', 'normality', 'normally', 'norman', 'north', 'northeast', 'northwestern', 'norway', 'nos', 'nose', 'noses', 'nostagia', 'nostalgic', 'nostril', 'not', 'notable', 'notaters', 'notch', 'note', 'notecard', 'noted', 'notes', 'noteworthy', 'nothad', 'nothave', 'nothe', 'notherefore', 'nothicker', 'nothin', 'nothing', 'notice', 'noticeable', 'noticeably', 'noticed', 'noticing', 'notification', 'notified', 'notifying', 'notill', 'noting', 'notorious', 'notoriously', 'notoy', 'notummy', 'nough', 'nourished', 'nov', 'novelty', 'november', 'novetly', 'novice', 'nowadays', 'nowhere', 'nprice', 'nt', 'nu', 'nuanced', 'nuances', 'nuclear', 'nuf', 'nuff', 'nugget', 'nuggets', 'nuitionists', 'nuke', 'numb', 'number', 'numbers', 'numbness', 'numbs', 'numerous', 'numi', 'nunaturals', 'nurish', 'nurse', 'nurture', 'nustevia', 'nut', 'nutcracker', 'nutiva', 'nutmeg', 'nutragrain', 'nutrient', 'nutrients', 'nutrigrain', 'nutrition', 'nutritional', 'nutritionally', 'nutritionist', 'nutritionists', 'nutritious', 'nutro', 'nuts', 'nutshell', 'nutty', 'ny', 'nyc', 'nye', 'nylon', 'oak', 'oat', 'oatmeal', 'oatmeals', 'oats', 'obese', 'obesity', 'obey', 'obeying', 'object', 'objection', 'objectionable', 'objective', 'objects', 'obligatory', 'obliged', 'obliterated', 'obnoxious', 'obscene', 'observed', 'obsession', 'obsessively', 'obsidian', 'obsolete', 'obtain', 'obtainable', 'obtained', 'obtaining', 'obvious', 'obviously', 'ocassion', 'occasion', 'occasional', 'occasionally', 'occasions', 'occassionally', 'occassions', 'occations', 'occupied', 'occupy', 'occur', 'occurrance', 'occurs', 'ocean', 'oct', 'october', 'od', 'odd', 'oddly', 'oddness', 'odds', 'odering', 'odor', 'odorless', 'odorous', 'odors', 'odwalla', 'offend', 'offended', 'offends', 'offense', 'offensive', 'offer', 'offered', 'offering', 'offerings', 'offerred', 'offers', 'offically', 'office', 'offices', 'officially', 'offs', 'offset', 'offsets', 'often', 'oh', 'ohama', 'ohhhhhh', 'ohio', 'ohman', 'oil', 'oiliness', 'oilive', 'oils', 'oilsalt', 'oilthere', 'oily', 'oinkies', 'ok', 'okay', 'oktava', 'ol', 'old', 'older', 'oldest', 'olds', 'ole', 'oleoresin', 'olive', 'olives', 'olympics', 'omaha', 'omahas', 'omega', 'omegas', 'omelet', 'omelets', 'omg', 'omitting', 'one', 'oneand', 'ones', 'onion', 'onions', 'oniony', 'online', 'onlycomplaint', 'ons', 'onstage', 'ont', 'onto', 'ontop', 'ooh', 'oohs', 'oolong', 'oolongs', 'oompletely', 'oooh', 'oops', 'oout', 'op', 'opaque', 'opelika', 'open', 'opened', 'opener', 'opening', 'opens', 'operate', 'operated', 'operates', 'operative', 'opinion', 'opinions', 'opnening', 'opossums', 'opportunities', 'opportunity', 'oppose', 'opposed', 'opposite', 'opps', 'oprah', 'opt', 'opted', 'optimal', 'optimistically', 'optimum', 'option', 'optional', 'options', 'orac', 'orange', 'oranges', 'orbit', 'order', 'orderd', 'ordered', 'ordering', 'orders', 'ordinarily', 'ordinary', 'ording', 'ore', 'oregano', 'oregon', 'oregonian', 'oreo', 'oreos', 'org', 'organic', 'organically', 'organiccons', 'organics', 'organix', 'organization', 'organized', 'orgasmic', 'orginal', 'orgran', 'oriental', 'origin', 'original', 'originally', 'originals', 'origins', 'orignal', 'orijin', 'orleans', 'ornament', 'orphan', 'ortho', 'orthodox', 'orville', 'orzo', 'os', 'oscilloscope', 'osmanthus', 'osmosis', 'ot', 'othere', 'others', 'otherwise', 'othr', 'otr', 'oue', 'ought', 'ounce', 'ounces', 'ounches', 'ourfactory', 'outback', 'outburst', 'outchew', 'outcome', 'outdated', 'outdone', 'outdoor', 'outed', 'outer', 'outfits', 'outgoing', 'outgrow', 'outgrowing', 'outings', 'outlet', 'output', 'outraged', 'outrageous', 'outrageously', 'outragous', 'outright', 'outs', 'outside', 'outstanding', 'outweigh', 'ovalbumin', 'oven', 'overall', 'overally', 'overback', 'overbearing', 'overbuying', 'overcharging', 'overcook', 'overcooked', 'overcooking', 'overcoooked', 'overdid', 'overdoing', 'overdone', 'overdose', 'overeating', 'overfed', 'overfeed', 'overflow', 'overflowing', 'overgrown', 'overhauling', 'overheat', 'overheated', 'overindulge', 'overindulgence', 'overindulges', 'overindulging', 'overkill', 'overload', 'overloaded', 'overlooked', 'overly', 'overnight', 'overnighted', 'overpaying', 'overpower', 'overpowered', 'overpowering', 'overpoweringly', 'overpowers', 'overpriced', 'overrated', 'overripe', 'overs', 'oversalted', 'overseas', 'overshadowed', 'oversight', 'oversize', 'oversteeping', 'overtone', 'overtones', 'overweight', 'overwhelm', 'overwhelmed', 'overwhelming', 'overwhelmingly', 'overwhelms', 'ovomucin', 'ovomucoid', 'ovotransferrin', 'owe', 'owned', 'owner', 'owners', 'ownership', 'owning', 'owns', 'ownthe', 'oxidants', 'oxidation', 'oxident', 'oxidents', 'oxidize', 'oxidized', 'oxygen', 'oysters', 'oz', 'ozarka', 'ozs', 'ozserving', 'pa', 'pace', 'pach', 'pacific', 'pack', 'packae', 'package', 'packagealso', 'packaged', 'packages', 'packaging', 'packed', 'packer', 'packet', 'packets', 'packing', 'packinghouse', 'packs', 'pad', 'padding', 'paddock', 'page', 'pages', 'paid', 'pain', 'painful', 'painfully', 'painkillers', 'painless', 'pains', 'paint', 'paintbrush', 'painter', 'painting', 'pair', 'paired', 'pairing', 'paks', 'palatable', 'palate', 'pale', 'paleo', 'palette', 'pallet', 'palm', 'palo', 'palpitations', 'pam', 'pamela', 'pamelas', 'pamphlet', 'pan', 'panang', 'panasonic', 'panax', 'pancake', 'pancakes', 'pancreas', 'pancreatitis', 'panda', 'panel', 'panels', 'pangs', 'panicked', 'pant', 'pantry', 'papa', 'papaya', 'papayas', 'paper', 'paperclip', 'papers', 'pappy', 'paprika', 'par', 'para', 'paralized', 'parameters', 'paramsan', 'parasites', 'parent', 'parents', 'pareve', 'paris', 'parisian', 'park', 'parm', 'parmesan', 'parmessan', 'parrot', 'parsely', 'parsing', 'parsley', 'part', 'partial', 'partiallly', 'partially', 'participating', 'particle', 'particles', 'particular', 'particularly', 'partied', 'parties', 'partly', 'partner', 'parts', 'party', 'paso', 'pass', 'passable', 'passages', 'passed', 'passer', 'passersby', 'passing', 'passione', 'passover', 'past', 'pasta', 'pastas', 'paste', 'pasteries', 'pastes', 'pasteurized', 'pastor', 'pastries', 'pastry', 'pasture', 'pasty', 'pat', 'patak', 'pate', 'path', 'pathetic', 'patience', 'patient', 'patisserie', 'patrick', 'patriot', 'pats', 'patties', 'patton', 'patty', 'paul', 'paula', 'pause', 'pavilion', 'paw', 'paws', 'pay', 'paying', 'payments', 'pays', 'pb', 'pc', 'pcm', 'pcs', 'pds', 'pea', 'peaberry', 'peace', 'peach', 'peak', 'peaks', 'peanut', 'peanuts', 'peanutty', 'pear', 'pearl', 'pearls', 'peary', 'peas', 'peasant', 'peat', 'pebbles', 'pecan', 'pecans', 'pedialyte', 'pediatric', 'pediatrician', 'pediatrics', 'pedigree', 'pee', 'peeing', 'peel', 'peeled', 'peet', 'peets', 'pei', 'peicer', 'pekeingese', 'pekoe', 'pellet', 'pen', 'pencil', 'pencils', 'penetrating', 'penna', 'penne', 'pennsylvania', 'penny', 'penrose', 'penta', 'peony', 'people', 'peopleon', 'peoples', 'pep', 'pepcid', 'peper', 'pepermint', 'pepper', 'peppercitric', 'peppercorn', 'pepperdine', 'peppered', 'pepperidge', 'pepperiness', 'peppermint', 'peppermintflavor', 'pepperoni', 'pepperpaprika', 'peppers', 'peppertuscan', 'peppery', 'pepsi', 'per', 'percent', 'percentage', 'perfect', 'perfected', 'perfection', 'perfectly', 'perfict', 'perforations', 'perform', 'performance', 'performed', 'performer', 'performs', 'perfume', 'perfumey', 'perhaps', 'perigord', 'period', 'periodic', 'periodically', 'periods', 'perked', 'perks', 'perky', 'permanent', 'permanently', 'permeates', 'permit', 'permuatations', 'pero', 'perpetuated', 'perplexed', 'perplexing', 'perruche', 'persian', 'persistent', 'persnickety', 'person', 'personal', 'personality', 'personally', 'persons', 'perspective', 'perspiration', 'pertain', 'pertty', 'peru', 'perugina', 'peruses', 'perusing', 'peruvian', 'perversion', 'pesticide', 'pesticides', 'pesto', 'pests', 'pet', 'peta', 'petals', 'petco', 'pete', 'peter', 'peterson', 'petpromise', 'pets', 'petsmart', 'petstore', 'pg', 'ph', 'phantom', 'pharmacist', 'phase', 'phased', 'phenomenal', 'phenylalanine', 'phil', 'phila', 'philip', 'philippine', 'phone', 'phosphate', 'phospholipids', 'phosphorous', 'phosphorus', 'photo', 'photograph', 'photos', 'phrase', 'physical', 'physically', 'piad', 'piana', 'pibble', 'pica', 'picante', 'pick', 'picked', 'pickey', 'pickier', 'pickiest', 'picking', 'pickings', 'pickle', 'pickled', 'pickles', 'pickling', 'picks', 'pickup', 'picky', 'picnic', 'pico', 'pics', 'picture', 'pictured', 'pictures', 'pie', 'piece', 'pieces', 'pieceslarge', 'pieit', 'pierce', 'pierced', 'pies', 'pig', 'pigging', 'pigskin', 'pike', 'pile', 'piled', 'piles', 'pill', 'pillboxes', 'pillow', 'pillowy', 'pills', 'pillsbury', 'pilsbury', 'pin', 'pina', 'pinacolada', 'pinch', 'pinched', 'pinches', 'pineapple', 'pineapples', 'pineapplethis', 'pingos', 'pining', 'pink', 'pinkish', 'pinot', 'pins', 'pinto', 'pioneer', 'pipeline', 'piper', 'pirate', 'pissed', 'pistachio', 'pit', 'pita', 'pitbull', 'pitched', 'pitcher', 'pitching', 'pith', 'pithed', 'pitiful', 'pittie', 'pittsburgh', 'pity', 'pizza', 'pizzas', 'pizzathese', 'pk', 'pkg', 'pkgs', 'place', 'placebo', 'placed', 'places', 'placing', 'plack', 'plagued', 'plain', 'plan', 'plane', 'planet', 'planned', 'planning', 'plans', 'plant', 'planted', 'planters', 'plants', 'plaque', 'plasma', 'plaster', 'plastic', 'plasticy', 'plate', 'platic', 'platinum', 'platter', 'play', 'played', 'playful', 'playground', 'playing', 'plays', 'pleading', 'pleasant', 'pleasantly', 'please', 'pleasebasically', 'pleased', 'pleasedwith', 'pleases', 'pleasing', 'pleasurable', 'pleasure', 'pleasures', 'pledge', 'plentiful', 'plenty', 'plethora', 'plocky', 'plockys', 'plockysthey', 'plop', 'ploy', 'plug', 'plugged', 'plugging', 'plugs', 'plum', 'plumbing', 'plump', 'plums', 'plunk', 'plus', 'pluses', 'plusses', 'plywood', 'pn', 'po', 'poached', 'pocket', 'pockets', 'pocky', 'pocus', 'pod', 'podcasters', 'podcasting', 'pods', 'podunk', 'poetic', 'poetry', 'pogo', 'point', 'pointed', 'pointer', 'pointless', 'points', 'pointy', 'poison', 'poisoned', 'poisoning', 'poke', 'poking', 'poland', 'polar', 'pole', 'policy', 'polish', 'polished', 'polite', 'politely', 'politically', 'politics', 'pollen', 'pollens', 'pollinators', 'polluted', 'pollux', 'poly', 'polyester', 'polyphenol', 'polyphenols', 'polyphosphates', 'pom', 'pomegranate', 'pomeranian', 'pomimo', 'pomum', 'pondering', 'poo', 'pooch', 'poodle', 'pool', 'poop', 'poops', 'poor', 'poore', 'poorly', 'pop', 'popchip', 'popchips', 'popcorn', 'popcorns', 'poped', 'popped', 'popper', 'poppers', 'popping', 'pops', 'popsicles', 'popular', 'popularity', 'populated', 'population', 'por', 'porch', 'porcini', 'porcinis', 'pork', 'port', 'portability', 'portable', 'portal', 'portion', 'portioned', 'portions', 'portland', 'portrayed', 'ports', 'portuguese', 'porty', 'pose', 'posh', 'position', 'positive', 'positively', 'possess', 'possibilities', 'possibility', 'possible', 'possibly', 'post', 'postage', 'postal', 'posted', 'poster', 'posterous', 'posters', 'posting', 'posts', 'pot', 'potasium', 'potassium', 'potato', 'potatoe', 'potatoes', 'potatoesvegetable', 'potatoey', 'potatos', 'potent', 'potential', 'potentially', 'potion', 'potions', 'potlucks', 'potpourri', 'pots', 'potstickers', 'potted', 'potting', 'potty', 'pouch', 'pouches', 'poullex', 'poultry', 'pounce', 'pound', 'pounder', 'pounding', 'pounds', 'pour', 'poured', 'pouring', 'powder', 'powderchili', 'powdered', 'powderized', 'powderjust', 'powderpaprikatorula', 'powders', 'powdersugarsaltonion', 'powdertomato', 'powdery', 'power', 'powerful', 'powerhouse', 'powering', 'practical', 'practically', 'practice', 'practices', 'praise', 'praised', 'prawns', 'pre', 'preamp', 'preanut', 'prebiotics', 'preceded', 'precise', 'precisely', 'precursor', 'predictive', 'prednisone', 'predominant', 'preetier', 'preface', 'prefect', 'prefecture', 'prefer', 'preferable', 'preferably', 'prefere', 'preference', 'preferences', 'preferred', 'prefers', 'pregnancy', 'pregnant', 'preheat', 'premature', 'prematurely', 'premier', 'premium', 'prep', 'prepackaged', 'prepara', 'preparation', 'prepare', 'prepared', 'prepares', 'preparing', 'prepping', 'preschool', 'preschooler', 'prescribed', 'prescription', 'presence', 'present', 'presentable', 'presentation', 'presented', 'presently', 'presents', 'preservative', 'preservatives', 'preservativesinformationgluten', 'preserve', 'preserved', 'preserves', 'presidential', 'press', 'pressed', 'pressing', 'pressure', 'presto', 'presumably', 'pretend', 'pretending', 'pretense', 'pretenses', 'prettier', 'prettily', 'pretty', 'pretzel', 'pretzels', 'prevailant', 'prevalence', 'prevalent', 'prevent', 'preventing', 'prevention', 'prevents', 'previous', 'previously', 'prey', 'pricce', 'price', 'priced', 'prices', 'pricethe', 'pricey', 'pricier', 'pricing', 'prickly', 'pricy', 'pride', 'pried', 'primal', 'primarily', 'primary', 'prime', 'primed', 'primitive', 'primo', 'prince', 'princess', 'principal', 'pringles', 'print', 'printed', 'printing', 'prior', 'priority', 'prissy', 'pristine', 'private', 'privately', 'privilege', 'privileges', 'prize', 'prizes', 'pro', 'proactive', 'probably', 'probally', 'probaly', 'probiotic', 'probiotics', 'problem', 'problemas', 'problematic', 'problems', 'problemsand', 'probs', 'procaster', 'proceed', 'proceeded', 'proceeds', 'process', 'processed', 'processes', 'processing', 'processor', 'proclaim', 'proclaimed', 'procter', 'procuct', 'procyanidins', 'produce', 'produced', 'producer', 'producers', 'produces', 'producing', 'product', 'productan', 'productfull', 'production', 'productionas', 'productive', 'productivity', 'producto', 'products', 'productsare', 'professional', 'professionally', 'proffers', 'profile', 'profiles', 'profit', 'profits', 'profound', 'progessing', 'program', 'programif', 'programming', 'programs', 'progress', 'progressed', 'progressive', 'progresso', 'prohibitive', 'project', 'prolific', 'prolonged', 'promise', 'promised', 'promises', 'promo', 'promote', 'promotes', 'promotion', 'prompt', 'prompted', 'promptly', 'promptness', 'prompty', 'prone', 'prong', 'pronounce', 'pronounced', 'proof', 'proofed', 'prop', 'proper', 'properly', 'properties', 'property', 'prophecy', 'proplem', 'proportion', 'proportions', 'propped', 'proprietary', 'pros', 'prosciutto', 'prospective', 'prospects', 'protect', 'protected', 'protecting', 'protection', 'protective', 'protects', 'protein', 'proteins', 'protest', 'protien', 'protocol', 'protools', 'protrusions', 'prouct', 'proud', 'proudly', 'prove', 'proved', 'proven', 'provence', 'provide', 'provided', 'provider', 'provides', 'providing', 'proving', 'ps', 'psst', 'psycho', 'ptato', 'pts', 'pub', 'public', 'publicity', 'publicly', 'publish', 'published', 'publix', 'pubs', 'puchase', 'puchased', 'puck', 'pucker', 'puckering', 'pucks', 'puddin', 'pudding', 'puddle', 'pude', 'puede', 'puff', 'puffed', 'puffs', 'puffy', 'pug', 'pugs', 'puked', 'pull', 'pulled', 'pulling', 'pulls', 'pulp', 'pulps', 'pulpy', 'pulverized', 'pump', 'pumped', 'pumpkin', 'pumps', 'pun', 'punch', 'punctuated', 'puncture', 'punctured', 'pungent', 'punish', 'punished', 'punishment', 'punk', 'pup', 'pupose', 'puppies', 'puppy', 'puppychow', 'pups', 'purchace', 'purchase', 'purchased', 'purchaseing', 'purchaser', 'purchasers', 'purchases', 'purchasing', 'purchsed', 'purchses', 'pure', 'purebred', 'puree', 'pureed', 'purees', 'purely', 'pureness', 'purhcase', 'purhcasing', 'purified', 'purina', 'purist', 'purity', 'puroast', 'purple', 'purported', 'purpose', 'purposes', 'purring', 'purse', 'pursue', 'push', 'pushed', 'pushes', 'pushing', 'put', 'puthis', 'puts', 'putting', 'puzzle', 'pyekky', 'pyramid', 'pyrenees', 'pyrex', 'quacomole', 'quailty', 'quaker', 'qualified', 'qualify', 'qualities', 'quality', 'qualityincredible', 'qualms', 'quanities', 'quanity', 'quantities', 'quantity', 'quart', 'quarter', 'quarters', 'que', 'queasy', 'queen', 'quell', 'quench', 'quencher', 'quenches', 'quenching', 'queried', 'quesadilla', 'quesadillas', 'queso', 'quest', 'question', 'questionable', 'questioned', 'questions', 'quibble', 'quiches', 'quick', 'quickbreads', 'quickening', 'quicker', 'quickly', 'quiet', 'quinn', 'quinoa', 'quintessential', 'quit', 'quite', 'qulity', 'quote', 'quoted', 'ra', 'rabbit', 'rabbits', 'raccoons', 'races', 'rachel', 'racing', 'rack', 'racks', 'radiation', 'radicals', 'radio', 'radius', 'raely', 'ragweed', 'raid', 'rain', 'rainbow', 'raincoast', 'rained', 'rainforest', 'rainy', 'raise', 'raised', 'raises', 'raisin', 'raising', 'raisins', 'raisons', 'ram', 'ramen', 'ramikens', 'ramsey', 'ran', 'ranch', 'ranchera', 'ranchero', 'rancho', 'rancid', 'rancidity', 'random', 'randomly', 'rang', 'range', 'ranged', 'ranges', 'rangoon', 'rank', 'ranked', 'ranks', 'rant', 'rapid', 'rapidly', 'rapping', 'rare', 'rarely', 'rarity', 'ras', 'rasberry', 'rash', 'raspberries', 'raspberry', 'rat', 'rate', 'rated', 'rates', 'rather', 'rating', 'ratings', 'ratio', 'ration', 'rational', 'ratios', 'rave', 'raved', 'raves', 'raving', 'raw', 'rawhide', 'ray', 'raya', 'rays', 'rda', 'reach', 'reached', 'reaching', 'react', 'reaction', 'reactions', 'reacts', 'read', 'reader', 'readers', 'readily', 'reading', 'reads', 'ready', 'reaffirmation', 'real', 'realistic', 'realistically', 'reality', 'realization', 'realize', 'realized', 'realizing', 'reall', 'really', 'reap', 'reaper', 'reason', 'reasonable', 'reasonably', 'reasons', 'reassess', 'reassures', 'reassuring', 'rebecca', 'reboot', 'rebooting', 'rebound', 'rec', 'recall', 'recalled', 'recalling', 'recalls', 'reccomend', 'reccomended', 'reccommend', 'receipt', 'receive', 'received', 'receivers', 'receives', 'receiving', 'recent', 'recently', 'recepies', 'reception', 'receptors', 'recesses', 'reciepes', 'recieve', 'recieved', 'recieving', 'recipe', 'recipes', 'recipient', 'recipients', 'recipies', 'recloseable', 'recognition', 'recognize', 'recognized', 'recognizes', 'recognizing', 'recomend', 'recommand', 'recommanded', 'recommend', 'recommendation', 'recommendations', 'recommended', 'recommending', 'recommends', 'recomment', 'recommmend', 'reconsider', 'reconstituted', 'record', 'recorded', 'recorder', 'recording', 'recordings', 'records', 'recover', 'recovered', 'recovery', 'recreate', 'rectangular', 'recuperating', 'recurring', 'recyclable', 'recycle', 'recycles', 'red', 'redbarn', 'reddish', 'redeeming', 'redenbacher', 'redenbacker', 'redesign', 'redesigned', 'redi', 'rediculous', 'redilly', 'rediscovered', 'redline', 'redo', 'redone', 'redskin', 'reduce', 'reduced', 'reduces', 'reducing', 'reduction', 'redundant', 'redwood', 'reed', 'reeder', 'reeks', 'reel', 'reese', 'reeses', 'refer', 'reference', 'references', 'referred', 'refers', 'refill', 'refills', 'refined', 'reflected', 'reflux', 'refrain', 'refresh', 'refreshed', 'refresher', 'refreshes', 'refreshing', 'refreshments', 'refridgerate', 'refridgerated', 'refridgeration', 'refried', 'refrigerate', 'refrigerated', 'refrigerating', 'refrigeration', 'refrigerator', 'refund', 'refundable', 'refunded', 'refuse', 'refused', 'refuses', 'regard', 'regarded', 'regarding', 'regardless', 'regards', 'regima', 'regime', 'regimen', 'regiment', 'region', 'regional', 'regions', 'register', 'registered', 'regret', 'regreted', 'regrettable', 'regualar', 'regualry', 'reguarding', 'regular', 'regularly', 'regulated', 'regulation', 'regurgitation', 'reheat', 'rehydrate', 'rehydrating', 'rehydration', 'reinforce', 'reinforced', 'reinstating', 'reintroduced', 'reishi', 'reissue', 'reith', 'rejoice', 'rejuvenate', 'relate', 'related', 'relating', 'relations', 'relationship', 'relative', 'relatively', 'relatives', 'relax', 'relaxation', 'relaxed', 'relaxing', 'release', 'released', 'releasing', 'releave', 'reliability', 'reliable', 'relief', 'relieve', 'relieved', 'relieving', 'religion', 'relish', 'relishes', 'relocating', 'reluctant', 'reluctantly', 'rely', 'remade', 'remain', 'remainder', 'remained', 'remaining', 'remains', 'remarkable', 'remarkably', 'remarked', 'remarks', 'remedies', 'remedy', 'remembeer', 'remember', 'remembered', 'remind', 'reminded', 'reminder', 'reminding', 'reminds', 'reminiscent', 'remixed', 'remorse', 'remotely', 'remotelyresemble', 'removal', 'remove', 'removed', 'removes', 'removing', 'renaissance', 'renal', 'renamed', 'renderedmay', 'rendering', 'renew', 'renewable', 'renewed', 'renfros', 'renowned', 'reoccurring', 'reorder', 'reorderd', 'reordered', 'reordering', 'rep', 'repackage', 'repackaged', 'repeat', 'repeated', 'repeating', 'repercussions', 'repertoire', 'replace', 'replaced', 'replacement', 'replacements', 'replacer', 'replaces', 'replacing', 'replenish', 'replenishes', 'replenishing', 'replica', 'replicate', 'replicators', 'replies', 'reply', 'report', 'reported', 'reportedly', 'reporter', 'reports', 'represent', 'representative', 'represented', 'represents', 'republic', 'republics', 'repulsed', 'repulsive', 'repulsively', 'reputable', 'reputation', 'request', 'requested', 'require', 'required', 'requirement', 'requirements', 'requires', 'requiring', 'reqular', 'reroll', 'rescue', 'rescued', 'reseal', 'resealable', 'resealed', 'research', 'researched', 'researcher', 'researchers', 'researching', 'resemblance', 'resemble', 'resembled', 'resembles', 'reservations', 'reserve', 'reservegreen', 'reservoir', 'reship', 'residents', 'residual', 'residuals', 'residue', 'resin', 'resist', 'resistance', 'resold', 'resolve', 'resolved', 'resolves', 'resolvethat', 'resonable', 'resort', 'resorted', 'resource', 'resources', 'respect', 'respectable', 'respected', 'respectful', 'respectively', 'respects', 'respiratory', 'responable', 'respond', 'responded', 'responding', 'response', 'responsibility', 'responsible', 'responsive', 'responsiveness', 'ressucitated', 'rest', 'restarts', 'restaurant', 'restaurants', 'resti', 'resting', 'restock', 'restocked', 'restocks', 'restore', 'restores', 'restoring', 'restrict', 'restricted', 'restrictions', 'restroom', 'resturant', 'resturants', 'result', 'resulted', 'resulting', 'results', 'resume', 'resupplied', 'retail', 'retailer', 'retailers', 'retailing', 'retails', 'retain', 'retaining', 'retching', 'rethink', 'reticent', 'retire', 'retired', 'retreiver', 'retrieve', 'retriever', 'return', 'returnable', 'returned', 'returning', 'returns', 'reusable', 'reuse', 'reused', 'revealing', 'reveived', 'revel', 'revelation', 'reverse', 'reversed', 'review', 'reviewd', 'reviewed', 'reviewer', 'reviewers', 'reviewing', 'reviews', 'revitalizing', 'revival', 'revolution', 'revv', 'revvgreen', 'reward', 'rewarded', 'rewards', 'rewrap', 'rex', 'rhythm', 'ri', 'rib', 'riba', 'ribbon', 'riboflavin', 'ribs', 'rica', 'rican', 'rice', 'ricecakes', 'rich', 'richer', 'richest', 'richly', 'richness', 'ricore', 'ricotta', 'rid', 'ride', 'rides', 'ridged', 'ridges', 'ridiculous', 'ridiculously', 'riding', 'rids', 'riesling', 'rifle', 'rigged', 'right', 'rightawesome', 'rightly', 'rind', 'rinds', 'ring', 'ringer', 'ringing', 'rings', 'rinse', 'rinsed', 'rinses', 'rio', 'rip', 'ripe', 'ripen', 'ripest', 'ripoff', 'ripped', 'ripping', 'rips', 'rise', 'risen', 'rises', 'rising', 'risk', 'risks', 'risotto', 'rita', 'ritual', 'ritz', 'rival', 'rivals', 'river', 'rivera', 'riviera', 'road', 'roadside', 'roand', 'roast', 'roasted', 'roaster', 'roasters', 'roastgreen', 'roasting', 'roasts', 'roaststarbucks', 'rob', 'robbery', 'robbys', 'robert', 'robitussin', 'robles', 'robs', 'robust', 'robusta', 'rocher', 'rock', 'rocked', 'rocks', 'rockstar', 'rod', 'rode', 'rodent', 'rodents', 'roiling', 'roland', 'role', 'roll', 'rolland', 'rolled', 'roller', 'rolling', 'rolls', 'rollsome', 'romaine', 'romano', 'romans', 'romantic', 'rome', 'rood', 'roof', 'rooibos', 'room', 'roomates', 'roommate', 'roommies', 'rooms', 'root', 'rootbeer', 'rooted', 'rooting', 'roots', 'rope', 'rosa', 'rosamonte', 'rose', 'rosebuds', 'rosehips', 'rosemary', 'roses', 'rosey', 'ross', 'rossi', 'rossimangia', 'roster', 'rosy', 'rot', 'rotatable', 'rotate', 'rotating', 'rotation', 'rotational', 'rote', 'rotel', 'roth', 'rotten', 'rotting', 'rouge', 'rough', 'roughly', 'rouler', 'roulette', 'round', 'rounded', 'rounder', 'rounds', 'route', 'routine', 'row', 'roy', 'royal', 'royalties', 'rta', 'rtcj', 'rte', 'rubbed', 'rubber', 'rubbermaid', 'rubbery', 'rubs', 'rude', 'rudolph', 'ruffles', 'ruffly', 'rug', 'rugged', 'rugrats', 'ruidos', 'ruin', 'ruined', 'ruining', 'ruins', 'rule', 'ruled', 'rules', 'rum', 'rumblings', 'rumford', 'run', 'rundown', 'runner', 'runnier', 'running', 'runny', 'runs', 'runts', 'runzo', 'rural', 'rush', 'rushed', 'rusk', 'russel', 'russell', 'russells', 'russet', 'russian', 'rustle', 'rv', 'rving', 'rye', 'ryvita', 'saaqin', 'sabrina', 'sachet', 'sachets', 'sack', 'sacramento', 'sacrifice', 'sacrificing', 'sad', 'saddens', 'saddle', 'saddlebag', 'saddled', 'sadly', 'safcol', 'safe', 'safely', 'safer', 'safety', 'safeway', 'safflower', 'saget', 'said', 'sake', 'sal', 'salad', 'salads', 'salami', 'sale', 'salem', 'sales', 'salesman', 'sally', 'salmon', 'salmonella', 'saloon', 'salsa', 'salsas', 'salt', 'salted', 'saltier', 'saltiest', 'saltines', 'saltiness', 'saltless', 'salts', 'saltwater', 'salty', 'salumeria', 'salvaged', 'sam', 'samba', 'sambazon', 'sameseasoning', 'samesize', 'samovar', 'sample', 'sampled', 'sampler', 'samplers', 'samplerthe', 'samples', 'sampling', 'samson', 'samzon', 'san', 'sand', 'sandwhich', 'sandwich', 'sandwiches', 'sandwitches', 'sandy', 'sanford', 'sangiovese', 'sanitary', 'sank', 'sans', 'santa', 'sap', 'saps', 'saquin', 'saran', 'sardine', 'sardines', 'sarnese', 'sashimi', 'sassafras', 'sassafrass', 'sassy', 'sat', 'satay', 'satiated', 'satified', 'satisfaction', 'satisfactory', 'satisfatory', 'satisfied', 'satisfies', 'satisfiing', 'satisfy', 'satisfying', 'satisifies', 'saturated', 'saturday', 'sauce', 'saucecilantrohabanerogarlicspice', 'saucer', 'saucers', 'sauces', 'saucethings', 'saucy', 'saudi', 'sauer', 'saurday', 'sausage', 'sausages', 'sause', 'saute', 'sautee', 'sauteed', 'sauteing', 'save', 'savecons', 'saved', 'saver', 'saves', 'saving', 'savings', 'savor', 'savora', 'savored', 'savoring', 'savory', 'saw', 'sawdust', 'say', 'sayin', 'saying', 'says', 'sb', 'sbux', 'scale', 'scallions', 'scallops', 'scampi', 'scant', 'scape', 'scare', 'scared', 'scarf', 'scarffing', 'scarfing', 'scarfs', 'scary', 'scat', 'scenario', 'scene', 'scent', 'scented', 'scents', 'sceptical', 'schauzers', 'schedule', 'scheduled', 'scheme', 'schemes', 'schnauzer', 'schnauzers', 'scholarship', 'school', 'schweppes', 'science', 'scientific', 'scientists', 'scissors', 'sclerosis', 'scoff', 'scones', 'scoop', 'scooped', 'scoops', 'scorched', 'score', 'scores', 'scotch', 'scotties', 'scottish', 'scouring', 'scout', 'scrambled', 'scrap', 'scrape', 'scraped', 'scrapes', 'scraping', 'scraps', 'scratch', 'scratched', 'scratching', 'scream', 'screaming', 'screams', 'screen', 'screens', 'screw', 'screwed', 'screwing', 'scrub', 'scrubbing', 'scrumdiddlyumptous', 'scrumptious', 'scrumptuous', 'sdear', 'se', 'sea', 'seafood', 'seal', 'sealable', 'sealed', 'sealing', 'seals', 'seam', 'search', 'searched', 'searching', 'searchomg', 'seared', 'seasalt', 'seasame', 'season', 'seasonal', 'seasonally', 'seasoned', 'seasoning', 'seasonings', 'seasons', 'seat', 'seattle', 'seawater', 'seaweed', 'sec', 'second', 'seconds', 'secret', 'section', 'sectioned', 'sections', 'secure', 'securely', 'security', 'seder', 'sediment', 'seduces', 'see', 'seed', 'seeded', 'seeds', 'seeing', 'seek', 'seeking', 'seem', 'seemd', 'seemed', 'seemingly', 'seems', 'seen', 'seep', 'seeped', 'seeping', 'sees', 'seinfeld', 'seizure', 'seizures', 'seldom', 'selecci', 'select', 'selected', 'selection', 'selections', 'selects', 'self', 'sell', 'seller', 'sellers', 'selling', 'sells', 'seltzer', 'semblance', 'semi', 'sencha', 'send', 'sending', 'sends', 'senior', 'sensation', 'sensations', 'sense', 'senseo', 'senses', 'sensible', 'sensibly', 'sensitive', 'sensitives', 'sensitivities', 'sensitivity', 'sensitve', 'sensory', 'sent', 'sentence', 'separate', 'separated', 'separately', 'separating', 'seperate', 'sept', 'september', 'seratonin', 'serial', 'series', 'serious', 'seriousely', 'seriously', 'serrated', 'serve', 'served', 'serveice', 'server', 'serves', 'service', 'servicecons', 'services', 'serving', 'servingcalories', 'servings', 'sesame', 'sesmark', 'session', 'sessions', 'set', 'sets', 'setting', 'settingmilk', 'settingpeppermint', 'settings', 'settingthese', 'settle', 'settled', 'settleing', 'settles', 'settling', 'setup', 'seven', 'seventh', 'seventies', 'several', 'severe', 'severely', 'severs', 'sf', 'sg', 'shabby', 'shade', 'shake', 'shaken', 'shaker', 'shakes', 'shakey', 'shaking', 'shall', 'shallow', 'shame', 'shamelessly', 'shampoo', 'shape', 'shaped', 'shapes', 'shards', 'share', 'shared', 'shareing', 'shares', 'sharing', 'sharonanne', 'sharp', 'shatter', 'shattered', 'shave', 'shazam', 'sheanut', 'shed', 'shedding', 'sheen', 'sheepdog', 'sheer', 'sheesh', 'sheet', 'sheets', 'shelf', 'shell', 'shellfish', 'shells', 'shelly', 'shelter', 'shelters', 'sheltie', 'shelves', 'shep', 'shepard', 'shepards', 'sheph', 'shepherd', 'shepherds', 'sherlock', 'sherry', 'shied', 'shield', 'shielded', 'shielding', 'shifting', 'shih', 'shihpoo', 'shihtzu', 'shine', 'shinier', 'shiniest', 'shining', 'shiny', 'ship', 'shipment', 'shipments', 'shipped', 'shippedto', 'shippedvery', 'shipper', 'shipping', 'ships', 'shiseido', 'shock', 'shocked', 'shocking', 'shoes', 'shoeveling', 'shook', 'shoot', 'shooting', 'shop', 'shoppe', 'shopped', 'shopper', 'shoppers', 'shopping', 'shoprite', 'shops', 'shore', 'short', 'shortage', 'shortbread', 'shortcake', 'shortcakes', 'shortening', 'shorter', 'shortest', 'shorthair', 'shortly', 'shot', 'shots', 'shotsprobably', 'shotsthe', 'shoulder', 'shoulders', 'show', 'showed', 'shower', 'showing', 'shown', 'shows', 'shpping', 'shredded', 'shreds', 'shrimp', 'shrink', 'shrinking', 'shrinks', 'shriveled', 'shrub', 'shrug', 'shudder', 'shun', 'shure', 'shut', 'shy', 'si', 'sic', 'sick', 'sickened', 'sickening', 'sickeningly', 'sicker', 'sickly', 'side', 'sided', 'sides', 'sidewalk', 'sidewalks', 'sieve', 'sifted', 'sigh', 'sight', 'sign', 'signal', 'signature', 'signed', 'significant', 'significantly', 'signing', 'signs', 'silicon', 'silicone', 'silk', 'silky', 'sill', 'silly', 'silver', 'similac', 'similar', 'similarities', 'similarly', 'similasan', 'similiac', 'simmer', 'simmered', 'simmering', 'simple', 'simplepac', 'simpler', 'simplicity', 'simplified', 'simply', 'sin', 'since', 'sincere', 'sincerely', 'sinewaves', 'sinful', 'sinfully', 'sing', 'singers', 'singing', 'single', 'singles', 'singlularly', 'sings', 'sink', 'sinking', 'sinks', 'sinthetic', 'sinue', 'sinus', 'sinuses', 'sip', 'sipping', 'sippy', 'sips', 'sir', 'siracha', 'sister', 'sisters', 'sit', 'site', 'sites', 'sits', 'sitting', 'situation', 'situations', 'six', 'size', 'sized', 'sizes', 'skeptic', 'skeptical', 'skepticism', 'skillet', 'skim', 'skimmed', 'skimpy', 'skin', 'skinless', 'skinned', 'skinny', 'skins', 'skip', 'skipped', 'skipping', 'skunky', 'skus', 'skype', 'skyrocketed', 'slammin', 'slap', 'slashing', 'slated', 'slathered', 'slathering', 'slaughterhouse', 'slaughtering', 'sleep', 'sleeper', 'sleeping', 'sleeps', 'sleepy', 'sleeve', 'slender', 'slenderize', 'slept', 'slice', 'sliced', 'slices', 'slicing', 'slickers', 'slide', 'slight', 'slightest', 'slightly', 'slim', 'slimming', 'slimmy', 'slimy', 'slip', 'slipped', 'slippers', 'slippery', 'slit', 'slop', 'sloppy', 'sloshing', 'slot', 'sloth', 'slots', 'slow', 'slower', 'slowly', 'sls', 'sludge', 'sluggish', 'slugs', 'slush', 'slushy', 'sm', 'smack', 'smacking', 'smacks', 'small', 'smaller', 'smallest', 'smallish', 'smallness', 'smalls', 'smart', 'smashed', 'smear', 'smell', 'smelled', 'smelling', 'smells', 'smelly', 'smelt', 'smidge', 'smile', 'smiled', 'smiles', 'smiling', 'smith', 'smoke', 'smoked', 'smokehouse', 'smoker', 'smokey', 'smokeys', 'smokeysthese', 'smokies', 'smokiesfatter', 'smokiness', 'smoking', 'smoky', 'smooooooooooooooooooth', 'smooth', 'smoothe', 'smoother', 'smoothering', 'smoothest', 'smoothie', 'smoothies', 'smoothly', 'smoothness', 'smothered', 'smuckers', 'smuggle', 'smylie', 'snack', 'snacka', 'snacker', 'snackers', 'snackies', 'snacking', 'snacks', 'snacksi', 'snackwell', 'snackwise', 'snacky', 'snail', 'snakes', 'snap', 'snapped', 'snapple', 'snaps', 'snatched', 'sneak', 'sneaking', 'sneaky', 'snicker', 'snickerdoodle', 'snickers', 'sniff', 'sniffed', 'sniffer', 'sniffing', 'snipped', 'snob', 'snobby', 'snow', 'snowey', 'snuff', 'snyder', 'soak', 'soaked', 'soaking', 'soap', 'soapbox', 'soaps', 'sociables', 'social', 'society', 'soda', 'sodas', 'sodium', 'sofla', 'soft', 'soften', 'softened', 'softer', 'softest', 'software', 'soggy', 'sogo', 'soil', 'soils', 'sojo', 'sojos', 'solar', 'sold', 'soldiers', 'solely', 'solid', 'solidifying', 'solids', 'solo', 'solomon', 'solos', 'soluble', 'solution', 'solutions', 'solve', 'solved', 'solvents', 'somebody', 'somehow', 'someone', 'someplace', 'something', 'sometime', 'sometimes', 'sometimesi', 'somewhat', 'somewhere', 'sommers', 'somoeone', 'son', 'sonoma', 'sons', 'sony', 'soo', 'soon', 'sooner', 'sooo', 'soooo', 'sooooo', 'soooooo', 'sooooooooooooo', 'soot', 'sooth', 'soothe', 'soothes', 'soothing', 'sophie', 'sophisticated', 'sophistication', 'soprano', 'sorbatexanthan', 'sorbets', 'sore', 'sorely', 'sorghum', 'sorry', 'sort', 'sorta', 'sorting', 'sorts', 'souce', 'souchong', 'soul', 'sound', 'soundboard', 'soundcards', 'sounded', 'sounds', 'soup', 'soups', 'soupy', 'sour', 'source', 'sourced', 'sources', 'sourcing', 'sourcream', 'sourdough', 'soured', 'sourest', 'sourness', 'soury', 'south', 'southeast', 'southern', 'southerners', 'southwestern', 'soy', 'soybean', 'soybeans', 'soypeople', 'sp', 'spa', 'space', 'spaces', 'spagehetti', 'spagetti', 'spaghetti', 'spain', 'spam', 'spaniel', 'spaniels', 'spanish', 'spankin', 'spare', 'sparingly', 'sparkling', 'spas', 'spasms', 'spat', 'spatula', 'spayed', 'spca', 'speak', 'speaker', 'speakers', 'speaking', 'speaks', 'spear', 'spearmint', 'spears', 'special', 'speciality', 'specialize', 'specialized', 'specially', 'specials', 'specialty', 'species', 'specific', 'specifically', 'specifications', 'specificlly', 'specifics', 'specified', 'specify', 'specks', 'spectacular', 'spectacularly', 'spectaculary', 'spectrophotometer', 'spectrum', 'speculation', 'speed', 'speediest', 'speeds', 'speedy', 'spell', 'spelled', 'spencer', 'spend', 'spending', 'spendy', 'spent', 'sphincter', 'spice', 'spiced', 'spices', 'spicey', 'spicier', 'spiciness', 'spicy', 'spicyness', 'spike', 'spikes', 'spiking', 'spiky', 'spill', 'spillage', 'spilled', 'spilling', 'spills', 'spilt', 'spin', 'spinach', 'spine', 'spinning', 'spiral', 'spit', 'spite', 'spits', 'spitting', 'splash', 'splashes', 'splashing', 'splenda', 'splendas', 'splendid', 'split', 'splurge', 'spoil', 'spoilage', 'spoiled', 'spoke', 'sponge', 'spongebob', 'spongey', 'spongy', 'sponsor', 'sponsors', 'spoon', 'spoonful', 'spoonfuls', 'spoons', 'sportmix', 'sports', 'spot', 'spotless', 'spots', 'spotted', 'spouse', 'sprains', 'sprang', 'spray', 'sprayed', 'spread', 'spreadable', 'spreader', 'spreading', 'spreads', 'sprectrum', 'spree', 'sprig', 'sprigs', 'spring', 'springer', 'springform', 'springs', 'sprinkle', 'sprinkled', 'sprinkles', 'sprinkling', 'spritz', 'sproated', 'sprout', 'sprouted', 'sprouting', 'sprouts', 'spruce', 'sprue', 'spuds', 'spunk', 'spunky', 'spurious', 'square', 'squares', 'squash', 'squat', 'squeaker', 'squeaks', 'squeaky', 'squeamish', 'squeeze', 'squeezed', 'squid', 'squirrels', 'squirt', 'squished', 'squishiness', 'squishing', 'squishy', 'squism', 'sriracha', 'st', 'stabiliser', 'stabilized', 'stable', 'stacey', 'stack', 'stacks', 'stacy', 'staff', 'stage', 'staged', 'stages', 'staggering', 'stail', 'staining', 'stainless', 'stains', 'stakes', 'stale', 'stalks', 'stamp', 'stamps', 'stand', 'standalone', 'standard', 'standards', 'standardsmay', 'standing', 'standpoint', 'stands', 'stanky', 'stanley', 'staple', 'staples', 'star', 'staral', 'starbuck', 'starbucks', 'starch', 'starches', 'starchy', 'stares', 'starkist', 'starring', 'stars', 'start', 'started', 'starter', 'starters', 'startes', 'starting', 'startlingly', 'starts', 'starvation', 'starving', 'stash', 'stashed', 'stashtea', 'state', 'stated', 'statement', 'stater', 'states', 'statesman', 'stating', 'station', 'stationed', 'stations', 'status', 'stay', 'stayed', 'stayin', 'staying', 'stays', 'steadily', 'steady', 'steak', 'steakhouse', 'steaks', 'steal', 'stealing', 'steam', 'steamed', 'steamroller', 'steaz', 'steel', 'steep', 'steeped', 'steeping', 'steeps', 'steer', 'steered', 'steering', 'stellar', 'stellarmoney', 'stem', 'stemmed', 'stems', 'step', 'stepfather', 'stephen', 'stereo', 'steriods', 'steve', 'stevia', 'stew', 'stews', 'sth', 'sthg', 'stick', 'sticker', 'stickers', 'sticking', 'sticks', 'stickss', 'sticky', 'stiff', 'stiffer', 'stigma', 'still', 'stimulate', 'stimulates', 'stimulats', 'stinging', 'stink', 'stinking', 'stinks', 'stinky', 'stint', 'stir', 'stirred', 'stirring', 'stix', 'stock', 'stocked', 'stocking', 'stockings', 'stockpile', 'stockpiling', 'stocks', 'stole', 'stomach', 'stomache', 'stomachs', 'stone', 'stones', 'stonewall', 'stong', 'stonger', 'stool', 'stools', 'stop', 'stopped', 'stopping', 'stops', 'storability', 'storable', 'storage', 'store', 'storebought', 'storebrand', 'stored', 'storeedit', 'stores', 'storesand', 'storeswith', 'stories', 'storing', 'story', 'stove', 'stovetop', 'straight', 'straightforward', 'strain', 'strainer', 'strainers', 'strait', 'strand', 'stranded', 'strands', 'strange', 'strangely', 'strap', 'straw', 'strawberries', 'strawberry', 'straws', 'streaking', 'stream', 'street', 'stregnth', 'streisand', 'strength', 'stress', 'stressing', 'stretch', 'stretched', 'stretching', 'stretchy', 'streusel', 'strianese', 'strick', 'strict', 'strictly', 'stride', 'strikes', 'string', 'stringent', 'strings', 'stringy', 'strip', 'stripe', 'strips', 'strive', 'stroke', 'stroll', 'strolling', 'strong', 'stronger', 'strongest', 'strongly', 'struck', 'structural', 'structure', 'struggle', 'struggled', 'struggling', 'strungo', 'strvia', 'stuck', 'student', 'students', 'studied', 'studies', 'studio', 'study', 'stuff', 'stuffed', 'stuffer', 'stuffers', 'stuffing', 'stuffis', 'stuffy', 'stumble', 'stumbled', 'stumped', 'stung', 'stupid', 'stupidly', 'sturdier', 'sturdy', 'style', 'styles', 'styro', 'styrofoam', 'su', 'sub', 'subbed', 'subcription', 'subdue', 'subdued', 'subject', 'subjected', 'subjective', 'sublime', 'subscibe', 'subscribe', 'subscribeand', 'subscribed', 'subscribing', 'subscription', 'subsequently', 'subside', 'subsidiary', 'subsisted', 'subsitute', 'subsrcibe', 'substance', 'substantial', 'substantially', 'substitute', 'substituted', 'substitutes', 'substituting', 'substitution', 'substitutions', 'subtle', 'subtleties', 'subtly', 'subtract', 'subtracting', 'subway', 'succeeded', 'success', 'successes', 'successful', 'successfully', 'succinic', 'succulent', 'succumb', 'succumbing', 'suck', 'sucked', 'sucker', 'suckered', 'suckers', 'sucking', 'sucks', 'sucorse', 'sucralose', 'sucre', 'sudafed', 'sudden', 'suddenly', 'suds', 'sue', 'suffer', 'suffered', 'sufferer', 'sufferers', 'suffering', 'suffers', 'suffice', 'sufficient', 'sufficiently', 'sugar', 'sugarcinnamon', 'sugarfree', 'sugargree', 'sugarless', 'sugarlime', 'sugars', 'sugary', 'suger', 'suggessted', 'suggest', 'suggested', 'suggestion', 'suggestions', 'suggests', 'suit', 'suitable', 'suitcase', 'suited', 'suits', 'sulfate', 'sumac', 'sumatra', 'sumatran', 'summarize', 'summary', 'summer', 'summers', 'summertime', 'summit', 'sun', 'sunchips', 'sunchy', 'sundae', 'sunday', 'sunflower', 'sunrise', 'sunset', 'sunshine', 'super', 'superb', 'superbly', 'superceded', 'superfine', 'superfluous', 'superfoods', 'superior', 'supermarket', 'supermarkets', 'supervised', 'supervision', 'supieror', 'supper', 'supplement', 'supplemental', 'supplementation', 'supplements', 'supplier', 'suppliers', 'supplies', 'supply', 'support', 'supporting', 'supports', 'suppose', 'supposed', 'supposedly', 'suppository', 'suppressant', 'suppression', 'suprema', 'supreme', 'suprise', 'suprised', 'suprisingly', 'sure', 'surely', 'surf', 'surface', 'surfaces', 'surge', 'surgery', 'surly', 'surpass', 'surpassed', 'surpasses', 'surprise', 'surprised', 'surprises', 'surprising', 'surprisingly', 'surround', 'surrounded', 'surrounding', 'surroundings', 'surveys', 'survival', 'survive', 'survived', 'sushi', 'susie', 'suspect', 'suspected', 'suspicious', 'sustain', 'sustainability', 'sustainable', 'sustains', 'sustenance', 'suto', 'sux', 'suzanne', 'swallow', 'swallowing', 'swamp', 'swanson', 'swap', 'swapped', 'swapping', 'swaziland', 'swear', 'sweat', 'sweating', 'sweatshops', 'sweden', 'swedish', 'sweepings', 'sweet', 'sweetarts', 'sweetbreads', 'sweeten', 'sweetend', 'sweetened', 'sweetener', 'sweeteners', 'sweetening', 'sweetens', 'sweeter', 'sweetest', 'sweetie', 'sweeting', 'sweetish', 'sweetner', 'sweetners', 'sweetness', 'sweets', 'sweetsamazon', 'swelling', 'swerve', 'swift', 'swigs', 'swill', 'swing', 'swings', 'swirl', 'swirled', 'swirling', 'swiss', 'switch', 'switched', 'switches', 'switching', 'switchover', 'switzerland', 'sworn', 'swtich', 'symbol', 'symbols', 'sympathetic', 'symptom', 'symptoms', 'synagogue', 'syncope', 'syndrome', 'syndromes', 'synonymous', 'synthetic', 'syracuse', 'syrah', 'syrup', 'syrups', 'syrupy', 'system', 'systemic', 'systems', 'szeged', 'tab', 'tabasco', 'table', 'tables', 'tablespoon', 'tablespoons', 'tablet', 'tablets', 'taboule', 'tabs', 'tac', 'tack', 'tacky', 'taco', 'tacoma', 'tacos', 'tacs', 'tact', 'tad', 'taffy', 'taffyshe', 'tag', 'tagine', 'tahini', 'tai', 'tail', 'tails', 'tainted', 'taiwan', 'taiwanese', 'take', 'takedown', 'taken', 'takeout', 'takers', 'takes', 'taking', 'tale', 'talent', 'tales', 'talk', 'talked', 'talking', 'talkingrain', 'tall', 'tallgummy', 'tallicing', 'tama', 'tamales', 'tamari', 'tame', 'tamed', 'tamer', 'tamped', 'tan', 'tang', 'tangerine', 'tanginess', 'tangy', 'tank', 'tannic', 'tannin', 'tannins', 'tanzanian', 'tao', 'tap', 'tapanade', 'tape', 'taped', 'tapenade', 'tapes', 'tapioca', 'tar', 'target', 'targeted', 'targeting', 'tarragon', 'tart', 'tartar', 'tarter', 'tartlets', 'tartness', 'tarts', 'task', 'tasselfield', 'tassimo', 'tassimodirect', 'tast', 'taste', 'tastebuds', 'tasted', 'tasteful', 'tastefull', 'tasteis', 'tasteless', 'tastelessly', 'tastepour', 'taster', 'tasters', 'tastes', 'tastey', 'tastier', 'tastiest', 'tasting', 'tastless', 'tasty', 'tate', 'tated', 'tater', 'tather', 'tatooes', 'tatse', 'tatters', 'taught', 'tawny', 'tax', 'taxes', 'taxidermist', 'taylor', 'tazo', 'tb', 'tbls', 'tblsp', 'tbs', 'tbsp', 'tbsps', 'tchaikovsky', 'tea', 'teabag', 'teabags', 'teach', 'teacher', 'teachers', 'teaches', 'teaching', 'teagreat', 'team', 'teapot', 'tear', 'teared', 'tearing', 'tears', 'teary', 'teas', 'tease', 'teaspon', 'teaspoon', 'teaspoonfuls', 'teaspoons', 'teavana', 'tech', 'technica', 'technical', 'technically', 'technique', 'techniques', 'technologies', 'technology', 'techs', 'teddy', 'tedious', 'tee', 'teen', 'teenage', 'teenager', 'teenagers', 'teens', 'teensy', 'teeth', 'teething', 'teh', 'tell', 'telling', 'tells', 'temp', 'temperament', 'temperature', 'temperatures', 'tempered', 'temporary', 'tempranillo', 'temps', 'tempt', 'temptation', 'tempted', 'tempting', 'tempura', 'ten', 'tend', 'tendancy', 'tendencies', 'tendency', 'tender', 'tenderizer', 'tenders', 'tendon', 'tends', 'tener', 'tension', 'tent', 'tentacle', 'tenth', 'tents', 'tepid', 'tequila', 'teriyaki', 'term', 'terminals', 'terms', 'terra', 'terrible', 'terribly', 'terrier', 'terriers', 'terrific', 'terrior', 'terroir', 'tes', 'test', 'tested', 'tester', 'testing', 'testingaflotoxin', 'testingour', 'tests', 'testthe', 'tetleys', 'tetra', 'texas', 'text', 'texture', 'textured', 'textures', 'thai', 'thailand', 'thaks', 'thank', 'thankful', 'thankfully', 'thanking', 'thanks', 'thanksexcellent', 'thanksgiving', 'thanpotato', 'thanx', 'thatit', 'thatrescues', 'thats', 'thatvita', 'thawed', 'thawing', 'theater', 'thee', 'thehaccp', 'theis', 'theliquor', 'theme', 'themed', 'themintmovieman', 'themthey', 'thenanother', 'theo', 'theobroma', 'theoriginal', 'therapeutic', 'therapeutically', 'thereafter', 'therefore', 'therekettle', 'theres', 'theri', 'thermo', 'thesedifferent', 'thesedo', 'thesse', 'thestates', 'theyre', 'thia', 'thiamin', 'thick', 'thicken', 'thickened', 'thickeners', 'thickening', 'thicker', 'thickest', 'thickly', 'thickness', 'thier', 'thieves', 'thighs', 'thilled', 'thin', 'thing', 'thingand', 'things', 'thingsespecially', 'think', 'thinking', 'thinks', 'thinly', 'thinned', 'thinner', 'thinners', 'thinness', 'thinning', 'thins', 'third', 'thirds', 'thirst', 'thirsty', 'thirty', 'thiscan', 'tho', 'thom', 'thomy', 'thorns', 'thorough', 'thoroughly', 'thorougly', 'thot', 'though', 'thought', 'thoughtful', 'thoughtfully', 'thoughts', 'thousand', 'thousands', 'thread', 'three', 'threw', 'thrilled', 'thrive', 'thrived', 'thrives', 'thriving', 'throat', 'throttle', 'throughout', 'throw', 'throwing', 'thrown', 'throws', 'thru', 'thryoid', 'thsese', 'thst', 'tht', 'thumb', 'thumbs', 'thurs', 'thus', 'thx', 'thyme', 'thymes', 'thyroid', 'tibetan', 'tibetin', 'tic', 'ticket', 'tickle', 'tictac', 'tictacs', 'tide', 'tidier', 'tie', 'tied', 'tier', 'tiger', 'tight', 'tightens', 'tightly', 'tiis', 'tijuana', 'til', 'tile', 'till', 'tillen', 'tim', 'time', 'timed', 'timeframe', 'timely', 'timer', 'times', 'timex', 'timing', 'timor', 'timothy', 'tin', 'tincture', 'tinea', 'tingle', 'tinker', 'tinkering', 'tinkyada', 'tinned', 'tins', 'tint', 'tiny', 'tip', 'tipo', 'tips', 'tire', 'tired', 'tiresome', 'tis', 'tissues', 'titan', 'title', 'titled', 'tj', 'tm', 'tmi', 'tn', 'toast', 'toasted', 'toaster', 'toasting', 'toasts', 'todate', 'today', 'toddler', 'toddlers', 'toe', 'toes', 'toffees', 'toffifay', 'tofind', 'tofu', 'together', 'togethers', 'toilet', 'told', 'tolerable', 'tolerablel', 'tolerance', 'tolerant', 'tolerate', 'tolerated', 'tolerates', 'toll', 'tom', 'tomato', 'tomatoe', 'tomatoes', 'tomatos', 'tomorrow', 'ton', 'tonal', 'tone', 'tones', 'tong', 'tongue', 'tonic', 'tonight', 'tons', 'tony', 'took', 'tool', 'tooth', 'toothache', 'toothpick', 'toothpicks', 'tootsie', 'top', 'toped', 'topic', 'topped', 'topper', 'toppers', 'toppin', 'topping', 'toppings', 'tops', 'torani', 'torched', 'tore', 'tormented', 'torn', 'tortilla', 'tortillas', 'toslink', 'toss', 'tossed', 'tossing', 'tostadas', 'toster', 'tot', 'total', 'totaled', 'totality', 'totally', 'totaly', 'tote', 'touch', 'touched', 'touching', 'touchy', 'tough', 'tounge', 'tourist', 'tout', 'touted', 'toward', 'towards', 'towel', 'towels', 'tower', 'town', 'towns', 'toxic', 'toxicology', 'toxin', 'toxins', 'toy', 'toys', 'trace', 'traces', 'track', 'tracked', 'tracking', 'tract', 'tracts', 'trade', 'trademark', 'trader', 'trading', 'tradition', 'traditional', 'traffic', 'trail', 'trailed', 'trailer', 'train', 'trained', 'trainer', 'training', 'trang', 'trans', 'transaction', 'transfats', 'transfer', 'transferring', 'transformed', 'transformer', 'transit', 'transition', 'transitioning', 'translates', 'transparency', 'transparent', 'transplant', 'transplanted', 'transport', 'transported', 'transports', 'trap', 'trapped', 'traps', 'trash', 'trashing', 'travel', 'traveled', 'traveling', 'travels', 'tray', 'trays', 'tread', 'treadmill', 'treat', 'treated', 'treaters', 'treating', 'treatment', 'treatments', 'treats', 'tree', 'trees', 'trek', 'tremendous', 'tremendously', 'trend', 'trendleditor', 'trendy', 'tres', 'tri', 'trial', 'trialing', 'triangle', 'tribute', 'trick', 'tricked', 'tricks', 'tricky', 'trident', 'tried', 'triedat', 'tries', 'triffle', 'trifle', 'trifles', 'trigger', 'triggered', 'triggers', 'triglycerides', 'trigylcerides', 'trim', 'trimming', 'trio', 'trip', 'triple', 'triplets', 'trips', 'trish', 'tropical', 'trot', 'trouble', 'troubled', 'troubles', 'troubleshooting', 'trout', 'trubar', 'truck', 'trucks', 'true', 'truely', 'truffle', 'truffles', 'truley', 'trully', 'truly', 'trumpet', 'trust', 'trusted', 'truth', 'truthful', 'truthfully', 'truvia', 'try', 'tryed', 'trying', 'tryingto', 'tsp', 'tu', 'tub', 'tube', 'tubers', 'tubes', 'tubs', 'tuck', 'tuesday', 'tulear', 'tully', 'tullys', 'tulsa', 'tumbler', 'tummies', 'tummy', 'tumor', 'tuna', 'tune', 'tuned', 'tupperware', 'turbinado', 'turbo', 'turducken', 'turkey', 'turmeric', 'turn', 'turned', 'turning', 'turnpike', 'turnpikes', 'turns', 'turtle', 'tuscany', 'tuve', 'tv', 'twang', 'tweak', 'tweaked', 'tweek', 'tweleve', 'twelve', 'twenty', 'twice', 'twigs', 'twin', 'twinings', 'twinkies', 'twinnings', 'twins', 'twist', 'twisting', 'twists', 'twizzler', 'twizzlers', 'two', 'twos', 'tx', 'tying', 'tylenol', 'type', 'typed', 'types', 'typical', 'typically', 'tzu', 'tzus', 'ubiquitous', 'ues', 'ugh', 'ugly', 'uh', 'uk', 'ukrops', 'ulcer', 'ultimate', 'ultimately', 'ultra', 'um', 'umami', 'umm', 'ummm', 'ummmmm', 'un', 'una', 'unable', 'unacceptable', 'unadulterated', 'unadultered', 'unaltered', 'unanimous', 'unanimously', 'unannouncedinspection', 'unanswered', 'unappealing', 'unappetizing', 'unattended', 'unavailable', 'unaware', 'unbaked', 'unbearable', 'unbearably', 'unbeatable', 'unbelievable', 'unbelievably', 'unbiased', 'unblemished', 'unboxing', 'unbrittle', 'unbroken', 'uncertain', 'unchanged', 'uncle', 'uncontrollable', 'unconventional', 'uncooked', 'uncracked', 'und', 'undamaged', 'undefinable', 'underestimated', 'undergo', 'underground', 'underhanded', 'underneath', 'underneaths', 'understand', 'understandable', 'understated', 'understatement', 'understood', 'undertone', 'underweight', 'underwhelming', 'undesirable', 'undetectable', 'undigested', 'undigestible', 'undissolved', 'undon', 'undoubtedly', 'undrinkable', 'undulations', 'uneaten', 'unedible', 'uneducated', 'unenhanced', 'unethical', 'uneven', 'unexpected', 'unexpectedly', 'unexplained', 'unfailingly', 'unfair', 'unfairly', 'unfavorable', 'unfinished', 'unfit', 'unflavored', 'unformed', 'unfortnately', 'unfortunate', 'unfortunately', 'unfortunatley', 'unfortunatly', 'unfriendly', 'unfurl', 'unhappy', 'unhealthier', 'unhealthy', 'uniform', 'uniformity', 'unify', 'uninspiring', 'uninstall', 'uninstalling', 'uninterested', 'uninvigorating', 'unique', 'uniquely', 'unit', 'united', 'units', 'universal', 'universe', 'unknown', 'unlemoned', 'unless', 'unlike', 'unlikely', 'unlined', 'unloaded', 'unloading', 'unmarked', 'unmeasured', 'unmistakable', 'unmixed', 'unnatural', 'unnecessary', 'uno', 'unoaked', 'unopened', 'unpacking', 'unpalatable', 'unparalleled', 'unplanned', 'unpleasant', 'unpleasantness', 'unplug', 'unpopped', 'unpredictable', 'unprofitable', 'unreal', 'unrealistic', 'unrelated', 'unreliable', 'unrelieved', 'unremarkable', 'unroasted', 'unroll', 'unsafe', 'unsalted', 'unsatiated', 'unsatisfactorily', 'unsatisfactory', 'unsatisfying', 'unscrewed', 'unscrupulous', 'unsealed', 'unshelled', 'unshielded', 'unstick', 'unsubscribe', 'unsulfured', 'unsure', 'unsuspecting', 'unsweeted', 'unsweetened', 'untested', 'untill', 'unto', 'untypically', 'unusable', 'unused', 'unusual', 'unwanted', 'unwieldy', 'unwind', 'unwittingly', 'unworkable', 'unwrap', 'unwrapping', 'upc', 'upcoming', 'upcons', 'update', 'updated', 'updates', 'updating', 'upgraded', 'upgreat', 'uplift', 'uplifting', 'uploading', 'upon', 'upped', 'upper', 'ups', 'upsacale', 'upscale', 'upset', 'upsets', 'upsetting', 'upside', 'upstate', 'ur', 'uranium', 'urge', 'urges', 'uri', 'urina', 'urinary', 'urinate', 'urinating', 'urine', 'urologist', 'us', 'usa', 'usable', 'usage', 'usb', 'use', 'used', 'useful', 'usefull', 'usefulness', 'useing', 'useless', 'user', 'users', 'uses', 'using', 'usps', 'ussea', 'ustream', 'usual', 'usually', 'usukuchi', 'ut', 'uti', 'utilize', 'utilized', 'utilizing', 'utmost', 'utter', 'utterly', 'utz', 'uwajimaya', 'vacation', 'vacationing', 'vaccine', 'vacuum', 'vacuumed', 'vacuuming', 'vague', 'vaguely', 'vainly', 'valdez', 'valentine', 'valid', 'valley', 'valuable', 'valuables', 'value', 'valuepetsupplies', 'values', 'valve', 'van', 'vance', 'vanilla', 'vanillaand', 'vanishing', 'variation', 'variations', 'varied', 'varieties', 'variety', 'various', 'varities', 'varity', 'vary', 'varying', 'vase', 'vases', 'vast', 'vcs', 'veg', 'vegaline', 'vegan', 'vegans', 'vegas', 'vege', 'veges', 'vegetable', 'vegetables', 'vegetal', 'vegetarian', 'vegetation', 'veggie', 'veggies', 'vegies', 'vehicle', 'velvet', 'velvety', 'ven', 'vend', 'venders', 'vending', 'vendor', 'vendors', 'venetian', 'venison', 'vents', 'venture', 'verbally', 'verde', 'verdict', 'verified', 'verify', 'veritable', 'verities', 'vermin', 'vermont', 'vernor', 'vernors', 'verona', 'veronastarbucks', 'verrrrry', 'verrryyy', 'versa', 'versatile', 'versatility', 'versicolor', 'version', 'versions', 'versital', 'versitile', 'verson', 'versus', 'veryasia', 'verytasty', 'vestal', 'vet', 'veterinarian', 'veterinarians', 'veterinary', 'veteriniarian', 'vets', 'vey', 'vfw', 'via', 'viable', 'vial', 'vials', 'vibrant', 'vice', 'vicks', 'vicky', 'vico', 'victims', 'victor', 'victoria', 'vidalya', 'video', 'videos', 'vietnam', 'view', 'viewers', 'vigor', 'viki', 'vile', 'village', 'vinager', 'vinci', 'vine', 'vinegar', 'vinegars', 'vinegary', 'vines', 'vineyard', 'vinger', 'vinigary', 'vino', 'vintage', 'vinyl', 'viola', 'violet', 'viral', 'virgil', 'virgin', 'virginflo', 'virginia', 'virtually', 'visably', 'viscosity', 'visit', 'visited', 'visiting', 'visitors', 'visits', 'vista', 'visual', 'visualize', 'visually', 'vit', 'vita', 'vitacoco', 'vitagravy', 'vitakraft', 'vital', 'vitalicious', 'vitality', 'vitamin', 'vitamins', 'vitamix', 'vitamuffins', 'viva', 'vivid', 'vocal', 'vocally', 'vocals', 'vodka', 'voice', 'void', 'voila', 'volcanic', 'voltages', 'volume', 'volumes', 'volunteered', 'vomit', 'vomited', 'vomiting', 'vomits', 'vor', 'voraciously', 'vote', 'voted', 'votes', 'voting', 'vouch', 'voyage', 'vpi', 'vs', 'wa', 'waaaay', 'wabash', 'wad', 'wafer', 'wafers', 'waffle', 'waffles', 'wag', 'wagging', 'wagyu', 'wah', 'wait', 'waited', 'waiting', 'waits', 'wake', 'wakeful', 'wakes', 'waking', 'wal', 'walgreens', 'walk', 'walked', 'walker', 'walkers', 'walkerwood', 'walking', 'walks', 'wall', 'wallet', 'wallhangers', 'wallmart', 'wallpaper', 'walmart', 'walnut', 'walnuts', 'walsh', 'walt', 'wanderers', 'wanes', 'wanna', 'want', 'wanted', 'wanting', 'wantned', 'wants', 'waowi', 'ward', 'wardrobe', 'warehouse', 'warehouses', 'waring', 'warm', 'warmed', 'warmer', 'warming', 'warms', 'warmth', 'warn', 'warned', 'warner', 'warning', 'warnings', 'warped', 'warrant', 'warranty', 'warren', 'wart', 'wary', 'wasa', 'wasabi', 'wasavailable', 'wasfor', 'wash', 'washed', 'washes', 'washing', 'washington', 'washy', 'wasnt', 'wasstill', 'waste', 'wasted', 'wasteful', 'wastenot', 'wasting', 'watch', 'watched', 'watcher', 'watchers', 'watching', 'water', 'watercress', 'watered', 'watering', 'wateringly', 'waterlogged', 'watermelon', 'waters', 'watery', 'watter', 'wattery', 'wave', 'waved', 'wavy', 'wax', 'waxed', 'waxy', 'way', 'wayne', 'ways', 'wayyyyyyyyyy', 'weak', 'weaker', 'weaknesses', 'wealth', 'wean', 'weaned', 'weaning', 'wear', 'wearer', 'wearing', 'wears', 'weather', 'weatherly', 'weaver', 'weavers', 'web', 'webinars', 'webpage', 'website', 'websites', 'wedding', 'weddingbut', 'wee', 'weeds', 'week', 'weekday', 'weekend', 'weekends', 'weekly', 'weeks', 'weened', 'weep', 'wegman', 'wegmans', 'wei', 'weigh', 'weighed', 'weighing', 'weighs', 'weight', 'weighted', 'weightly', 'weights', 'weightwatcher', 'weird', 'weirdly', 'welcome', 'welcomed', 'welcomes', 'well', 'wellness', 'wells', 'welsh', 'wendell', 'went', 'werther', 'werthers', 'west', 'western', 'westies', 'weston', 'wet', 'wetland', 'wetted', 'wewould', 'whacked', 'whammy', 'whatever', 'whats', 'whatsoever', 'wheat', 'wheaten', 'wheatfree', 'wheatgrass', 'wheel', 'whenever', 'whereas', 'wherever', 'whet', 'whether', 'whew', 'whey', 'whichever', 'whih', 'whilst', 'whim', 'whimper', 'whimpering', 'whimpy', 'whining', 'whip', 'whipped', 'whipping', 'whirl', 'whirley', 'whirly', 'whirlypop', 'whisk', 'whisked', 'whistle', 'white', 'whitening', 'whites', 'whitish', 'whitman', 'whoever', 'whole', 'wholegrain', 'wholesale', 'wholesome', 'whonu', 'whoohoo', 'whooping', 'whopping', 'whose', 'wide', 'widely', 'wider', 'width', 'wierd', 'wife', 'wifey', 'wiff', 'wiggle', 'wii', 'wikipedia', 'wild', 'wilds', 'wile', 'williams', 'willing', 'willingly', 'willy', 'wilted', 'wilton', 'wimp', 'wimpy', 'win', 'winding', 'window', 'windows', 'windowsxp', 'wine', 'wined', 'winery', 'wines', 'winey', 'wing', 'wingaling', 'wings', 'winner', 'winning', 'wins', 'winter', 'wintergreen', 'wintergreens', 'wioll', 'wipe', 'wipes', 'wire', 'wirehair', 'wires', 'wisconsin', 'wisdom', 'wise', 'wisely', 'wish', 'wished', 'wishes', 'wishy', 'wit', 'witch', 'withdrawal', 'withdrawals', 'within', 'without', 'withstand', 'withstood', 'wizard', 'wk', 'wnow', 'wo', 'woderful', 'woeber', 'woke', 'wold', 'wolf', 'wolfed', 'wolfgang', 'wolfhound', 'wolfing', 'wolfs', 'woman', 'women', 'wonder', 'wondered', 'wonderful', 'wonderfully', 'wondering', 'wonders', 'wonka', 'wont', 'wontons', 'woo', 'wood', 'wooden', 'woods', 'woody', 'woof', 'woofers', 'woohoo', 'woot', 'worcestershire', 'worchestershire', 'word', 'wording', 'words', 'work', 'workable', 'workdays', 'worked', 'worker', 'workers', 'working', 'workout', 'workouts', 'workplace', 'works', 'workspace', 'world', 'worlds', 'worms', 'worried', 'worries', 'worrisome', 'worry', 'worrying', 'worse', 'worsened', 'worsens', 'worst', 'worth', 'worthless', 'worthwhile', 'worthy', 'wou', 'would', 'wouldecaf', 'wouldress', 'wound', 'wow', 'wowee', 'wrap', 'wrapped', 'wrapper', 'wrappers', 'wrapping', 'wraps', 'wreat', 'wreath', 'wrestle', 'wrestling', 'wrigley', 'wrigleys', 'write', 'writes', 'writing', 'written', 'wrong', 'wrote', 'wtf', 'wu', 'wuss', 'ww', 'www', 'xanthan', 'xanthum', 'xbox', 'xd', 'xi', 'xlear', 'xlr', 'xmas', 'xp', 'xtra', 'xuan', 'xylitol', 'ya', 'yadda', 'yahoo', 'yawning', 'yay', 'yayy', 'yea', 'yeah', 'year', 'yearn', 'years', 'yeast', 'yeastgarlic', 'yeasty', 'yeck', 'yeh', 'yelling', 'yellow', 'yellowish', 'yelp', 'yep', 'yerba', 'yerbas', 'yes', 'yester', 'yesterday', 'yesterdy', 'yesteryear', 'yet', 'yeti', 'yi', 'yield', 'yields', 'yike', 'yikes', 'yinzhen', 'yo', 'yoga', 'yogert', 'yogi', 'yogurt', 'yogurts', 'yokes', 'yoki', 'yolk', 'yolks', 'york', 'yorkie', 'yorkiepoo', 'yorkies', 'youcan', 'youch', 'youd', 'youll', 'young', 'younger', 'youngest', 'yourelf', 'youself', 'youtube', 'yr', 'yrs', 'yu', 'yuban', 'yuck', 'yucky', 'yuk', 'yum', 'yumm', 'yummier', 'yummiest', 'yummilk', 'yumminess', 'yummmm', 'yummmmmm', 'yummy', 'yummyness', 'yummypeppermint', 'yummys', 'yunnan', 'yup', 'yuuuummmmmmyyyy', 'zack', 'zap', 'zapp', 'zareba', 'zeal', 'zealand', 'zen', 'zero', 'zest', 'zesty', 'zevia', 'zico', 'zin', 'zinc', 'zinfandels', 'zing', 'zip', 'ziplock', 'zipper', 'zippy', 'zito', 'zola', 'zomg', 'zon', 'zoo', 'zucchini', 'zupas', 'zuppa']\n",
      "==================================================\n"
     ]
    }
   ],
   "source": [
    "#BoW\n",
    "count_vect = CountVectorizer() #in scikit-learn\n",
    "count_vect.fit(preprocessed_reviews)\n",
    "print(\"some feature names \", count_vect.get_feature_names())\n",
    "print('='*50)\n",
    "\n"
   ]
  },
  {
   "cell_type": "code",
   "execution_count": 26,
   "metadata": {},
   "outputs": [
    {
     "name": "stdout",
     "output_type": "stream",
     "text": [
      "the type of count vectorizer  <class 'scipy.sparse.csr.csr_matrix'>\n",
      "the shape of out text BOW vectorizer  (4986, 12997)\n",
      "the number of unique words    (0, 345)\t2\n",
      "  (0, 757)\t1\n",
      "  (0, 962)\t1\n",
      "  (0, 1626)\t1\n",
      "  (0, 1723)\t3\n",
      "  (0, 2010)\t1\n",
      "  (0, 2466)\t1\n",
      "  (0, 2977)\t1\n",
      "  (0, 3003)\t1\n",
      "  (0, 3016)\t1\n",
      "  (0, 3619)\t2\n",
      "  (0, 4485)\t2\n",
      "  (0, 5013)\t2\n",
      "  (0, 5063)\t3\n",
      "  (0, 5233)\t1\n",
      "  (0, 5934)\t1\n",
      "  (0, 6477)\t1\n",
      "  (0, 6499)\t1\n",
      "  (0, 6505)\t1\n",
      "  (0, 6619)\t1\n",
      "  (0, 7130)\t3\n",
      "  (0, 7610)\t4\n",
      "  (0, 8035)\t1\n",
      "  (0, 8815)\t2\n",
      "  (0, 8846)\t1\n",
      "  (0, 9934)\t1\n",
      "  (0, 10063)\t1\n",
      "  (0, 10233)\t1\n",
      "  (0, 10579)\t1\n",
      "  (0, 10702)\t1\n",
      "  (0, 11048)\t1\n",
      "  (0, 12306)\t1\n",
      "  (0, 12515)\t1\n",
      "  (0, 12801)\t1\n",
      "  (0, 12915)\t1\n"
     ]
    }
   ],
   "source": [
    "final_counts = count_vect.transform(preprocessed_reviews)\n",
    "print(\"the type of count vectorizer \",type(final_counts))\n",
    "print(\"the shape of out text BOW vectorizer \",final_counts.get_shape())\n",
    "print(\"the number of unique words \", final_counts[100])"
   ]
  },
  {
   "cell_type": "markdown",
   "metadata": {
    "id": "1dhfJZ7ZCAaR"
   },
   "source": [
    "## [4.2] Bi-Grams and n-Grams."
   ]
  },
  {
   "cell_type": "code",
   "execution_count": 27,
   "metadata": {
    "id": "u1Ma2LBfCAaR",
    "outputId": "a5208a4c-c0ad-4360-f021-b2e8715610a4"
   },
   "outputs": [
    {
     "name": "stdout",
     "output_type": "stream",
     "text": [
      "the type of count vectorizer  <class 'scipy.sparse.csr.csr_matrix'>\n",
      "the shape of out text BOW vectorizer  (4986, 3144)\n",
      "the number of unique words including both unigrams and bigrams  3144\n"
     ]
    }
   ],
   "source": [
    "#bi-gram, tri-gram and n-gram\n",
    "\n",
    "#removing stop words like \"not\" should be avoided before building n-grams\n",
    "# count_vect = CountVectorizer(ngram_range=(1,2))\n",
    "# please do read the CountVectorizer documentation http://scikit-learn.org/stable/modules/generated/sklearn.feature_extraction.text.CountVectorizer.html\n",
    "# you can choose these numebrs min_df=10, max_features=5000, of your choice\n",
    "count_vect = CountVectorizer(ngram_range=(1,2), min_df=10, max_features=5000)\n",
    "final_bigram_counts = count_vect.fit_transform(preprocessed_reviews)\n",
    "print(\"the type of count vectorizer \",type(final_bigram_counts))\n",
    "print(\"the shape of out text BOW vectorizer \",final_bigram_counts.get_shape())\n",
    "print(\"the number of unique words including both unigrams and bigrams \", final_bigram_counts.get_shape()[1])"
   ]
  },
  {
   "cell_type": "markdown",
   "metadata": {
    "id": "F--Xk5fhCAaV"
   },
   "source": [
    "## [4.3] TF-IDF"
   ]
  },
  {
   "cell_type": "code",
   "execution_count": 28,
   "metadata": {
    "id": "6heiZFZ-CAaW",
    "outputId": "08103e90-4bd8-410e-b3dc-84a02e01aa33"
   },
   "outputs": [
    {
     "name": "stdout",
     "output_type": "stream",
     "text": [
      "some sample features(unique words in the corpus) ['ability', 'able', 'able find', 'able get', 'absolute', 'absolutely', 'absolutely delicious', 'absolutely love', 'absolutely no', 'according']\n",
      "==================================================\n",
      "the type of count vectorizer  <class 'scipy.sparse.csr.csr_matrix'>\n",
      "the shape of out text TFIDF vectorizer  (4986, 3144)\n",
      "the number of unique words including both unigrams and bigrams  3144\n"
     ]
    }
   ],
   "source": [
    "tf_idf_vect = TfidfVectorizer(ngram_range=(1,2), min_df=10)\n",
    "tf_idf_vect.fit(preprocessed_reviews)\n",
    "print(\"some sample features(unique words in the corpus)\",tf_idf_vect.get_feature_names()[0:10])\n",
    "print('='*50)\n",
    "\n",
    "final_tf_idf = tf_idf_vect.transform(preprocessed_reviews)\n",
    "print(\"the type of count vectorizer \",type(final_tf_idf))\n",
    "print(\"the shape of out text TFIDF vectorizer \",final_tf_idf.get_shape())\n",
    "print(\"the number of unique words including both unigrams and bigrams \", final_tf_idf.get_shape()[1])"
   ]
  },
  {
   "cell_type": "markdown",
   "metadata": {
    "id": "XnzP-eZdCAaa"
   },
   "source": [
    "## [4.4] Word2Vec"
   ]
  },
  {
   "cell_type": "code",
   "execution_count": 29,
   "metadata": {
    "id": "e-IuUZsTCAaa"
   },
   "outputs": [],
   "source": [
    "# Train your own Word2Vec model using your own text corpus\n",
    "i=0\n",
    "list_of_sentance=[]\n",
    "for sentance in preprocessed_reviews:\n",
    "    list_of_sentance.append(sentance.split())"
   ]
  },
  {
   "cell_type": "code",
   "execution_count": 31,
   "metadata": {
    "id": "GIbKBSkRCAac",
    "outputId": "d72c6206-2c3f-4143-8c21-3f5b674310df",
    "scrolled": true
   },
   "outputs": [
    {
     "name": "stdout",
     "output_type": "stream",
     "text": [
      "[('alternative', 0.9892565608024597), ('excellent', 0.9890455603599548), ('think', 0.9877196550369263), ('regular', 0.9875690937042236), ('especially', 0.9875655174255371), ('buds', 0.9875319600105286), ('snack', 0.9872446656227112), ('pretty', 0.9871811866760254), ('wonderful', 0.9869775772094727), ('greasy', 0.9868401288986206)]\n",
      "==================================================\n",
      "[('brewing', 0.9990056157112122), ('miss', 0.9988756775856018), ('soup', 0.9988200664520264), ('enjoyed', 0.9988054037094116), ('dont', 0.9988051652908325), ('melitta', 0.998770534992218), ('true', 0.9987239837646484), ('oatmeal', 0.9987137317657471), ('gourmet', 0.9986276030540466), ('pie', 0.9986105561256409)]\n"
     ]
    }
   ],
   "source": [
    "# Using Google News Word2Vectors\n",
    "\n",
    "# in this project we are using a pretrained model by google\n",
    "# its 3.3G file, once you load this into your memory \n",
    "# it occupies ~9Gb, so please do this step only if you have >12G of ram\n",
    "# we will provide a pickle file wich contains a dict , \n",
    "# and it contains all our courpus words as keys and  model[word] as values\n",
    "# To use this code-snippet, download \"GoogleNews-vectors-negative300.bin\" \n",
    "# from https://drive.google.com/file/d/0B7XkCwpI5KDYNlNUTTlSS21pQmM/edit\n",
    "# it's 1.9GB in size.\n",
    "\n",
    "\n",
    "# http://kavita-ganesan.com/gensim-word2vec-tutorial-starter-code/#.W17SRFAzZPY\n",
    "# you can comment this whole cell\n",
    "# or change these varible according to your need\n",
    "\n",
    "is_your_ram_gt_16g=True\n",
    "want_to_use_google_w2v = True\n",
    "want_to_train_w2v = True\n",
    "\n",
    "if want_to_train_w2v:\n",
    "    # min_count = 5 considers only words that occured atleast 5 times\n",
    "    w2v_model=Word2Vec(list_of_sentance,min_count=5, workers=4)\n",
    "    print(w2v_model.wv.most_similar('great'))\n",
    "    print('='*50)\n",
    "    print(w2v_model.wv.most_similar('worst'))\n",
    "    \n",
    "elif want_to_use_google_w2v and is_your_ram_gt_16g:\n",
    "    if os.path.isfile('GoogleNews-vectors-negative300.bin'):\n",
    "        w2v_model=KeyedVectors.load_word2vec_format('GoogleNews-vectors-negative300.bin', binary=True)\n",
    "        print(w2v_model.wv.most_similar('great'))\n",
    "        print(w2v_model.wv.most_similar('worst'))\n",
    "    else:\n",
    "        print(\"you don't have gogole's word2vec file, keep want_to_train_w2v = True, to train your own w2v \")"
   ]
  },
  {
   "cell_type": "code",
   "execution_count": 1,
   "metadata": {
    "id": "JEJGArtUCAae",
    "outputId": "943e0fc6-83f8-455b-ba53-8dd05428fc92"
   },
   "outputs": [
    {
     "ename": "NameError",
     "evalue": "name 'w2v_model' is not defined",
     "output_type": "error",
     "traceback": [
      "\u001b[1;31m---------------------------------------------------------------------------\u001b[0m",
      "\u001b[1;31mNameError\u001b[0m                                 Traceback (most recent call last)",
      "\u001b[1;32m~\\AppData\\Local\\Temp/ipykernel_21412/529347016.py\u001b[0m in \u001b[0;36m<module>\u001b[1;34m\u001b[0m\n\u001b[1;32m----> 1\u001b[1;33m \u001b[0mw2v_words\u001b[0m \u001b[1;33m=\u001b[0m \u001b[0mlist\u001b[0m\u001b[1;33m(\u001b[0m\u001b[0mw2v_model\u001b[0m\u001b[1;33m.\u001b[0m\u001b[0mvocab\u001b[0m\u001b[1;33m)\u001b[0m\u001b[1;33m\u001b[0m\u001b[1;33m\u001b[0m\u001b[0m\n\u001b[0m\u001b[0;32m      2\u001b[0m \u001b[0mprint\u001b[0m\u001b[1;33m(\u001b[0m\u001b[1;34m\"number of words that occured minimum 5 times \"\u001b[0m\u001b[1;33m,\u001b[0m\u001b[0mlen\u001b[0m\u001b[1;33m(\u001b[0m\u001b[0mw2v_words\u001b[0m\u001b[1;33m)\u001b[0m\u001b[1;33m)\u001b[0m\u001b[1;33m\u001b[0m\u001b[1;33m\u001b[0m\u001b[0m\n\u001b[0;32m      3\u001b[0m \u001b[0mprint\u001b[0m\u001b[1;33m(\u001b[0m\u001b[1;34m\"sample words \"\u001b[0m\u001b[1;33m,\u001b[0m \u001b[0mw2v_words\u001b[0m\u001b[1;33m[\u001b[0m\u001b[1;36m0\u001b[0m\u001b[1;33m:\u001b[0m\u001b[1;36m50\u001b[0m\u001b[1;33m]\u001b[0m\u001b[1;33m)\u001b[0m\u001b[1;33m\u001b[0m\u001b[1;33m\u001b[0m\u001b[0m\n",
      "\u001b[1;31mNameError\u001b[0m: name 'w2v_model' is not defined"
     ]
    }
   ],
   "source": [
    "w2v_words = list(w2v_model.vocab)\n",
    "print(\"number of words that occured minimum 5 times \",len(w2v_words))\n",
    "print(\"sample words \", w2v_words[0:50])"
   ]
  },
  {
   "cell_type": "markdown",
   "metadata": {
    "id": "EPjGCg7UCAag"
   },
   "source": [
    "## [4.4.1] Converting text into vectors using wAvg W2V, TFIDF-W2V"
   ]
  },
  {
   "cell_type": "markdown",
   "metadata": {
    "id": "oPxfYXhMCAag"
   },
   "source": [
    "#### [4.4.1.1] Avg W2v"
   ]
  },
  {
   "cell_type": "code",
   "execution_count": null,
   "metadata": {
    "id": "sB4Y18rQCAag",
    "outputId": "c9f64dac-cc89-43e3-9820-fbc18c39a69e"
   },
   "outputs": [
    {
     "name": "stderr",
     "output_type": "stream",
     "text": [
      "100%|████████████████████████████████████████████████████████████████████████████| 4986/4986 [00:03<00:00, 1330.47it/s]\n"
     ]
    },
    {
     "name": "stdout",
     "output_type": "stream",
     "text": [
      "4986\n",
      "50\n"
     ]
    }
   ],
   "source": [
    "# average Word2Vec\n",
    "# compute average word2vec for each review.\n",
    "sent_vectors = []; # the avg-w2v for each sentence/review is stored in this list\n",
    "for sent in tqdm(list_of_sentance): # for each review/sentence\n",
    "    sent_vec = np.zeros(50) # as word vectors are of zero length 50, you might need to change this to 300 if you use google's w2v\n",
    "    cnt_words =0; # num of words with a valid vector in the sentence/review\n",
    "    for word in sent: # for each word in a review/sentence\n",
    "        if word in w2v_words:\n",
    "            vec = w2v_model.wv[word]\n",
    "            sent_vec += vec\n",
    "            cnt_words += 1\n",
    "    if cnt_words != 0:\n",
    "        sent_vec /= cnt_words\n",
    "    sent_vectors.append(sent_vec)\n",
    "print(len(sent_vectors))\n",
    "print(len(sent_vectors[0]))"
   ]
  },
  {
   "cell_type": "markdown",
   "metadata": {
    "id": "sKAEsZZLCAam"
   },
   "source": [
    "#### [4.4.1.2] TFIDF weighted W2v"
   ]
  },
  {
   "cell_type": "code",
   "execution_count": null,
   "metadata": {
    "id": "pAVTG3brCAao"
   },
   "outputs": [],
   "source": [
    "# S = [\"abc def pqr\", \"def def def abc\", \"pqr pqr def\"]\n",
    "model = TfidfVectorizer()\n",
    "model.fit(preprocessed_reviews)\n",
    "# we are converting a dictionary with word as a key, and the idf as a value\n",
    "dictionary = dict(zip(model.get_feature_names(), list(model.idf_)))"
   ]
  },
  {
   "cell_type": "code",
   "execution_count": null,
   "metadata": {
    "id": "Tyxhz3XQCAap",
    "outputId": "e72f3ca0-7d29-4657-a107-c5d678514cf3",
    "scrolled": false
   },
   "outputs": [
    {
     "name": "stderr",
     "output_type": "stream",
     "text": [
      "100%|█████████████████████████████████████████████████████████████████████████████| 4986/4986 [00:20<00:00, 245.63it/s]\n"
     ]
    }
   ],
   "source": [
    "# TF-IDF weighted Word2Vec\n",
    "tfidf_feat = model.get_feature_names() # tfidf words/col-names\n",
    "# final_tf_idf is the sparse matrix with row= sentence, col=word and cell_val = tfidf\n",
    "\n",
    "tfidf_sent_vectors = []; # the tfidf-w2v for each sentence/review is stored in this list\n",
    "row=0;\n",
    "for sent in tqdm(list_of_sentance): # for each review/sentence \n",
    "    sent_vec = np.zeros(50) # as word vectors are of zero length\n",
    "    weight_sum =0; # num of words with a valid vector in the sentence/review\n",
    "    for word in sent: # for each word in a review/sentence\n",
    "        if word in w2v_words and word in tfidf_feat:\n",
    "            vec = w2v_model.wv[word]\n",
    "#             tf_idf = tf_idf_matrix[row, tfidf_feat.index(word)]\n",
    "            # to reduce the computation we are \n",
    "            # dictionary[word] = idf value of word in whole courpus\n",
    "            # sent.count(word) = tf valeus of word in this review\n",
    "            tf_idf = dictionary[word]*(sent.count(word)/len(sent))\n",
    "            sent_vec += (vec * tf_idf)\n",
    "            weight_sum += tf_idf\n",
    "    if weight_sum != 0:\n",
    "        sent_vec /= weight_sum\n",
    "    tfidf_sent_vectors.append(sent_vec)\n",
    "    row += 1"
   ]
  },
  {
   "cell_type": "code",
   "execution_count": 30,
   "metadata": {},
   "outputs": [],
   "source": [
    "from gensim.models import Word2Vec"
   ]
  },
  {
   "cell_type": "raw",
   "metadata": {},
   "source": []
  },
  {
   "cell_type": "code",
   "execution_count": null,
   "metadata": {},
   "outputs": [],
   "source": []
  },
  {
   "cell_type": "code",
   "execution_count": null,
   "metadata": {},
   "outputs": [],
   "source": []
  },
  {
   "cell_type": "code",
   "execution_count": null,
   "metadata": {},
   "outputs": [],
   "source": []
  },
  {
   "cell_type": "code",
   "execution_count": null,
   "metadata": {},
   "outputs": [],
   "source": []
  },
  {
   "cell_type": "code",
   "execution_count": null,
   "metadata": {},
   "outputs": [],
   "source": []
  },
  {
   "cell_type": "code",
   "execution_count": null,
   "metadata": {},
   "outputs": [],
   "source": []
  }
 ],
 "metadata": {
  "colab": {
   "collapsed_sections": [],
   "name": "Amazon Fine Food Reviews Analysis.ipynb",
   "provenance": []
  },
  "kernelspec": {
   "display_name": "Python 3 (ipykernel)",
   "language": "python",
   "name": "python3"
  },
  "language_info": {
   "codemirror_mode": {
    "name": "ipython",
    "version": 3
   },
   "file_extension": ".py",
   "mimetype": "text/x-python",
   "name": "python",
   "nbconvert_exporter": "python",
   "pygments_lexer": "ipython3",
   "version": "3.9.8"
  },
  "toc": {
   "base_numbering": 1,
   "nav_menu": {},
   "number_sections": true,
   "sideBar": true,
   "skip_h1_title": true,
   "title_cell": "Table of Contents",
   "title_sidebar": "Contents",
   "toc_cell": false,
   "toc_position": {},
   "toc_section_display": true,
   "toc_window_display": false
  }
 },
 "nbformat": 4,
 "nbformat_minor": 1
}
